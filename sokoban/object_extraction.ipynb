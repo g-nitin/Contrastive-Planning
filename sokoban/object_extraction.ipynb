{
 "cells": [
  {
   "metadata": {},
   "cell_type": "markdown",
   "source": [
    "# Object Extraction\n",
    "Create a template SPARQL query for finding the lifted pre-conditions and effects of a user (NL) query.\n",
    "   1. Extract the object from the user query (grounded version). Ex. Extract “unstack b2 b1” as the object.\n",
    "   2. Get the pre-conditions and effects of the lifted version of the object. Ex. Finding the details of “unstack”."
   ],
   "id": "f632bee2298e2800"
  },
  {
   "metadata": {},
   "cell_type": "markdown",
   "source": [
    "## 1. Extract Grounded Objects from User Queries \n",
    "\n",
    "Given a user natural language (NL) query, extract the grounded object(s) from the user query. Some examples: \n",
    "\n",
    "- extract “moveLeft x1 y1” from the NL query “Why is moveLeft x1 y1 not used in the plan?”.\n",
    "- extract “moveLeft x1 y1” from the NL query “Why is moveLeft x1 y1 used in the plan?”.\n",
    "- extract both “moveLeft x1 y1” and “moveRight x1 y1” from the NL query “Why is moveLeft x1 y1 used rather than moveRight x1 y1?”.\n",
    "\n",
    "Possible grounded objects: moveright, moveleft, moveup, movedown, pushright, pushleft, pushup, pushdown"
   ],
   "id": "ba2a58dcd85776ba"
  },
  {
   "metadata": {
    "ExecuteTime": {
     "end_time": "2024-06-10T02:49:22.610275Z",
     "start_time": "2024-06-10T02:49:22.606751Z"
    }
   },
   "cell_type": "code",
   "source": "import re",
   "id": "1116b00770865b2f",
   "outputs": [],
   "execution_count": 1
  },
  {
   "metadata": {
    "ExecuteTime": {
     "end_time": "2024-06-10T02:54:38.870062Z",
     "start_time": "2024-06-10T02:54:38.867168Z"
    }
   },
   "cell_type": "code",
   "source": [
    "def extract_grounded_objects(query):\n",
    "    # Define a list of possible grounded actions\n",
    "    actions = [\n",
    "        \"moveright\", \"moveleft\", \"moveup\", \"movedown\",\n",
    "        \"pushright\", \"pushleft\", \"pushup\", \"pushdown\"\n",
    "    ]\n",
    "    \n",
    "    # Build a regex pattern that matches any of the actions followed by coordinates\n",
    "    # The pattern is built as follows: \n",
    "        # \\b asserts a word boundary.\n",
    "        # ({action_pattern}) matches any of the defined actions.\n",
    "        # \\s+ matches one or more whitespace characters.\n",
    "        # \\w+ matches one or more word characters (representing the coordinates).\n",
    "    action_pattern = \"|\".join(actions)\n",
    "    pattern = rf'\\b({action_pattern})\\s+\\w+\\s+\\w+\\b'\n",
    "    \n",
    "    # Capture the whole pattern (not just the first capturing group).\n",
    "    full_matches = re.finditer(pattern, query, re.IGNORECASE)\n",
    "    \n",
    "    # Extract and return the complete matches\n",
    "    extracted_objects = [match.group(0) for match in full_matches]\n",
    "    return extracted_objects"
   ],
   "id": "75eb52d4b623b0b8",
   "outputs": [],
   "execution_count": 5
  },
  {
   "cell_type": "code",
   "id": "initial_id",
   "metadata": {
    "collapsed": true,
    "ExecuteTime": {
     "end_time": "2024-06-10T02:54:39.687191Z",
     "start_time": "2024-06-10T02:54:39.684772Z"
    }
   },
   "source": [
    "# Test examples\n",
    "queries = [\n",
    "    \"Why is moveLeft x1 y1 not used in the plan?\",\n",
    "    \"Why is moveLeft x1 y1 used in the plan?\",\n",
    "    \"Why is moveLeft x1 y1 used rather than moveRight x1 y1?\",\n",
    "]\n",
    "\n",
    "# Extract grounded objects for each query\n",
    "extracted_objects = [extract_grounded_objects(query) for query in queries]\n",
    "\n",
    "# Print results\n",
    "for i, query in enumerate(queries):\n",
    "    print(f\"Query: '{query}'\\nExtracted: {extracted_objects[i]}\\n\")"
   ],
   "outputs": [
    {
     "name": "stdout",
     "output_type": "stream",
     "text": [
      "Query: 'Why is moveLeft x1 y1 not used in the plan?'\n",
      "Extracted: ['moveLeft x1 y1']\n",
      "\n",
      "Query: 'Why is moveLeft x1 y1 used in the plan?'\n",
      "Extracted: ['moveLeft x1 y1']\n",
      "\n",
      "Query: 'Why is moveLeft x1 y1 used rather than moveRight x1 y1?'\n",
      "Extracted: ['moveLeft x1 y1', 'moveRight x1 y1']\n",
      "\n"
     ]
    }
   ],
   "execution_count": 6
  },
  {
   "metadata": {},
   "cell_type": "markdown",
   "source": "<br>",
   "id": "3f181da7a0f0b232"
  },
  {
   "metadata": {},
   "cell_type": "markdown",
   "source": "## 2. Get Pre-conditions and Effects of Lifted Objects",
   "id": "64b4d8121699b771"
  },
  {
   "metadata": {
    "ExecuteTime": {
     "end_time": "2024-06-10T02:58:26.142837Z",
     "start_time": "2024-06-10T02:58:26.076092Z"
    }
   },
   "cell_type": "code",
   "source": [
    "import rdflib\n",
    "from pprint import pprint"
   ],
   "id": "2c4416cedf5e6012",
   "outputs": [],
   "execution_count": 8
  },
  {
   "metadata": {
    "ExecuteTime": {
     "end_time": "2024-06-10T02:58:37.298146Z",
     "start_time": "2024-06-10T02:58:37.264684Z"
    }
   },
   "cell_type": "code",
   "source": [
    "file_path: str = \"AI-Planning-Ontology/models/plan-ontology-rdf-instances_sokoban.owl\"\n",
    "\n",
    "g = rdflib.Graph().parse(file_path, format=\"xml\")"
   ],
   "id": "4028457294a0c84b",
   "outputs": [],
   "execution_count": 9
  },
  {
   "metadata": {
    "ExecuteTime": {
     "end_time": "2024-06-10T02:58:43.221946Z",
     "start_time": "2024-06-10T02:58:43.220116Z"
    }
   },
   "cell_type": "code",
   "source": [
    "def get_query_results(query: str):\n",
    "    to_return = []\n",
    "    \n",
    "    for r in g.query(query):\n",
    "        to_return.append(r)\n",
    "    \n",
    "    return to_return"
   ],
   "id": "3c6722017f6632ca",
   "outputs": [],
   "execution_count": 10
  },
  {
   "metadata": {
    "ExecuteTime": {
     "end_time": "2024-06-10T02:58:53.072176Z",
     "start_time": "2024-06-10T02:58:52.974889Z"
    }
   },
   "cell_type": "code",
   "source": [
    "# Get all preconditions for the specified action\n",
    "action = \"moveup\"\n",
    "\n",
    "actions = get_query_results(\n",
    "    f\"\"\"\n",
    "    PREFIX planning: <https://purl.org/ai4s/ontology/planning#>\n",
    "    PREFIX rdf: <http://www.w3.org/2000/01/rdf-schema#>\n",
    "    \n",
    "    SELECT ?aLabel\n",
    "    WHERE {{\n",
    "        planning:{action} planning:hasPrecondition ?condition .\n",
    "        ?condition rdf:label ?aLabel .\n",
    "    }}\n",
    "    \"\"\"\n",
    ")\n",
    "\n",
    "print(f\"Preconditions for {action}:\")\n",
    "pprint(actions)"
   ],
   "id": "778e86c38357364e",
   "outputs": [
    {
     "name": "stdout",
     "output_type": "stream",
     "text": [
      "Preconditions for moveup:\n",
      "[(rdflib.term.Literal('(sokoban ?sokoban)'),),\n",
      " (rdflib.term.Literal('(at ?sokoban ?x)'),),\n",
      " (rdflib.term.Literal('(below ?x ?y)'),),\n",
      " (rdflib.term.Literal('(clear ?y)'),)]\n"
     ]
    }
   ],
   "execution_count": 11
  },
  {
   "metadata": {
    "ExecuteTime": {
     "end_time": "2024-06-10T02:58:54.472378Z",
     "start_time": "2024-06-10T02:58:54.466782Z"
    }
   },
   "cell_type": "code",
   "source": [
    "# Get all effects for the specified action\n",
    "action = \"moveup\"\n",
    "\n",
    "actions = get_query_results(\n",
    "    f\"\"\"\n",
    "    PREFIX planning: <https://purl.org/ai4s/ontology/planning#>\n",
    "    PREFIX rdf: <http://www.w3.org/2000/01/rdf-schema#>\n",
    "    \n",
    "    SELECT ?aLabel\n",
    "    WHERE {{\n",
    "        planning:{action} planning:hasEffect ?effect .\n",
    "        ?effect rdf:label ?aLabel .\n",
    "    }}\n",
    "    \"\"\"\n",
    ")\n",
    "\n",
    "print(f\"Effects for {action}:\")\n",
    "pprint(actions)"
   ],
   "id": "5300d598853a7757",
   "outputs": [
    {
     "name": "stdout",
     "output_type": "stream",
     "text": [
      "Effects for moveup:\n",
      "[(rdflib.term.Literal('(at ?sokoban ?y)'),),\n",
      " (rdflib.term.Literal('(clear ?x)'),),\n",
      " (rdflib.term.Literal('(not (at ?sokoban ?x))'),),\n",
      " (rdflib.term.Literal('(not (clear ?y))'),)]\n"
     ]
    }
   ],
   "execution_count": 12
  }
 ],
 "metadata": {
  "kernelspec": {
   "display_name": "Python 3",
   "language": "python",
   "name": "python3"
  },
  "language_info": {
   "codemirror_mode": {
    "name": "ipython",
    "version": 2
   },
   "file_extension": ".py",
   "mimetype": "text/x-python",
   "name": "python",
   "nbconvert_exporter": "python",
   "pygments_lexer": "ipython2",
   "version": "2.7.6"
  }
 },
 "nbformat": 4,
 "nbformat_minor": 5
}
