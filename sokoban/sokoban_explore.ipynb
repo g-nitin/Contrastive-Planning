{
 "cells": [
  {
   "metadata": {},
   "cell_type": "markdown",
   "source": [
    "# Sokoban Ontology Exploration\n",
    "The file takes in the Sokoban ontology and explores the triples in the ontology."
   ],
   "id": "fc0466f1a9eaa437"
  },
  {
   "metadata": {
    "ExecuteTime": {
     "end_time": "2024-05-21T01:39:06.508803Z",
     "start_time": "2024-05-21T01:39:06.506031Z"
    }
   },
   "cell_type": "code",
   "source": "import rdflib",
   "id": "a614f5ddaf6d345",
   "outputs": [],
   "execution_count": 2
  },
  {
   "cell_type": "code",
   "id": "initial_id",
   "metadata": {
    "collapsed": true,
    "ExecuteTime": {
     "end_time": "2024-05-21T01:39:07.249163Z",
     "start_time": "2024-05-21T01:39:07.244722Z"
    }
   },
   "source": "file_path: str = \"AI-Planning-Ontology/models/plan-ontology-rdf-instances_sokoban.owl\"",
   "outputs": [],
   "execution_count": 3
  },
  {
   "metadata": {
    "ExecuteTime": {
     "end_time": "2024-05-21T01:41:55.677704Z",
     "start_time": "2024-05-21T01:41:55.629951Z"
    }
   },
   "cell_type": "code",
   "source": "g = rdflib.Graph().parse(file_path, format=\"xml\")",
   "id": "20994190ebc93b41",
   "outputs": [],
   "execution_count": 4
  },
  {
   "metadata": {
    "ExecuteTime": {
     "end_time": "2024-05-21T02:18:05.128006Z",
     "start_time": "2024-05-21T02:18:05.125016Z"
    }
   },
   "cell_type": "code",
   "source": [
    "print(len(g))\n",
    "print(type(g))"
   ],
   "id": "a3808d612aad0c76",
   "outputs": [
    {
     "name": "stdout",
     "output_type": "stream",
     "text": [
      "860\n",
      "<class 'rdflib.graph.Graph'>\n"
     ]
    }
   ],
   "execution_count": 25
  },
  {
   "metadata": {
    "ExecuteTime": {
     "end_time": "2024-05-21T02:20:51.944802Z",
     "start_time": "2024-05-21T02:20:51.934902Z"
    }
   },
   "cell_type": "code",
   "source": [
    "with open(\"./sokoban_triples.txt\", \"w\") as f:\n",
    "    for s, p, o in g:\n",
    "        f.write(f\"{s}\\t{p}\\t{o}\\n\")"
   ],
   "id": "7016a8217845a87c",
   "outputs": [],
   "execution_count": 27
  },
  {
   "metadata": {},
   "cell_type": "markdown",
   "source": "<br>",
   "id": "47ce913fedf5cd5e"
  },
  {
   "metadata": {
    "ExecuteTime": {
     "end_time": "2024-05-21T20:36:56.463798Z",
     "start_time": "2024-05-21T20:36:56.460668Z"
    }
   },
   "cell_type": "code",
   "source": [
    "# Get all actions (moveright, moveleft, moveup, movedown, pushright, pushleft, pushup, pushdown)\n",
    "actions_query = \"\"\"\n",
    "PREFIX planning: <https://purl.org/ai4s/ontology/planning#>\n",
    "\n",
    "SELECT ?action\n",
    "WHERE {\n",
    "    planning:sokoban planning:hasAction ?action .\n",
    "}\n",
    "\"\"\""
   ],
   "id": "d5d57199b3d533d",
   "outputs": [],
   "execution_count": 51
  },
  {
   "metadata": {
    "ExecuteTime": {
     "end_time": "2024-05-21T20:36:56.692999Z",
     "start_time": "2024-05-21T20:36:56.684601Z"
    }
   },
   "cell_type": "code",
   "source": "len(g.query(actions_query))",
   "id": "9133268133618476",
   "outputs": [
    {
     "data": {
      "text/plain": [
       "8"
      ]
     },
     "execution_count": 52,
     "metadata": {},
     "output_type": "execute_result"
    }
   ],
   "execution_count": 52
  },
  {
   "metadata": {
    "ExecuteTime": {
     "end_time": "2024-05-21T20:36:57.068936Z",
     "start_time": "2024-05-21T20:36:57.061578Z"
    }
   },
   "cell_type": "code",
   "source": [
    "for r in g.query(actions_query):\n",
    "    print(r.action)"
   ],
   "id": "fd22c1e2019c5f08",
   "outputs": [
    {
     "name": "stdout",
     "output_type": "stream",
     "text": [
      "https://purl.org/ai4s/ontology/planning#moveleft\n",
      "https://purl.org/ai4s/ontology/planning#moveright\n",
      "https://purl.org/ai4s/ontology/planning#moveup\n",
      "https://purl.org/ai4s/ontology/planning#movedown\n",
      "https://purl.org/ai4s/ontology/planning#pushleft\n",
      "https://purl.org/ai4s/ontology/planning#pushright\n",
      "https://purl.org/ai4s/ontology/planning#pushup\n",
      "https://purl.org/ai4s/ontology/planning#pushdown\n"
     ]
    }
   ],
   "execution_count": 53
  },
  {
   "metadata": {},
   "cell_type": "code",
   "outputs": [],
   "execution_count": null,
   "source": "",
   "id": "dafff1f1519dab77"
  }
 ],
 "metadata": {
  "kernelspec": {
   "display_name": "Python 3",
   "language": "python",
   "name": "python3"
  },
  "language_info": {
   "codemirror_mode": {
    "name": "ipython",
    "version": 2
   },
   "file_extension": ".py",
   "mimetype": "text/x-python",
   "name": "python",
   "nbconvert_exporter": "python",
   "pygments_lexer": "ipython2",
   "version": "2.7.6"
  }
 },
 "nbformat": 4,
 "nbformat_minor": 5
}
