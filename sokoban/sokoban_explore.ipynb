{
 "cells": [
  {
   "metadata": {},
   "cell_type": "markdown",
   "source": [
    "# Sokoban Ontology Exploration\n",
    "The file takes in the Sokoban ontology and explores the triples in the ontology."
   ],
   "id": "fc0466f1a9eaa437"
  },
  {
   "metadata": {
    "ExecuteTime": {
     "end_time": "2024-06-10T02:15:00.343987Z",
     "start_time": "2024-06-10T02:15:00.341897Z"
    }
   },
   "cell_type": "code",
   "source": [
    "import rdflib\n",
    "from pprint import pprint"
   ],
   "id": "a614f5ddaf6d345",
   "outputs": [],
   "execution_count": 43
  },
  {
   "cell_type": "code",
   "id": "initial_id",
   "metadata": {
    "collapsed": true,
    "ExecuteTime": {
     "end_time": "2024-06-10T02:00:39.263161Z",
     "start_time": "2024-06-10T02:00:39.259329Z"
    }
   },
   "source": "file_path: str = \"AI-Planning-Ontology/models/plan-ontology-rdf-instances_sokoban.owl\"",
   "outputs": [],
   "execution_count": 2
  },
  {
   "metadata": {
    "ExecuteTime": {
     "end_time": "2024-06-10T02:00:39.308672Z",
     "start_time": "2024-06-10T02:00:39.265263Z"
    }
   },
   "cell_type": "code",
   "source": "g = rdflib.Graph().parse(file_path, format=\"xml\")",
   "id": "20994190ebc93b41",
   "outputs": [],
   "execution_count": 3
  },
  {
   "metadata": {
    "ExecuteTime": {
     "end_time": "2024-06-10T02:00:39.312585Z",
     "start_time": "2024-06-10T02:00:39.309468Z"
    }
   },
   "cell_type": "code",
   "source": [
    "print(len(g))\n",
    "print(type(g))"
   ],
   "id": "a3808d612aad0c76",
   "outputs": [
    {
     "name": "stdout",
     "output_type": "stream",
     "text": [
      "860\n",
      "<class 'rdflib.graph.Graph'>\n"
     ]
    }
   ],
   "execution_count": 4
  },
  {
   "metadata": {
    "ExecuteTime": {
     "end_time": "2024-06-10T02:00:39.320162Z",
     "start_time": "2024-06-10T02:00:39.315199Z"
    }
   },
   "cell_type": "code",
   "source": [
    "with open(\"./sokoban_triples.txt\", \"w\") as f:\n",
    "    for s, p, o in g:\n",
    "        f.write(f\"{s}\\t{p}\\t{o}\\n\")"
   ],
   "id": "7016a8217845a87c",
   "outputs": [],
   "execution_count": 5
  },
  {
   "metadata": {},
   "cell_type": "markdown",
   "source": "<br>",
   "id": "47ce913fedf5cd5e"
  },
  {
   "metadata": {
    "ExecuteTime": {
     "end_time": "2024-06-10T02:15:02.820671Z",
     "start_time": "2024-06-10T02:15:02.817570Z"
    }
   },
   "cell_type": "code",
   "source": [
    "def get_query_results(query: str):\n",
    "    to_return = []\n",
    "    \n",
    "    for r in g.query(query):\n",
    "        to_return.append(r)\n",
    "    \n",
    "    return to_return"
   ],
   "id": "cfa6a6fad5f10e0c",
   "outputs": [],
   "execution_count": 44
  },
  {
   "metadata": {
    "ExecuteTime": {
     "end_time": "2024-06-10T02:37:03.138874Z",
     "start_time": "2024-06-10T02:37:03.133828Z"
    }
   },
   "cell_type": "code",
   "source": [
    "# Get all actions (moveright, moveleft, moveup, movedown, pushright, pushleft, pushup, pushdown)\n",
    "actions = get_query_results(\n",
    "    \"\"\"\n",
    "    PREFIX planning: <https://purl.org/ai4s/ontology/planning#>\n",
    "    \n",
    "    SELECT ?action\n",
    "    WHERE {\n",
    "        planning:sokoban planning:hasAction ?action .\n",
    "    }\n",
    "    \"\"\"   \n",
    ")\n",
    "\n",
    "pprint(actions)"
   ],
   "id": "d5d57199b3d533d",
   "outputs": [
    {
     "name": "stdout",
     "output_type": "stream",
     "text": [
      "[(rdflib.term.URIRef('https://purl.org/ai4s/ontology/planning#moveleft'),),\n",
      " (rdflib.term.URIRef('https://purl.org/ai4s/ontology/planning#moveright'),),\n",
      " (rdflib.term.URIRef('https://purl.org/ai4s/ontology/planning#moveup'),),\n",
      " (rdflib.term.URIRef('https://purl.org/ai4s/ontology/planning#movedown'),),\n",
      " (rdflib.term.URIRef('https://purl.org/ai4s/ontology/planning#pushleft'),),\n",
      " (rdflib.term.URIRef('https://purl.org/ai4s/ontology/planning#pushright'),),\n",
      " (rdflib.term.URIRef('https://purl.org/ai4s/ontology/planning#pushup'),),\n",
      " (rdflib.term.URIRef('https://purl.org/ai4s/ontology/planning#pushdown'),)]\n"
     ]
    }
   ],
   "execution_count": 51
  },
  {
   "metadata": {
    "ExecuteTime": {
     "end_time": "2024-06-10T02:44:30.282802Z",
     "start_time": "2024-06-10T02:44:30.273153Z"
    }
   },
   "cell_type": "code",
   "source": [
    "# Get all preconditions for the specified action\n",
    "action = \"moveup\"\n",
    "\n",
    "actions = get_query_results(\n",
    "    f\"\"\"\n",
    "    PREFIX planning: <https://purl.org/ai4s/ontology/planning#>\n",
    "    PREFIX rdf: <http://www.w3.org/2000/01/rdf-schema#>\n",
    "    \n",
    "    SELECT ?aLabel\n",
    "    WHERE {{\n",
    "        planning:{action} planning:hasPrecondition ?condition .\n",
    "        ?condition rdf:label ?aLabel .\n",
    "    }}\n",
    "    \"\"\"\n",
    ")\n",
    "\n",
    "print(f\"Preconditions for {action}:\")\n",
    "pprint(actions)"
   ],
   "id": "c8aaba17a37d29c4",
   "outputs": [
    {
     "name": "stdout",
     "output_type": "stream",
     "text": [
      "Preconditions for moveup:\n",
      "[(rdflib.term.Literal('(sokoban ?sokoban)'),),\n",
      " (rdflib.term.Literal('(at ?sokoban ?x)'),),\n",
      " (rdflib.term.Literal('(below ?x ?y)'),),\n",
      " (rdflib.term.Literal('(clear ?y)'),)]\n"
     ]
    }
   ],
   "execution_count": 60
  },
  {
   "metadata": {
    "ExecuteTime": {
     "end_time": "2024-06-10T02:43:57.390394Z",
     "start_time": "2024-06-10T02:43:57.383059Z"
    }
   },
   "cell_type": "code",
   "source": [
    "# Get all effects for the specified action\n",
    "action = \"moveup\"\n",
    "\n",
    "actions = get_query_results(\n",
    "    f\"\"\"\n",
    "    PREFIX planning: <https://purl.org/ai4s/ontology/planning#>\n",
    "    PREFIX rdf: <http://www.w3.org/2000/01/rdf-schema#>\n",
    "    \n",
    "    SELECT ?aLabel\n",
    "    WHERE {{\n",
    "        planning:{action} planning:hasEffect ?effect .\n",
    "        ?effect rdf:label ?aLabel .\n",
    "    }}\n",
    "    \"\"\"\n",
    ")\n",
    "\n",
    "print(f\"Effects for {action}:\")\n",
    "pprint(actions)"
   ],
   "id": "ca8b895b1bd9dd03",
   "outputs": [
    {
     "name": "stdout",
     "output_type": "stream",
     "text": [
      "Effects for moveup:\n",
      "[(rdflib.term.Literal('(at ?sokoban ?y)'),),\n",
      " (rdflib.term.Literal('(clear ?x)'),),\n",
      " (rdflib.term.Literal('(not (at ?sokoban ?x))'),),\n",
      " (rdflib.term.Literal('(not (clear ?y))'),)]\n"
     ]
    }
   ],
   "execution_count": 59
  }
 ],
 "metadata": {
  "kernelspec": {
   "display_name": "Python 3",
   "language": "python",
   "name": "python3"
  },
  "language_info": {
   "codemirror_mode": {
    "name": "ipython",
    "version": 2
   },
   "file_extension": ".py",
   "mimetype": "text/x-python",
   "name": "python",
   "nbconvert_exporter": "python",
   "pygments_lexer": "ipython2",
   "version": "2.7.6"
  }
 },
 "nbformat": 4,
 "nbformat_minor": 5
}
