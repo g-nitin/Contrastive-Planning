{
 "cells": [
  {
   "metadata": {},
   "cell_type": "markdown",
   "source": [
    "# Object Extraction\n",
    "Create a template SPARQL query for finding the lifted pre-conditions and effects of a user (NL) query.\n",
    "   1. Extract the object from the user query (grounded version). Ex. Extract “unstack b2 b1” as the object.\n",
    "   2. Get the pre-conditions and effects of the lifted version of the object. Ex. Finding the details of “unstack”."
   ],
   "id": "f632bee2298e2800"
  },
  {
   "metadata": {
    "ExecuteTime": {
     "end_time": "2024-07-23T17:56:02.446325Z",
     "start_time": "2024-07-23T17:56:02.377074Z"
    }
   },
   "cell_type": "code",
   "source": [
    "import rdflib\n",
    "from code.templates import rdf_utils\n",
    "from typing import List"
   ],
   "id": "b501ed41452ef434",
   "outputs": [],
   "execution_count": 1
  },
  {
   "metadata": {},
   "cell_type": "markdown",
   "source": [
    "## Extract Grounded Objects from User Queries \n",
    "\n",
    "Given a user natural language (NL) query, extract the grounded object(s) from the user query. Some examples: \n",
    "\n",
    "- extract “moveLeft sokoban x1 y1” from the NL query “Why is moveLeft sokoban x1 y1 not used in the plan?”.\n",
    "- extract “moveLeft sokoban x1 y1” from the NL query “Why is moveLeft sokoban x1 y1 used in the plan?”.\n",
    "- extract both “moveLeft sokoban x1 y1” and “moveRight sokoban x1 y1” from the NL query “Why is moveLeft sokoban x1 y1 used rather than moveRight sokoban x1 y1?”.\n",
    "\n",
    "Possible grounded objects for Sokoban: moveright, moveleft, moveup, movedown, pushright, pushleft, pushup, pushdown"
   ],
   "id": "ba2a58dcd85776ba"
  },
  {
   "metadata": {
    "ExecuteTime": {
     "end_time": "2024-07-23T17:56:02.474256Z",
     "start_time": "2024-07-23T17:56:02.447259Z"
    }
   },
   "cell_type": "code",
   "source": [
    "file_path: str = \"../../data/sokoban/plan-ontology-rdf-instances_sokoban.owl\"\n",
    "g: rdflib.graph.Graph = rdflib.Graph().parse(file_path, format=\"xml\")"
   ],
   "id": "e1ddaf646cf54226",
   "outputs": [],
   "execution_count": 2
  },
  {
   "metadata": {
    "ExecuteTime": {
     "end_time": "2024-07-23T17:56:02.547358Z",
     "start_time": "2024-07-23T17:56:02.474807Z"
    }
   },
   "cell_type": "code",
   "source": [
    "# Get all actions\n",
    "actions: List[str] = rdf_utils.get_actions_from_rdf(g, 'sokoban')\n",
    "actions"
   ],
   "id": "196fb534ad97cca4",
   "outputs": [
    {
     "data": {
      "text/plain": [
       "['moveleft',\n",
       " 'moveright',\n",
       " 'moveup',\n",
       " 'movedown',\n",
       " 'pushleft',\n",
       " 'pushright',\n",
       " 'pushup',\n",
       " 'pushdown']"
      ]
     },
     "execution_count": 3,
     "metadata": {},
     "output_type": "execute_result"
    }
   ],
   "execution_count": 3
  },
  {
   "metadata": {
    "ExecuteTime": {
     "end_time": "2024-07-23T17:56:02.551658Z",
     "start_time": "2024-07-23T17:56:02.549182Z"
    }
   },
   "cell_type": "code",
   "source": [
    "# Create a dictionary for the actions and their number of parameters \n",
    "# Keys: actions (string); Values: number of parameters (int)\n",
    "actions_dict: dict[str, int] = {action: 0 for action in actions}"
   ],
   "id": "2313bb4a9bfb06b3",
   "outputs": [],
   "execution_count": 4
  },
  {
   "metadata": {
    "ExecuteTime": {
     "end_time": "2024-07-23T17:56:02.574807Z",
     "start_time": "2024-07-23T17:56:02.552864Z"
    }
   },
   "cell_type": "code",
   "source": [
    "# Get parameters for the actions\n",
    "for action in actions_dict.keys():\n",
    "    parameters: List[str] = rdf_utils.get_parameters_from_rdf(g, action)\n",
    "    actions_dict[action] = len(parameters)  # Update the number of parameters\n",
    "\n",
    "actions_dict"
   ],
   "id": "1b6dd66bc2ad1b77",
   "outputs": [
    {
     "data": {
      "text/plain": [
       "{'moveleft': 3,\n",
       " 'moveright': 3,\n",
       " 'moveup': 3,\n",
       " 'movedown': 3,\n",
       " 'pushleft': 5,\n",
       " 'pushright': 5,\n",
       " 'pushup': 5,\n",
       " 'pushdown': 5}"
      ]
     },
     "execution_count": 5,
     "metadata": {},
     "output_type": "execute_result"
    }
   ],
   "execution_count": 5
  },
  {
   "metadata": {
    "ExecuteTime": {
     "end_time": "2024-07-23T17:56:02.581418Z",
     "start_time": "2024-07-23T17:56:02.576648Z"
    }
   },
   "cell_type": "code",
   "source": [
    "# Test examples\n",
    "queries = [\n",
    "    \"Why is moveLeft sokoban x1 y1 not used in the plan?\",\n",
    "    \"Why is moveLeft sokoban x1 y1 used rather than moveRight sokoban x1 y1?\",\n",
    "    \"Why is moveup sokoban x1 y1 z1 used rather than pushdown sokoban x1 y1 a1 b1?\",\n",
    "]\n",
    "\n",
    "# Extract grounded objects for each query\n",
    "extracted_objects = [rdf_utils.extract_grounded_objects(query, actions_dict) for query in queries]\n",
    "\n",
    "# Print results\n",
    "for i, query in enumerate(queries):\n",
    "    print(f\"Query: '{query}'\\nExtracted: {extracted_objects[i]}\\n\")"
   ],
   "id": "d68224c37d7b9e06",
   "outputs": [
    {
     "name": "stdout",
     "output_type": "stream",
     "text": [
      "Query: 'Why is moveLeft sokoban x1 y1 not used in the plan?'\n",
      "Extracted: ['moveLeft sokoban x1 y1']\n",
      "\n",
      "Query: 'Why is moveLeft sokoban x1 y1 used rather than moveRight sokoban x1 y1?'\n",
      "Extracted: ['moveLeft sokoban x1 y1', 'moveRight sokoban x1 y1']\n",
      "\n",
      "Query: 'Why is moveup sokoban x1 y1 z1 used rather than pushdown sokoban x1 y1 a1 b1?'\n",
      "Extracted: ['moveup sokoban x1 y1', 'pushdown sokoban x1 y1 a1 b1']\n",
      "\n"
     ]
    }
   ],
   "execution_count": 6
  },
  {
   "metadata": {},
   "cell_type": "markdown",
   "source": [
    "## Get Grounded Predicates\n",
    "Given the grounded object(s) extracted from the user query, get the grounded pre-conditions and effects of the object(s)."
   ],
   "id": "b2385ce968fac624"
  },
  {
   "metadata": {
    "ExecuteTime": {
     "end_time": "2024-07-23T17:56:02.645011Z",
     "start_time": "2024-07-23T17:56:02.582974Z"
    }
   },
   "cell_type": "code",
   "source": [
    "for objects in extracted_objects:\n",
    "    for obj in objects:  # Since there can be multiple objects\n",
    "        preconditions, effects = rdf_utils.get_grounded_predicates(obj, g)\n",
    "        print(f\"Object: {obj}\\nPreconditions: {preconditions}\\nEffects: {effects}\\n\")"
   ],
   "id": "a2c4f3ab9501dfdd",
   "outputs": [
    {
     "name": "stdout",
     "output_type": "stream",
     "text": [
      "Object: moveLeft sokoban x1 y1\n",
      "Preconditions: ['sokoban sokoban', 'at sokoban x1', 'leftOf y1 x1', 'clear y1']\n",
      "Effects: ['at sokoban y1', 'clear x1', 'not (at sokoban x1)', 'not (clear y1)']\n",
      "\n",
      "Object: moveLeft sokoban x1 y1\n",
      "Preconditions: ['sokoban sokoban', 'at sokoban x1', 'leftOf y1 x1', 'clear y1']\n",
      "Effects: ['at sokoban y1', 'clear x1', 'not (at sokoban x1)', 'not (clear y1)']\n",
      "\n",
      "Object: moveRight sokoban x1 y1\n",
      "Preconditions: ['sokoban sokoban', 'at sokoban x1', 'leftOf x1 y1', 'clear y1']\n",
      "Effects: ['at sokoban y1', 'clear x1', 'not (at sokoban x1)', 'not (clear y1)']\n",
      "\n",
      "Object: moveup sokoban x1 y1\n",
      "Preconditions: ['sokoban sokoban', 'at sokoban x1', 'below x1 y1', 'clear y1']\n",
      "Effects: ['at sokoban y1', 'clear x1', 'not (at sokoban x1)', 'not (clear y1)']\n",
      "\n",
      "Object: pushdown sokoban x1 y1 a1 b1\n",
      "Preconditions: ['sokoban sokoban', 'crate b1', 'below y1 x1', 'below a1 y1', 'at sokoban x1', 'at b1 y1', 'clear a1']\n",
      "Effects: ['at sokoban y1', 'at b1 a1', 'clear x1', 'not (at sokoban x1)', 'not (at b1 y1)', 'not (clear y1)', 'not (clear a1)']\n",
      "\n"
     ]
    }
   ],
   "execution_count": 7
  }
 ],
 "metadata": {
  "kernelspec": {
   "display_name": "Python 3",
   "language": "python",
   "name": "python3"
  },
  "language_info": {
   "codemirror_mode": {
    "name": "ipython",
    "version": 2
   },
   "file_extension": ".py",
   "mimetype": "text/x-python",
   "name": "python",
   "nbconvert_exporter": "python",
   "pygments_lexer": "ipython2",
   "version": "2.7.6"
  }
 },
 "nbformat": 4,
 "nbformat_minor": 5
}
