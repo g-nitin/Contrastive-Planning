{
 "cells": [
  {
   "cell_type": "markdown",
   "id": "fc0466f1a9eaa437",
   "metadata": {},
   "source": [
    "# Sokoban Ontology Exploration\n",
    "The file takes in the Sokoban ontology and explores the triples in the ontology."
   ]
  },
  {
   "cell_type": "code",
   "id": "a614f5ddaf6d345",
   "metadata": {
    "ExecuteTime": {
     "end_time": "2024-06-18T21:16:42.831709Z",
     "start_time": "2024-06-18T21:16:42.766665Z"
    }
   },
   "source": [
    "import rdflib\n",
    "from pprint import pprint\n",
    "from code.templates import rdf_utils\n",
    "from typing import List"
   ],
   "outputs": [],
   "execution_count": 1
  },
  {
   "cell_type": "code",
   "id": "initial_id",
   "metadata": {
    "ExecuteTime": {
     "end_time": "2024-06-18T21:16:43.613961Z",
     "start_time": "2024-06-18T21:16:43.564608Z"
    }
   },
   "source": [
    "file_path: str = \"../../data/sokoban/plan-ontology-rdf-instances_sokoban.owl\"\n",
    "g: rdflib.graph.Graph = rdflib.Graph().parse(file_path, format=\"xml\")"
   ],
   "outputs": [],
   "execution_count": 2
  },
  {
   "cell_type": "code",
   "id": "a3808d612aad0c76",
   "metadata": {
    "ExecuteTime": {
     "end_time": "2024-06-18T21:16:44.052906Z",
     "start_time": "2024-06-18T21:16:44.050164Z"
    }
   },
   "source": "print(len(g))",
   "outputs": [
    {
     "name": "stdout",
     "output_type": "stream",
     "text": [
      "860\n"
     ]
    }
   ],
   "execution_count": 3
  },
  {
   "cell_type": "code",
   "id": "7016a8217845a87c",
   "metadata": {
    "ExecuteTime": {
     "end_time": "2024-06-18T21:16:46.965524Z",
     "start_time": "2024-06-18T21:16:46.962918Z"
    }
   },
   "source": [
    "# # Get all triples in the ontology\n",
    "# with open(\"./sokoban_triples.txt\", \"w\") as f:\n",
    "#     for s, p, o in g:\n",
    "#         f.write(f\"{s}\\t{p}\\t{o}\\n\")"
   ],
   "outputs": [],
   "execution_count": 4
  },
  {
   "cell_type": "markdown",
   "id": "47ce913fedf5cd5e",
   "metadata": {},
   "source": [
    "<br>"
   ]
  },
  {
   "cell_type": "code",
   "id": "d5d57199b3d533d",
   "metadata": {
    "ExecuteTime": {
     "end_time": "2024-06-18T21:16:48.558443Z",
     "start_time": "2024-06-18T21:16:48.443898Z"
    }
   },
   "source": [
    "# Get all actions (moveright, moveleft, moveup, movedown, pushright, pushleft, pushup, pushdown)\n",
    "actions: List[rdflib.query.ResultRow] = rdf_utils.get_actions_from_rdf(g, 'sokoban')\n",
    "pprint(actions)"
   ],
   "outputs": [
    {
     "name": "stdout",
     "output_type": "stream",
     "text": [
      "[(rdflib.term.URIRef('https://purl.org/ai4s/ontology/planning#moveleft'),),\n",
      " (rdflib.term.URIRef('https://purl.org/ai4s/ontology/planning#moveright'),),\n",
      " (rdflib.term.URIRef('https://purl.org/ai4s/ontology/planning#moveup'),),\n",
      " (rdflib.term.URIRef('https://purl.org/ai4s/ontology/planning#movedown'),),\n",
      " (rdflib.term.URIRef('https://purl.org/ai4s/ontology/planning#pushleft'),),\n",
      " (rdflib.term.URIRef('https://purl.org/ai4s/ontology/planning#pushright'),),\n",
      " (rdflib.term.URIRef('https://purl.org/ai4s/ontology/planning#pushup'),),\n",
      " (rdflib.term.URIRef('https://purl.org/ai4s/ontology/planning#pushdown'),)]\n"
     ]
    }
   ],
   "execution_count": 5
  },
  {
   "cell_type": "code",
   "id": "c8aaba17a37d29c4",
   "metadata": {
    "ExecuteTime": {
     "end_time": "2024-06-18T21:16:49.742781Z",
     "start_time": "2024-06-18T21:16:49.732912Z"
    }
   },
   "source": [
    "# Get all preconditions for the specified action\n",
    "action = \"moveup\"\n",
    "preconditions = rdf_utils.get_preconditions_from_rdf(g, action)\n",
    "\n",
    "print(f\"Preconditions for {action}:\")\n",
    "pprint(rdf_utils.format_query_result(preconditions))"
   ],
   "outputs": [
    {
     "name": "stdout",
     "output_type": "stream",
     "text": [
      "Preconditions for moveup:\n",
      "['sokoban ?sokoban', 'at ?sokoban ?x', 'below ?x ?y', 'clear ?y']\n"
     ]
    }
   ],
   "execution_count": 6
  },
  {
   "metadata": {
    "ExecuteTime": {
     "end_time": "2024-06-18T21:17:05.325761Z",
     "start_time": "2024-06-18T21:17:05.319909Z"
    }
   },
   "cell_type": "code",
   "source": [
    "# Get all effects for the specified action\n",
    "action = \"moveup\"\n",
    "effects = rdf_utils.get_effects_from_rdf(g, action)\n",
    "\n",
    "print(f\"Effects for {action}:\")\n",
    "pprint(rdf_utils.format_query_result(effects))"
   ],
   "id": "70df7f741925dfda",
   "outputs": [
    {
     "name": "stdout",
     "output_type": "stream",
     "text": [
      "Effects for moveup:\n",
      "['at ?sokoban ?y', 'clear ?x', 'not (at ?sokoban ?x)', 'not (clear ?y)']\n"
     ]
    }
   ],
   "execution_count": 7
  }
 ],
 "metadata": {
  "kernelspec": {
   "display_name": "Python 3 (ipykernel)",
   "language": "python",
   "name": "python3"
  },
  "language_info": {
   "codemirror_mode": {
    "name": "ipython",
    "version": 3
   },
   "file_extension": ".py",
   "mimetype": "text/x-python",
   "name": "python",
   "nbconvert_exporter": "python",
   "pygments_lexer": "ipython3",
   "version": "3.11.8"
  }
 },
 "nbformat": 4,
 "nbformat_minor": 5
}
