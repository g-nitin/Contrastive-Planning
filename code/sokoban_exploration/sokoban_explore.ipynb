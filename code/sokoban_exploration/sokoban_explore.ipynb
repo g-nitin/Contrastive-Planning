{
 "cells": [
  {
   "cell_type": "markdown",
   "id": "fc0466f1a9eaa437",
   "metadata": {},
   "source": [
    "# Sokoban Ontology Exploration\n",
    "The file takes in the Sokoban ontology and explores the triples in the ontology."
   ]
  },
  {
   "cell_type": "code",
   "id": "a614f5ddaf6d345",
   "metadata": {
    "ExecuteTime": {
     "end_time": "2024-06-21T19:14:48.973940Z",
     "start_time": "2024-06-21T19:14:48.926110Z"
    }
   },
   "source": [
    "import rdflib\n",
    "from code.templates import rdf_utils\n",
    "from typing import List"
   ],
   "outputs": [],
   "execution_count": 1
  },
  {
   "cell_type": "code",
   "id": "initial_id",
   "metadata": {
    "ExecuteTime": {
     "end_time": "2024-06-21T19:14:49.582900Z",
     "start_time": "2024-06-21T19:14:49.536141Z"
    }
   },
   "source": [
    "file_path: str = \"../../data/sokoban/plan-ontology-rdf-instances_sokoban.owl\"\n",
    "g: rdflib.graph.Graph = rdflib.Graph().parse(file_path, format=\"xml\")"
   ],
   "outputs": [],
   "execution_count": 2
  },
  {
   "cell_type": "code",
   "id": "a3808d612aad0c76",
   "metadata": {
    "ExecuteTime": {
     "end_time": "2024-06-21T19:14:49.889387Z",
     "start_time": "2024-06-21T19:14:49.886089Z"
    }
   },
   "source": "print(len(g))",
   "outputs": [
    {
     "name": "stdout",
     "output_type": "stream",
     "text": [
      "860\n"
     ]
    }
   ],
   "execution_count": 3
  },
  {
   "cell_type": "code",
   "id": "7016a8217845a87c",
   "metadata": {
    "ExecuteTime": {
     "end_time": "2024-06-21T19:14:50.332186Z",
     "start_time": "2024-06-21T19:14:50.329852Z"
    }
   },
   "source": [
    "# # Get all triples in the ontology\n",
    "# with open(\"./sokoban_triples.txt\", \"w\") as f:\n",
    "#     for s, p, o in g:\n",
    "#         f.write(f\"{s}\\t{p}\\t{o}\\n\")"
   ],
   "outputs": [],
   "execution_count": 4
  },
  {
   "cell_type": "markdown",
   "id": "47ce913fedf5cd5e",
   "metadata": {},
   "source": [
    "<br>"
   ]
  },
  {
   "cell_type": "code",
   "id": "d5d57199b3d533d",
   "metadata": {
    "ExecuteTime": {
     "end_time": "2024-06-21T19:14:51.207695Z",
     "start_time": "2024-06-21T19:14:51.110081Z"
    }
   },
   "source": [
    "# Get all actions (moveright, moveleft, moveup, movedown, pushright, pushleft, pushup, pushdown)\n",
    "actions: List[str] = rdf_utils.get_actions_from_rdf(g, 'sokoban')\n",
    "print(f\"Actions in the Sokoban domain:\")\n",
    "print(actions)"
   ],
   "outputs": [
    {
     "name": "stdout",
     "output_type": "stream",
     "text": [
      "Actions in the Sokoban domain:\n",
      "['moveleft', 'moveright', 'moveup', 'movedown', 'pushleft', 'pushright', 'pushup', 'pushdown']\n"
     ]
    }
   ],
   "execution_count": 5
  },
  {
   "cell_type": "code",
   "id": "c8aaba17a37d29c4",
   "metadata": {
    "ExecuteTime": {
     "end_time": "2024-06-21T19:29:50.828593Z",
     "start_time": "2024-06-21T19:29:50.821056Z"
    }
   },
   "source": [
    "# Get all parameters for the specified action\n",
    "action = \"pushup\"\n",
    "parameters = rdf_utils.get_parameters_from_rdf(g, action)\n",
    "\n",
    "print(f\"Parameters for {action}:\")\n",
    "print(parameters)"
   ],
   "outputs": [
    {
     "name": "stdout",
     "output_type": "stream",
     "text": [
      "Parameters for pushup:\n",
      "['?sokoban', '?x', '?y', '?z', '?crate']\n"
     ]
    }
   ],
   "execution_count": 9
  },
  {
   "metadata": {
    "ExecuteTime": {
     "end_time": "2024-06-21T19:30:06.969907Z",
     "start_time": "2024-06-21T19:30:06.964073Z"
    }
   },
   "cell_type": "code",
   "source": [
    "# Get all preconditions for the specified action\n",
    "action = \"pushup\"\n",
    "preconditions = rdf_utils.get_preconditions_from_rdf(g, action)\n",
    "\n",
    "print(f\"Preconditions for {action}:\")\n",
    "print(preconditions)"
   ],
   "id": "3c75a146976c3a16",
   "outputs": [
    {
     "name": "stdout",
     "output_type": "stream",
     "text": [
      "Preconditions for pushup:\n",
      "['sokoban ?sokoban', 'crate ?crate', 'below ?x ?y', 'below ?y ?z', 'at ?sokoban ?x', 'at ?crate ?y', 'clear ?z']\n"
     ]
    }
   ],
   "execution_count": 10
  },
  {
   "metadata": {
    "ExecuteTime": {
     "end_time": "2024-06-21T19:30:53.361007Z",
     "start_time": "2024-06-21T19:30:53.354834Z"
    }
   },
   "cell_type": "code",
   "source": [
    "# Get all effects for the specified action\n",
    "action = \"pushup\"\n",
    "effects = rdf_utils.get_effects_from_rdf(g, action)\n",
    "\n",
    "print(f\"Effects for {action}:\")\n",
    "print(effects)"
   ],
   "id": "70df7f741925dfda",
   "outputs": [
    {
     "name": "stdout",
     "output_type": "stream",
     "text": [
      "Effects for pushup:\n",
      "['at ?sokoban ?y', 'at ?crate ?z', 'clear ?x', 'not (at ?sokoban ?x)', 'not (at ?crate ?y)', 'not (clear ?y)', 'not (clear ?z)']\n"
     ]
    }
   ],
   "execution_count": 11
  },
  {
   "metadata": {},
   "cell_type": "code",
   "outputs": [],
   "execution_count": null,
   "source": "",
   "id": "901ddada23e9b266"
  }
 ],
 "metadata": {
  "kernelspec": {
   "display_name": "Python 3 (ipykernel)",
   "language": "python",
   "name": "python3"
  },
  "language_info": {
   "codemirror_mode": {
    "name": "ipython",
    "version": 3
   },
   "file_extension": ".py",
   "mimetype": "text/x-python",
   "name": "python",
   "nbconvert_exporter": "python",
   "pygments_lexer": "ipython3",
   "version": "3.11.8"
  }
 },
 "nbformat": 4,
 "nbformat_minor": 5
}
