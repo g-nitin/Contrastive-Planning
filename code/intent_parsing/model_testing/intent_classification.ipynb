{
 "cells": [
  {
   "metadata": {},
   "cell_type": "markdown",
   "source": [
    "# Intent Classification\n",
    "\n",
    "In this notebook, we will use a pre-trained BERT model to classify the intent of a question. We will use a dataset of questions and their corresponding intents to train the model. The model will be fine-tuned on the dataset and then used to classify new questions into one of the intents.\n",
    "\n",
    "Creating an NLP-based framework to parse the input question to categorize the intent into one of the question types.\n",
    "\n",
    "Question Types:\n",
    "1. Why is action A not used in the plan, rather than being used?\n",
    "2. Why is action A used in the plan, rather than not being used?\n",
    "3. Why is action A used in state S, rather than action B?"
   ],
   "id": "dcecb722901a0cf"
  },
  {
   "metadata": {},
   "cell_type": "markdown",
   "source": "## Data Aquistion",
   "id": "264b2181314ae294"
  },
  {
   "metadata": {
    "ExecuteTime": {
     "end_time": "2024-06-12T17:13:22.994961Z",
     "start_time": "2024-06-12T17:13:18.978970Z"
    }
   },
   "cell_type": "code",
   "source": [
    "import pandas as pd\n",
    "from sklearn.model_selection import train_test_split\n",
    "from transformers import BertTokenizer, BertForSequenceClassification, Trainer, TrainingArguments\n",
    "from datasets import Dataset\n",
    "import torch\n",
    "from sklearn.metrics import classification_report, accuracy_score"
   ],
   "id": "504e579e5c41434a",
   "outputs": [],
   "execution_count": 1
  },
  {
   "metadata": {
    "ExecuteTime": {
     "end_time": "2024-06-12T17:13:55.990918Z",
     "start_time": "2024-06-12T17:13:55.975481Z"
    }
   },
   "cell_type": "code",
   "source": [
    "# Load the CSV file into a DataFrame\n",
    "df = pd.read_csv('../../../data/extra/combined_dataset.csv')\n",
    "\n",
    "# Display the first few rows of the DataFrame\n",
    "print(f\"Number of rows in the dataset: {df.shape[0]}\")\n",
    "df.head()"
   ],
   "id": "29fec4456d2eb9d3",
   "outputs": [
    {
     "name": "stdout",
     "output_type": "stream",
     "text": [
      "Number of rows in the dataset: 346\n"
     ]
    },
    {
     "data": {
      "text/plain": [
       "                                                text  label\n",
       "0           Why was action A excluded from the plan?      1\n",
       "1  What were the reasons for omitting action A fr...      1\n",
       "2  Can you explain why action A was not considere...      1\n",
       "3              Why didn't the plan include action A?      1\n",
       "4  What is the rationale for not using action A i...      1"
      ],
      "text/html": [
       "<div>\n",
       "<style scoped>\n",
       "    .dataframe tbody tr th:only-of-type {\n",
       "        vertical-align: middle;\n",
       "    }\n",
       "\n",
       "    .dataframe tbody tr th {\n",
       "        vertical-align: top;\n",
       "    }\n",
       "\n",
       "    .dataframe thead th {\n",
       "        text-align: right;\n",
       "    }\n",
       "</style>\n",
       "<table border=\"1\" class=\"dataframe\">\n",
       "  <thead>\n",
       "    <tr style=\"text-align: right;\">\n",
       "      <th></th>\n",
       "      <th>text</th>\n",
       "      <th>label</th>\n",
       "    </tr>\n",
       "  </thead>\n",
       "  <tbody>\n",
       "    <tr>\n",
       "      <th>0</th>\n",
       "      <td>Why was action A excluded from the plan?</td>\n",
       "      <td>1</td>\n",
       "    </tr>\n",
       "    <tr>\n",
       "      <th>1</th>\n",
       "      <td>What were the reasons for omitting action A fr...</td>\n",
       "      <td>1</td>\n",
       "    </tr>\n",
       "    <tr>\n",
       "      <th>2</th>\n",
       "      <td>Can you explain why action A was not considere...</td>\n",
       "      <td>1</td>\n",
       "    </tr>\n",
       "    <tr>\n",
       "      <th>3</th>\n",
       "      <td>Why didn't the plan include action A?</td>\n",
       "      <td>1</td>\n",
       "    </tr>\n",
       "    <tr>\n",
       "      <th>4</th>\n",
       "      <td>What is the rationale for not using action A i...</td>\n",
       "      <td>1</td>\n",
       "    </tr>\n",
       "  </tbody>\n",
       "</table>\n",
       "</div>"
      ]
     },
     "execution_count": 5,
     "metadata": {},
     "output_type": "execute_result"
    }
   ],
   "execution_count": 5
  },
  {
   "metadata": {},
   "cell_type": "markdown",
   "source": "## Data Preprocessing",
   "id": "1140ccbd86f417c7"
  },
  {
   "metadata": {},
   "cell_type": "code",
   "outputs": [],
   "execution_count": null,
   "source": [
    "# Convert the intent labels to numbers\n",
    "df['label'] = pd.factorize(df['intent'])[0] + 1"
   ],
   "id": "42e8454ea5e48e39"
  },
  {
   "metadata": {
    "ExecuteTime": {
     "end_time": "2024-06-02T22:09:25.478548Z",
     "start_time": "2024-06-02T22:09:25.255860Z"
    }
   },
   "cell_type": "code",
   "source": [
    "# Train/test split\n",
    "train_df, test_df = train_test_split(df, test_size=0.2, random_state=13, stratify=df['label'])\n",
    "\n",
    "# Convert DataFrame to Hugging Face Dataset\n",
    "train_dataset = Dataset.from_pandas(train_df)\n",
    "test_dataset = Dataset.from_pandas(test_df)"
   ],
   "id": "49e23b66cb8e07d",
   "outputs": [],
   "execution_count": 36
  },
  {
   "metadata": {
    "ExecuteTime": {
     "end_time": "2024-06-02T22:09:26.799595Z",
     "start_time": "2024-06-02T22:09:25.481657Z"
    }
   },
   "cell_type": "code",
   "source": [
    "# Tokenizer\n",
    "tokenizer = BertTokenizer.from_pretrained('bert-base-uncased')\n",
    "\n",
    "# Tokenization function\n",
    "def tokenize_function(examples):\n",
    "    return tokenizer(examples['text'], padding=\"max_length\", truncation=True, max_length=128)\n",
    "\n",
    "# Tokenize datasets\n",
    "tokenized_train = train_dataset.map(tokenize_function, batched=True)\n",
    "tokenized_test = test_dataset.map(tokenize_function, batched=True)"
   ],
   "id": "2ef3f28e8f9fce70",
   "outputs": [
    {
     "data": {
      "text/plain": [
       "Map:   0%|          | 0/276 [00:00<?, ? examples/s]"
      ],
      "application/vnd.jupyter.widget-view+json": {
       "version_major": 2,
       "version_minor": 0,
       "model_id": "8c6295474d7d4be79f3686f718a28153"
      }
     },
     "metadata": {},
     "output_type": "display_data"
    },
    {
     "data": {
      "text/plain": [
       "Map:   0%|          | 0/70 [00:00<?, ? examples/s]"
      ],
      "application/vnd.jupyter.widget-view+json": {
       "version_major": 2,
       "version_minor": 0,
       "model_id": "7e0a06cc46bd40308ba418d4c66d035d"
      }
     },
     "metadata": {},
     "output_type": "display_data"
    }
   ],
   "execution_count": 37
  },
  {
   "metadata": {},
   "cell_type": "markdown",
   "source": "## Model Training",
   "id": "dd0cdbd01bf7c2e9"
  },
  {
   "metadata": {
    "ExecuteTime": {
     "end_time": "2024-06-12T17:14:18.661037Z",
     "start_time": "2024-06-12T17:14:18.634070Z"
    }
   },
   "cell_type": "code",
   "source": [
    "from code.templates.torch_utils import get_best_available_device\n",
    "\n",
    "device = get_best_available_device()\n",
    "print(f\"Using device: {device}\")"
   ],
   "id": "50a0a8a5271d074e",
   "outputs": [
    {
     "name": "stdout",
     "output_type": "stream",
     "text": [
      "Using device: mps\n"
     ]
    }
   ],
   "execution_count": 6
  },
  {
   "metadata": {
    "ExecuteTime": {
     "end_time": "2024-06-02T22:09:40.295358Z",
     "start_time": "2024-06-02T22:09:26.806183Z"
    }
   },
   "cell_type": "code",
   "source": [
    "# Load pre-trained BERT models for sequence classification\n",
    "model = BertForSequenceClassification.from_pretrained('bert-base-uncased', num_labels=3)\n",
    "model.to(device);"
   ],
   "id": "8d27c2abcc16db7d",
   "outputs": [
    {
     "name": "stderr",
     "output_type": "stream",
     "text": [
      "Some weights of BertForSequenceClassification were not initialized from the model checkpoint at bert-base-uncased and are newly initialized: ['classifier.bias', 'classifier.weight']\n",
      "You should probably TRAIN this model on a down-stream task to be able to use it for predictions and inference.\n"
     ]
    }
   ],
   "execution_count": 39
  },
  {
   "metadata": {
    "ExecuteTime": {
     "end_time": "2024-06-02T22:11:05.846380Z",
     "start_time": "2024-06-02T22:09:40.297022Z"
    }
   },
   "cell_type": "code",
   "source": [
    "# Training arguments\n",
    "training_args = TrainingArguments(\n",
    "    output_dir='./results',\n",
    "    num_train_epochs=3,\n",
    "    per_device_train_batch_size=8,\n",
    "    per_device_eval_batch_size=8,\n",
    "    eval_strategy=\"epoch\",\n",
    "    save_steps=10_000,\n",
    "    save_total_limit=2,\n",
    ")\n",
    "\n",
    "# Trainer\n",
    "trainer = Trainer(\n",
    "    model=model,\n",
    "    args=training_args,\n",
    "    train_dataset=tokenized_train,\n",
    "    eval_dataset=tokenized_test,\n",
    ")\n",
    "\n",
    "# Train the models\n",
    "trainer.train()"
   ],
   "id": "8563920f5fab9139",
   "outputs": [
    {
     "data": {
      "text/plain": [
       "<IPython.core.display.HTML object>"
      ],
      "text/html": [
       "\n",
       "    <div>\n",
       "      \n",
       "      <progress value='105' max='105' style='width:300px; height:20px; vertical-align: middle;'></progress>\n",
       "      [105/105 01:23, Epoch 3/3]\n",
       "    </div>\n",
       "    <table border=\"1\" class=\"dataframe\">\n",
       "  <thead>\n",
       " <tr style=\"text-align: left;\">\n",
       "      <th>Epoch</th>\n",
       "      <th>Training Loss</th>\n",
       "      <th>Validation Loss</th>\n",
       "    </tr>\n",
       "  </thead>\n",
       "  <tbody>\n",
       "    <tr>\n",
       "      <td>1</td>\n",
       "      <td>No log</td>\n",
       "      <td>0.490747</td>\n",
       "    </tr>\n",
       "    <tr>\n",
       "      <td>2</td>\n",
       "      <td>No log</td>\n",
       "      <td>0.048875</td>\n",
       "    </tr>\n",
       "    <tr>\n",
       "      <td>3</td>\n",
       "      <td>No log</td>\n",
       "      <td>0.005299</td>\n",
       "    </tr>\n",
       "  </tbody>\n",
       "</table><p>"
      ]
     },
     "metadata": {},
     "output_type": "display_data"
    },
    {
     "data": {
      "text/plain": [
       "TrainOutput(global_step=105, training_loss=0.22288242521740143, metrics={'train_runtime': 84.7918, 'train_samples_per_second': 9.765, 'train_steps_per_second': 1.238, 'total_flos': 54464477469696.0, 'train_loss': 0.22288242521740143, 'epoch': 3.0})"
      ]
     },
     "execution_count": 40,
     "metadata": {},
     "output_type": "execute_result"
    }
   ],
   "execution_count": 40
  },
  {
   "metadata": {},
   "cell_type": "markdown",
   "source": "## Model Evaluation",
   "id": "668000e743a8baa0"
  },
  {
   "metadata": {
    "ExecuteTime": {
     "end_time": "2024-06-02T22:11:07.329145Z",
     "start_time": "2024-06-02T22:11:05.851454Z"
    }
   },
   "cell_type": "code",
   "source": [
    "# Evaluate the models\n",
    "results = trainer.evaluate()\n",
    "print(results)"
   ],
   "id": "694ada87b60c09ac",
   "outputs": [
    {
     "data": {
      "text/plain": [
       "<IPython.core.display.HTML object>"
      ],
      "text/html": [
       "\n",
       "    <div>\n",
       "      \n",
       "      <progress value='9' max='9' style='width:300px; height:20px; vertical-align: middle;'></progress>\n",
       "      [9/9 00:01]\n",
       "    </div>\n",
       "    "
      ]
     },
     "metadata": {},
     "output_type": "display_data"
    },
    {
     "name": "stdout",
     "output_type": "stream",
     "text": [
      "{'eval_loss': 0.005299075040966272, 'eval_runtime': 1.4641, 'eval_samples_per_second': 47.809, 'eval_steps_per_second': 6.147, 'epoch': 3.0}\n"
     ]
    }
   ],
   "execution_count": 41
  },
  {
   "metadata": {
    "ExecuteTime": {
     "end_time": "2024-06-02T22:11:07.340789Z",
     "start_time": "2024-06-02T22:11:07.330344Z"
    }
   },
   "cell_type": "code",
   "source": [
    "# Function to classify new questions\n",
    "def classify_question(question):\n",
    "    inputs = tokenizer(question, return_tensors=\"pt\", padding=True, truncation=True, max_length=128).to(device)\n",
    "    outputs = model(**inputs)\n",
    "    prediction = torch.argmax(outputs.logits, dim=1)\n",
    "    return prediction.item()"
   ],
   "id": "93be06c9eef99085",
   "outputs": [],
   "execution_count": 42
  },
  {
   "metadata": {
    "ExecuteTime": {
     "end_time": "2024-06-02T22:11:09.314899Z",
     "start_time": "2024-06-02T22:11:07.346554Z"
    }
   },
   "cell_type": "code",
   "source": [
    "# Predict and compare\n",
    "test_df['predicted_label'] = test_df['text'].apply(classify_question)\n",
    "y_true = test_df['label']\n",
    "y_pred = test_df['predicted_label']"
   ],
   "id": "5cb18a1c0f8a0cb1",
   "outputs": [],
   "execution_count": 43
  },
  {
   "metadata": {
    "ExecuteTime": {
     "end_time": "2024-06-02T22:11:09.471111Z",
     "start_time": "2024-06-02T22:11:09.315760Z"
    }
   },
   "cell_type": "code",
   "source": [
    "# Print the classification report\n",
    "print(classification_report(y_true, y_pred, zero_division=0.0))\n",
    "print(f\"Accuracy: {accuracy_score(y_true, y_pred):.2f}\")"
   ],
   "id": "e4a769592b1ef538",
   "outputs": [
    {
     "name": "stdout",
     "output_type": "stream",
     "text": [
      "              precision    recall  f1-score   support\n",
      "\n",
      "           1       0.77      1.00      0.87        24\n",
      "           2       0.59      1.00      0.74        23\n",
      "           3       0.00      0.00      0.00        23\n",
      "\n",
      "    accuracy                           0.67        70\n",
      "   macro avg       0.45      0.67      0.54        70\n",
      "weighted avg       0.46      0.67      0.54        70\n",
      "\n",
      "Accuracy: 0.67\n"
     ]
    }
   ],
   "execution_count": 44
  },
  {
   "metadata": {},
   "cell_type": "markdown",
   "source": "## Result Analysis",
   "id": "70b240b0d9525a58"
  },
  {
   "metadata": {
    "ExecuteTime": {
     "end_time": "2024-06-02T22:11:09.488775Z",
     "start_time": "2024-06-02T22:11:09.471762Z"
    }
   },
   "cell_type": "code",
   "source": [
    "# Display the rows in which the predictions didn't match the label\n",
    "incorrect_predictions = test_df[test_df['label'] != test_df['predicted_label']]\n",
    "\n",
    "print(f\"{incorrect_predictions.shape[0]} incorrect predictions out of {test_df.shape[0]} test samples.\")\n",
    "incorrect_predictions"
   ],
   "id": "f1d414e7dcaacbf0",
   "outputs": [
    {
     "name": "stdout",
     "output_type": "stream",
     "text": [
      "23 incorrect predictions out of 70 test samples.\n"
     ]
    },
    {
     "data": {
      "text/plain": [
       "                                                  text  label  predicted_label\n",
       "278  Why is 'push the box up' preferred over 'movin...      3                2\n",
       "275  What's the rationale behind 'moving up' and no...      3                1\n",
       "245  Why is 'move down' preferred over 'move up' in...      3                2\n",
       "328  Can you explain why 'move the blank space up' ...      3                2\n",
       "232  Why is 'move left' selected instead of 'push r...      3                2\n",
       "287  Why is 'moving up' used rather than 'pushing d...      3                1\n",
       "227  Why is 'move right' chosen instead of 'push up...      3                2\n",
       "215  Why was 'push box to the left' chosen over 'mo...      3                2\n",
       "32   Why is action A applied in state S instead of ...      3                1\n",
       "218  Why did the plan opt for 'push box to the left...      3                2\n",
       "243  Why is 'move down' used rather than 'move righ...      3                1\n",
       "263  What's the reason for 'moving right' rather th...      3                1\n",
       "237  Why is 'move up' chosen instead of 'move left'...      3                2\n",
       "342  What made 'move card to a free cell' more suit...      3                2\n",
       "219  What are the reasons for selecting 'push box t...      3                2\n",
       "226  Why is 'move right' used rather than 'push lef...      3                1\n",
       "265  Why 'pushing up' is selected over 'moving up' ...      3                2\n",
       "28     What made action A more suitable than action B?      3                2\n",
       "264  Why choose 'moving left' instead of 'moving do...      3                2\n",
       "296  Why prefer 'pushing right' over 'moving the bo...      3                2\n",
       "312  What made 'rotate the top face clockwise' more...      3                2\n",
       "256  Why is 'push right' preferred over 'push down'...      3                2\n",
       "279  What's the reason for 'moving left' rather tha...      3                1"
      ],
      "text/html": [
       "<div>\n",
       "<style scoped>\n",
       "    .dataframe tbody tr th:only-of-type {\n",
       "        vertical-align: middle;\n",
       "    }\n",
       "\n",
       "    .dataframe tbody tr th {\n",
       "        vertical-align: top;\n",
       "    }\n",
       "\n",
       "    .dataframe thead th {\n",
       "        text-align: right;\n",
       "    }\n",
       "</style>\n",
       "<table border=\"1\" class=\"dataframe\">\n",
       "  <thead>\n",
       "    <tr style=\"text-align: right;\">\n",
       "      <th></th>\n",
       "      <th>text</th>\n",
       "      <th>label</th>\n",
       "      <th>predicted_label</th>\n",
       "    </tr>\n",
       "  </thead>\n",
       "  <tbody>\n",
       "    <tr>\n",
       "      <th>278</th>\n",
       "      <td>Why is 'push the box up' preferred over 'movin...</td>\n",
       "      <td>3</td>\n",
       "      <td>2</td>\n",
       "    </tr>\n",
       "    <tr>\n",
       "      <th>275</th>\n",
       "      <td>What's the rationale behind 'moving up' and no...</td>\n",
       "      <td>3</td>\n",
       "      <td>1</td>\n",
       "    </tr>\n",
       "    <tr>\n",
       "      <th>245</th>\n",
       "      <td>Why is 'move down' preferred over 'move up' in...</td>\n",
       "      <td>3</td>\n",
       "      <td>2</td>\n",
       "    </tr>\n",
       "    <tr>\n",
       "      <th>328</th>\n",
       "      <td>Can you explain why 'move the blank space up' ...</td>\n",
       "      <td>3</td>\n",
       "      <td>2</td>\n",
       "    </tr>\n",
       "    <tr>\n",
       "      <th>232</th>\n",
       "      <td>Why is 'move left' selected instead of 'push r...</td>\n",
       "      <td>3</td>\n",
       "      <td>2</td>\n",
       "    </tr>\n",
       "    <tr>\n",
       "      <th>287</th>\n",
       "      <td>Why is 'moving up' used rather than 'pushing d...</td>\n",
       "      <td>3</td>\n",
       "      <td>1</td>\n",
       "    </tr>\n",
       "    <tr>\n",
       "      <th>227</th>\n",
       "      <td>Why is 'move right' chosen instead of 'push up...</td>\n",
       "      <td>3</td>\n",
       "      <td>2</td>\n",
       "    </tr>\n",
       "    <tr>\n",
       "      <th>215</th>\n",
       "      <td>Why was 'push box to the left' chosen over 'mo...</td>\n",
       "      <td>3</td>\n",
       "      <td>2</td>\n",
       "    </tr>\n",
       "    <tr>\n",
       "      <th>32</th>\n",
       "      <td>Why is action A applied in state S instead of ...</td>\n",
       "      <td>3</td>\n",
       "      <td>1</td>\n",
       "    </tr>\n",
       "    <tr>\n",
       "      <th>218</th>\n",
       "      <td>Why did the plan opt for 'push box to the left...</td>\n",
       "      <td>3</td>\n",
       "      <td>2</td>\n",
       "    </tr>\n",
       "    <tr>\n",
       "      <th>243</th>\n",
       "      <td>Why is 'move down' used rather than 'move righ...</td>\n",
       "      <td>3</td>\n",
       "      <td>1</td>\n",
       "    </tr>\n",
       "    <tr>\n",
       "      <th>263</th>\n",
       "      <td>What's the reason for 'moving right' rather th...</td>\n",
       "      <td>3</td>\n",
       "      <td>1</td>\n",
       "    </tr>\n",
       "    <tr>\n",
       "      <th>237</th>\n",
       "      <td>Why is 'move up' chosen instead of 'move left'...</td>\n",
       "      <td>3</td>\n",
       "      <td>2</td>\n",
       "    </tr>\n",
       "    <tr>\n",
       "      <th>342</th>\n",
       "      <td>What made 'move card to a free cell' more suit...</td>\n",
       "      <td>3</td>\n",
       "      <td>2</td>\n",
       "    </tr>\n",
       "    <tr>\n",
       "      <th>219</th>\n",
       "      <td>What are the reasons for selecting 'push box t...</td>\n",
       "      <td>3</td>\n",
       "      <td>2</td>\n",
       "    </tr>\n",
       "    <tr>\n",
       "      <th>226</th>\n",
       "      <td>Why is 'move right' used rather than 'push lef...</td>\n",
       "      <td>3</td>\n",
       "      <td>1</td>\n",
       "    </tr>\n",
       "    <tr>\n",
       "      <th>265</th>\n",
       "      <td>Why 'pushing up' is selected over 'moving up' ...</td>\n",
       "      <td>3</td>\n",
       "      <td>2</td>\n",
       "    </tr>\n",
       "    <tr>\n",
       "      <th>28</th>\n",
       "      <td>What made action A more suitable than action B?</td>\n",
       "      <td>3</td>\n",
       "      <td>2</td>\n",
       "    </tr>\n",
       "    <tr>\n",
       "      <th>264</th>\n",
       "      <td>Why choose 'moving left' instead of 'moving do...</td>\n",
       "      <td>3</td>\n",
       "      <td>2</td>\n",
       "    </tr>\n",
       "    <tr>\n",
       "      <th>296</th>\n",
       "      <td>Why prefer 'pushing right' over 'moving the bo...</td>\n",
       "      <td>3</td>\n",
       "      <td>2</td>\n",
       "    </tr>\n",
       "    <tr>\n",
       "      <th>312</th>\n",
       "      <td>What made 'rotate the top face clockwise' more...</td>\n",
       "      <td>3</td>\n",
       "      <td>2</td>\n",
       "    </tr>\n",
       "    <tr>\n",
       "      <th>256</th>\n",
       "      <td>Why is 'push right' preferred over 'push down'...</td>\n",
       "      <td>3</td>\n",
       "      <td>2</td>\n",
       "    </tr>\n",
       "    <tr>\n",
       "      <th>279</th>\n",
       "      <td>What's the reason for 'moving left' rather tha...</td>\n",
       "      <td>3</td>\n",
       "      <td>1</td>\n",
       "    </tr>\n",
       "  </tbody>\n",
       "</table>\n",
       "</div>"
      ]
     },
     "execution_count": 45,
     "metadata": {},
     "output_type": "execute_result"
    }
   ],
   "execution_count": 45
  },
  {
   "metadata": {},
   "cell_type": "markdown",
   "source": "All predictions for the 3rd label seem to be wrong.",
   "id": "3787417868571443"
  },
  {
   "metadata": {
    "ExecuteTime": {
     "end_time": "2024-06-02T22:11:09.493414Z",
     "start_time": "2024-06-02T22:11:09.489492Z"
    }
   },
   "cell_type": "code",
   "source": [
    "# Get rows which were incorrectly classified but not originally labeled 3\n",
    "incorrect_predictions[(incorrect_predictions['label'] != 3)]"
   ],
   "id": "f5404e6022a423b0",
   "outputs": [
    {
     "data": {
      "text/plain": [
       "Empty DataFrame\n",
       "Columns: [text, label, predicted_label]\n",
       "Index: []"
      ],
      "text/html": [
       "<div>\n",
       "<style scoped>\n",
       "    .dataframe tbody tr th:only-of-type {\n",
       "        vertical-align: middle;\n",
       "    }\n",
       "\n",
       "    .dataframe tbody tr th {\n",
       "        vertical-align: top;\n",
       "    }\n",
       "\n",
       "    .dataframe thead th {\n",
       "        text-align: right;\n",
       "    }\n",
       "</style>\n",
       "<table border=\"1\" class=\"dataframe\">\n",
       "  <thead>\n",
       "    <tr style=\"text-align: right;\">\n",
       "      <th></th>\n",
       "      <th>text</th>\n",
       "      <th>label</th>\n",
       "      <th>predicted_label</th>\n",
       "    </tr>\n",
       "  </thead>\n",
       "  <tbody>\n",
       "  </tbody>\n",
       "</table>\n",
       "</div>"
      ]
     },
     "execution_count": 46,
     "metadata": {},
     "output_type": "execute_result"
    }
   ],
   "execution_count": 46
  }
 ],
 "metadata": {
  "kernelspec": {
   "display_name": "Python 3",
   "language": "python",
   "name": "python3"
  },
  "language_info": {
   "codemirror_mode": {
    "name": "ipython",
    "version": 2
   },
   "file_extension": ".py",
   "mimetype": "text/x-python",
   "name": "python",
   "nbconvert_exporter": "python",
   "pygments_lexer": "ipython2",
   "version": "2.7.6"
  }
 },
 "nbformat": 4,
 "nbformat_minor": 5
}
