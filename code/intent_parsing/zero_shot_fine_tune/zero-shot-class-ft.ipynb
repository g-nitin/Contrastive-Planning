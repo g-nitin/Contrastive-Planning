{
 "cells": [
  {
   "cell_type": "markdown",
   "id": "65af76665474c488",
   "metadata": {},
   "source": [
    "# Zero-Shot Classification\n",
    "\n",
    "In this notebook, we'll use the `zero-shot-classification` pipeline from the HF Transformers library to predict the intents of sentences in a dataset. We'll compare the predicted intents with the actual labels and print the evaluation metrics.\n",
    "\n",
    "Creating an NLP-based framework to parse the input question to categorize the intent into one of the question types.\n",
    "\n",
    "Question Types:\n",
    "1. Why is action A not used in the plan, rather than being used?\n",
    "2. Why is action A used in the plan, rather than not being used?\n",
    "3. Why is action A used in state S, rather than action B?"
   ]
  },
  {
   "cell_type": "markdown",
   "id": "3996a58d6e7648eb",
   "metadata": {},
   "source": [
    "## Single Text Prediction"
   ]
  },
  {
   "cell_type": "code",
   "id": "f985e2baedd364d2",
   "metadata": {
    "ExecuteTime": {
     "end_time": "2024-06-12T17:26:06.997727Z",
     "start_time": "2024-06-12T17:26:04.862487Z"
    }
   },
   "source": [
    "from transformers import pipeline\n",
    "from pprint import pprint"
   ],
   "outputs": [],
   "execution_count": 1
  },
  {
   "metadata": {
    "ExecuteTime": {
     "end_time": "2024-06-12T17:29:21.849239Z",
     "start_time": "2024-06-12T17:29:21.663561Z"
    }
   },
   "cell_type": "code",
   "source": "!pwd",
   "id": "9799a7805f50a73d",
   "outputs": [
    {
     "name": "stdout",
     "output_type": "stream",
     "text": [
      "/Users/nitingupta/usc/aiisc/planning_ontology/Contrastive-Planning/code/intent_parsing/zero_shot_fine_tune\r\n"
     ]
    }
   ],
   "execution_count": 2
  },
  {
   "cell_type": "code",
   "id": "initial_id",
   "metadata": {
    "collapsed": true,
    "ExecuteTime": {
     "end_time": "2024-06-12T17:30:31.921762Z",
     "start_time": "2024-06-12T17:30:28.460994Z"
    }
   },
   "source": [
    "# Load a zero-shot classification pipeline\n",
    "classifier = pipeline(\"zero-shot-classification\", \n",
    "                      model=\"../../../models/grounded_saved_model_20240606_230822\", \n",
    "                      tokenizer=\"../../../models/grounded_saved_model_20240606_230822\")"
   ],
   "outputs": [],
   "execution_count": 3
  },
  {
   "cell_type": "code",
   "id": "11ca92d38e459308",
   "metadata": {
    "ExecuteTime": {
     "end_time": "2024-06-12T17:56:52.587349Z",
     "start_time": "2024-06-12T17:56:50.673930Z"
    }
   },
   "source": [
    "# Define the query and candidate labels\n",
    "candidate_labels = [\"Why is action A not used in the plan?\", \n",
    "                    \"Why is action A used in the plan?\", \n",
    "                    \"Why is action A used in state S, rather than action B?\"]\n",
    "query = \"Why is moveLeft x1 y1 used in the plan??\"\n",
    "\n",
    "# Perform zero-shot classification\n",
    "result = classifier(query, candidate_labels)\n",
    "pprint(result, width=100)"
   ],
   "outputs": [
    {
     "name": "stdout",
     "output_type": "stream",
     "text": [
      "{'labels': ['Why is action A used in state S, rather than action B?',\n",
      "            'Why is action A used in the plan?',\n",
      "            'Why is action A not used in the plan?'],\n",
      " 'scores': [0.511748731136322, 0.3627440631389618, 0.1255071759223938],\n",
      " 'sequence': 'Why is moveLeft x1 y1 used in the plan??'}\n"
     ]
    }
   ],
   "execution_count": 21
  },
  {
   "cell_type": "code",
   "id": "7c4f14fc6d35d73",
   "metadata": {
    "ExecuteTime": {
     "end_time": "2024-06-12T17:30:40.177088Z",
     "start_time": "2024-06-12T17:30:38.085496Z"
    }
   },
   "source": [
    "# Define the query and candidate labels\n",
    "candidate_labels = [\"Why is action A not used in the plan?\", \n",
    "                    \"Why is action A used in the plan?\", \n",
    "                    \"Why is action A used rather than action B?\"]\n",
    "query = \"What made 'push box to the left' more suitable than 'move to the right'?\"\n",
    "\n",
    "# Perform zero-shot classification\n",
    "result = classifier(query, candidate_labels)\n",
    "pprint(result, width=100)"
   ],
   "outputs": [
    {
     "name": "stdout",
     "output_type": "stream",
     "text": [
      "{'labels': ['Why is action A used rather than action B?',\n",
      "            'Why is action A used in the plan?',\n",
      "            'Why is action A not used in the plan?'],\n",
      " 'scores': [0.9998933672904968, 8.815569162834436e-05, 1.8498139979783446e-05],\n",
      " 'sequence': \"What made 'push box to the left' more suitable than 'move to the right'?\"}\n"
     ]
    }
   ],
   "execution_count": 5
  },
  {
   "cell_type": "markdown",
   "id": "792b0f39e6f149da",
   "metadata": {},
   "source": [
    "It seems that \"Why is action A used rather than action B?\" is a better intent category label than \"Why is action A used in state S, rather than action B?\"."
   ]
  },
  {
   "cell_type": "markdown",
   "id": "e4973a09e9b1342d",
   "metadata": {},
   "source": [
    "<br>"
   ]
  },
  {
   "cell_type": "markdown",
   "id": "9da3c2e820168eb9",
   "metadata": {},
   "source": [
    "## Dataset Prediction using Base Model\n",
    "Predict the intents of the sentences in the text column from the data csv, compare them with the actual labels, and print the evaluation metrics.\n",
    "\n",
    "Use the base model."
   ]
  },
  {
   "cell_type": "code",
   "id": "eeeacfb419714fb6",
   "metadata": {
    "ExecuteTime": {
     "end_time": "2024-06-12T17:30:47.120212Z",
     "start_time": "2024-06-12T17:30:46.130616Z"
    }
   },
   "source": [
    "import pandas as pd\n",
    "from sklearn.metrics import classification_report, accuracy_score\n",
    "import swifter\n",
    "import wandb\n",
    "import os"
   ],
   "outputs": [],
   "execution_count": 6
  },
  {
   "cell_type": "code",
   "id": "95c8aea6223cf625",
   "metadata": {
    "ExecuteTime": {
     "end_time": "2024-06-12T17:30:48.366026Z",
     "start_time": "2024-06-12T17:30:48.363281Z"
    }
   },
   "source": [
    "# set the wandb project where this run will be logged\n",
    "os.environ[\"WANDB_PROJECT\"] = \"zero-shot-classification\"\n",
    "\n",
    "# save your trained model checkpoint to wandb\n",
    "os.environ[\"WANDB_LOG_MODEL\"]=\"true\"\n",
    "\n",
    "# turn off watch to log faster\n",
    "os.environ[\"WANDB_WATCH\"]=\"false\""
   ],
   "outputs": [],
   "execution_count": 7
  },
  {
   "cell_type": "code",
   "id": "f63211774ea13f3",
   "metadata": {
    "ExecuteTime": {
     "end_time": "2024-06-12T17:30:49.954844Z",
     "start_time": "2024-06-12T17:30:49.939627Z"
    }
   },
   "source": [
    "# Load the CSV file into a DataFrame\n",
    "df = pd.read_csv('../../../data/sokoban/sokoban_final_grounded_dataset.csv')\n",
    "\n",
    "print(f\"Number of rows in the dataset: {df.shape[0]}\")\n",
    "df.head()"
   ],
   "outputs": [
    {
     "name": "stdout",
     "output_type": "stream",
     "text": [
      "Number of rows in the dataset: 216\n"
     ]
    },
    {
     "data": {
      "text/plain": [
       "                                                text  \\\n",
       "0        Why is moveLeft x1 y1 not used in the plan?   \n",
       "1       Why is moveRight x1 y1 not used in the plan?   \n",
       "2          Why is moveUp x1 y1 not used in the plan?   \n",
       "3        Why is moveDown x1 y1 not used in the plan?   \n",
       "4  Why is pushLeft x1 y1 z1 crate1 not used in th...   \n",
       "\n",
       "                                  intent  \n",
       "0  Why is action A not used in the plan?  \n",
       "1  Why is action A not used in the plan?  \n",
       "2  Why is action A not used in the plan?  \n",
       "3  Why is action A not used in the plan?  \n",
       "4  Why is action A not used in the plan?  "
      ],
      "text/html": [
       "<div>\n",
       "<style scoped>\n",
       "    .dataframe tbody tr th:only-of-type {\n",
       "        vertical-align: middle;\n",
       "    }\n",
       "\n",
       "    .dataframe tbody tr th {\n",
       "        vertical-align: top;\n",
       "    }\n",
       "\n",
       "    .dataframe thead th {\n",
       "        text-align: right;\n",
       "    }\n",
       "</style>\n",
       "<table border=\"1\" class=\"dataframe\">\n",
       "  <thead>\n",
       "    <tr style=\"text-align: right;\">\n",
       "      <th></th>\n",
       "      <th>text</th>\n",
       "      <th>intent</th>\n",
       "    </tr>\n",
       "  </thead>\n",
       "  <tbody>\n",
       "    <tr>\n",
       "      <th>0</th>\n",
       "      <td>Why is moveLeft x1 y1 not used in the plan?</td>\n",
       "      <td>Why is action A not used in the plan?</td>\n",
       "    </tr>\n",
       "    <tr>\n",
       "      <th>1</th>\n",
       "      <td>Why is moveRight x1 y1 not used in the plan?</td>\n",
       "      <td>Why is action A not used in the plan?</td>\n",
       "    </tr>\n",
       "    <tr>\n",
       "      <th>2</th>\n",
       "      <td>Why is moveUp x1 y1 not used in the plan?</td>\n",
       "      <td>Why is action A not used in the plan?</td>\n",
       "    </tr>\n",
       "    <tr>\n",
       "      <th>3</th>\n",
       "      <td>Why is moveDown x1 y1 not used in the plan?</td>\n",
       "      <td>Why is action A not used in the plan?</td>\n",
       "    </tr>\n",
       "    <tr>\n",
       "      <th>4</th>\n",
       "      <td>Why is pushLeft x1 y1 z1 crate1 not used in th...</td>\n",
       "      <td>Why is action A not used in the plan?</td>\n",
       "    </tr>\n",
       "  </tbody>\n",
       "</table>\n",
       "</div>"
      ]
     },
     "execution_count": 8,
     "metadata": {},
     "output_type": "execute_result"
    }
   ],
   "execution_count": 8
  },
  {
   "cell_type": "code",
   "id": "e4aea201d3bdc9ac",
   "metadata": {
    "ExecuteTime": {
     "end_time": "2024-06-12T17:30:51.593370Z",
     "start_time": "2024-06-12T17:30:51.590537Z"
    }
   },
   "source": [
    "# Define the candidate labels and their corresponding intent numbers\n",
    "candidate_labels = [\"Why is action A not used in the plan?\", \n",
    "                    \"Why is action A used in the plan?\", \n",
    "                    \"Why is action A used rather than action B?\"]\n",
    "\n",
    "intent_to_label = {label: intent for label, intent in zip(candidate_labels, range(1, 4))}\n",
    "intent_to_label"
   ],
   "outputs": [
    {
     "data": {
      "text/plain": [
       "{'Why is action A not used in the plan?': 1,\n",
       " 'Why is action A used in the plan?': 2,\n",
       " 'Why is action A used rather than action B?': 3}"
      ]
     },
     "execution_count": 9,
     "metadata": {},
     "output_type": "execute_result"
    }
   ],
   "execution_count": 9
  },
  {
   "cell_type": "code",
   "id": "70fc8d178444a138",
   "metadata": {
    "ExecuteTime": {
     "end_time": "2024-06-12T17:31:18.257044Z",
     "start_time": "2024-06-12T17:31:14.698751Z"
    }
   },
   "source": [
    "# Load a zero-shot classification pipeline\n",
    "classifier = pipeline(\"zero-shot-classification\", \n",
    "                      model=\"../../../models/grounded_saved_model_20240606_230822\", \n",
    "                      tokenizer=\"../../../models/grounded_saved_model_20240606_230822\")\n",
    "\n",
    "# Function to get predictions for each text\n",
    "def get_prediction(text):\n",
    "    result = classifier(text, candidate_labels)\n",
    "    predicted_label = intent_to_label[result['labels'][0]]\n",
    "    return predicted_label"
   ],
   "outputs": [],
   "execution_count": 11
  },
  {
   "cell_type": "code",
   "id": "9a858916c12682b1",
   "metadata": {
    "ExecuteTime": {
     "end_time": "2024-06-12T17:37:16.785888Z",
     "start_time": "2024-06-12T17:31:19.558422Z"
    }
   },
   "source": [
    "# Apply the function to the text column\n",
    "df['predicted_label'] = df['text'].swifter.apply(get_prediction)"
   ],
   "outputs": [
    {
     "data": {
      "text/plain": [
       "Pandas Apply:   0%|          | 0/216 [00:00<?, ?it/s]"
      ],
      "application/vnd.jupyter.widget-view+json": {
       "version_major": 2,
       "version_minor": 0,
       "model_id": "b5dac3d362cd449690c01e767553c1a9"
      }
     },
     "metadata": {},
     "output_type": "display_data"
    }
   ],
   "execution_count": 12
  },
  {
   "metadata": {
    "ExecuteTime": {
     "end_time": "2024-06-12T17:55:47.849387Z",
     "start_time": "2024-06-12T17:55:47.841198Z"
    }
   },
   "cell_type": "code",
   "source": [
    "# Convert the intent labels to numbers\n",
    "df['label'] = pd.factorize(df['intent'])[0] + 1\n",
    "df.head()"
   ],
   "id": "ab616bab80cc5efe",
   "outputs": [
    {
     "data": {
      "text/plain": [
       "                                                text  \\\n",
       "0        Why is moveLeft x1 y1 not used in the plan?   \n",
       "1       Why is moveRight x1 y1 not used in the plan?   \n",
       "2          Why is moveUp x1 y1 not used in the plan?   \n",
       "3        Why is moveDown x1 y1 not used in the plan?   \n",
       "4  Why is pushLeft x1 y1 z1 crate1 not used in th...   \n",
       "\n",
       "                                  intent  predicted_label  label  \n",
       "0  Why is action A not used in the plan?                1      1  \n",
       "1  Why is action A not used in the plan?                1      1  \n",
       "2  Why is action A not used in the plan?                1      1  \n",
       "3  Why is action A not used in the plan?                1      1  \n",
       "4  Why is action A not used in the plan?                2      1  "
      ],
      "text/html": [
       "<div>\n",
       "<style scoped>\n",
       "    .dataframe tbody tr th:only-of-type {\n",
       "        vertical-align: middle;\n",
       "    }\n",
       "\n",
       "    .dataframe tbody tr th {\n",
       "        vertical-align: top;\n",
       "    }\n",
       "\n",
       "    .dataframe thead th {\n",
       "        text-align: right;\n",
       "    }\n",
       "</style>\n",
       "<table border=\"1\" class=\"dataframe\">\n",
       "  <thead>\n",
       "    <tr style=\"text-align: right;\">\n",
       "      <th></th>\n",
       "      <th>text</th>\n",
       "      <th>intent</th>\n",
       "      <th>predicted_label</th>\n",
       "      <th>label</th>\n",
       "    </tr>\n",
       "  </thead>\n",
       "  <tbody>\n",
       "    <tr>\n",
       "      <th>0</th>\n",
       "      <td>Why is moveLeft x1 y1 not used in the plan?</td>\n",
       "      <td>Why is action A not used in the plan?</td>\n",
       "      <td>1</td>\n",
       "      <td>1</td>\n",
       "    </tr>\n",
       "    <tr>\n",
       "      <th>1</th>\n",
       "      <td>Why is moveRight x1 y1 not used in the plan?</td>\n",
       "      <td>Why is action A not used in the plan?</td>\n",
       "      <td>1</td>\n",
       "      <td>1</td>\n",
       "    </tr>\n",
       "    <tr>\n",
       "      <th>2</th>\n",
       "      <td>Why is moveUp x1 y1 not used in the plan?</td>\n",
       "      <td>Why is action A not used in the plan?</td>\n",
       "      <td>1</td>\n",
       "      <td>1</td>\n",
       "    </tr>\n",
       "    <tr>\n",
       "      <th>3</th>\n",
       "      <td>Why is moveDown x1 y1 not used in the plan?</td>\n",
       "      <td>Why is action A not used in the plan?</td>\n",
       "      <td>1</td>\n",
       "      <td>1</td>\n",
       "    </tr>\n",
       "    <tr>\n",
       "      <th>4</th>\n",
       "      <td>Why is pushLeft x1 y1 z1 crate1 not used in th...</td>\n",
       "      <td>Why is action A not used in the plan?</td>\n",
       "      <td>2</td>\n",
       "      <td>1</td>\n",
       "    </tr>\n",
       "  </tbody>\n",
       "</table>\n",
       "</div>"
      ]
     },
     "execution_count": 14,
     "metadata": {},
     "output_type": "execute_result"
    }
   ],
   "execution_count": 14
  },
  {
   "cell_type": "code",
   "id": "a5c48f13821b6de4",
   "metadata": {
    "ExecuteTime": {
     "end_time": "2024-06-12T17:55:50.803043Z",
     "start_time": "2024-06-12T17:55:50.794544Z"
    }
   },
   "source": [
    "# Compare predicted labels with actual labels\n",
    "y_true = df['label']\n",
    "y_pred = df['predicted_label']\n",
    "\n",
    "# Print the classification report\n",
    "print(classification_report(y_true, y_pred))\n",
    "print(f\"Accuracy: {accuracy_score(y_true, y_pred):.2f}\")"
   ],
   "outputs": [
    {
     "name": "stdout",
     "output_type": "stream",
     "text": [
      "              precision    recall  f1-score   support\n",
      "\n",
      "           1       1.00      0.46      0.63        72\n",
      "           2       0.00      0.00      0.00        72\n",
      "           3       0.46      1.00      0.63        72\n",
      "\n",
      "    accuracy                           0.49       216\n",
      "   macro avg       0.49      0.49      0.42       216\n",
      "weighted avg       0.49      0.49      0.42       216\n",
      "\n",
      "Accuracy: 0.49\n"
     ]
    }
   ],
   "execution_count": 15
  },
  {
   "metadata": {
    "ExecuteTime": {
     "end_time": "2024-06-12T17:56:34.151223Z",
     "start_time": "2024-06-12T17:56:34.145893Z"
    }
   },
   "cell_type": "code",
   "source": "df[df['label'] == 2]",
   "id": "201c6a4878880840",
   "outputs": [
    {
     "data": {
      "text/plain": [
       "                                                  text  \\\n",
       "72             Why is moveLeft x1 y1 used in the plan?   \n",
       "73            Why is moveRight x1 y1 used in the plan?   \n",
       "74               Why is moveUp x1 y1 used in the plan?   \n",
       "75             Why is moveDown x1 y1 used in the plan?   \n",
       "76   Why is pushLeft x1 y1 z1 crate1 used in the plan?   \n",
       "..                                                 ...   \n",
       "139            Why is moveDown x9 y9 used in the plan?   \n",
       "140  Why is pushLeft x9 y9 z9 crate9 used in the plan?   \n",
       "141  Why is pushRight x9 y9 z9 crate9 used in the p...   \n",
       "142    Why is pushUp x9 y9 z9 crate9 used in the plan?   \n",
       "143  Why is pushDown x9 y9 z9 crate9 used in the plan?   \n",
       "\n",
       "                                intent  predicted_label  label  \n",
       "72   Why is action A used in the plan?                3      2  \n",
       "73   Why is action A used in the plan?                3      2  \n",
       "74   Why is action A used in the plan?                3      2  \n",
       "75   Why is action A used in the plan?                3      2  \n",
       "76   Why is action A used in the plan?                3      2  \n",
       "..                                 ...              ...    ...  \n",
       "139  Why is action A used in the plan?                3      2  \n",
       "140  Why is action A used in the plan?                3      2  \n",
       "141  Why is action A used in the plan?                3      2  \n",
       "142  Why is action A used in the plan?                3      2  \n",
       "143  Why is action A used in the plan?                3      2  \n",
       "\n",
       "[72 rows x 4 columns]"
      ],
      "text/html": [
       "<div>\n",
       "<style scoped>\n",
       "    .dataframe tbody tr th:only-of-type {\n",
       "        vertical-align: middle;\n",
       "    }\n",
       "\n",
       "    .dataframe tbody tr th {\n",
       "        vertical-align: top;\n",
       "    }\n",
       "\n",
       "    .dataframe thead th {\n",
       "        text-align: right;\n",
       "    }\n",
       "</style>\n",
       "<table border=\"1\" class=\"dataframe\">\n",
       "  <thead>\n",
       "    <tr style=\"text-align: right;\">\n",
       "      <th></th>\n",
       "      <th>text</th>\n",
       "      <th>intent</th>\n",
       "      <th>predicted_label</th>\n",
       "      <th>label</th>\n",
       "    </tr>\n",
       "  </thead>\n",
       "  <tbody>\n",
       "    <tr>\n",
       "      <th>72</th>\n",
       "      <td>Why is moveLeft x1 y1 used in the plan?</td>\n",
       "      <td>Why is action A used in the plan?</td>\n",
       "      <td>3</td>\n",
       "      <td>2</td>\n",
       "    </tr>\n",
       "    <tr>\n",
       "      <th>73</th>\n",
       "      <td>Why is moveRight x1 y1 used in the plan?</td>\n",
       "      <td>Why is action A used in the plan?</td>\n",
       "      <td>3</td>\n",
       "      <td>2</td>\n",
       "    </tr>\n",
       "    <tr>\n",
       "      <th>74</th>\n",
       "      <td>Why is moveUp x1 y1 used in the plan?</td>\n",
       "      <td>Why is action A used in the plan?</td>\n",
       "      <td>3</td>\n",
       "      <td>2</td>\n",
       "    </tr>\n",
       "    <tr>\n",
       "      <th>75</th>\n",
       "      <td>Why is moveDown x1 y1 used in the plan?</td>\n",
       "      <td>Why is action A used in the plan?</td>\n",
       "      <td>3</td>\n",
       "      <td>2</td>\n",
       "    </tr>\n",
       "    <tr>\n",
       "      <th>76</th>\n",
       "      <td>Why is pushLeft x1 y1 z1 crate1 used in the plan?</td>\n",
       "      <td>Why is action A used in the plan?</td>\n",
       "      <td>3</td>\n",
       "      <td>2</td>\n",
       "    </tr>\n",
       "    <tr>\n",
       "      <th>...</th>\n",
       "      <td>...</td>\n",
       "      <td>...</td>\n",
       "      <td>...</td>\n",
       "      <td>...</td>\n",
       "    </tr>\n",
       "    <tr>\n",
       "      <th>139</th>\n",
       "      <td>Why is moveDown x9 y9 used in the plan?</td>\n",
       "      <td>Why is action A used in the plan?</td>\n",
       "      <td>3</td>\n",
       "      <td>2</td>\n",
       "    </tr>\n",
       "    <tr>\n",
       "      <th>140</th>\n",
       "      <td>Why is pushLeft x9 y9 z9 crate9 used in the plan?</td>\n",
       "      <td>Why is action A used in the plan?</td>\n",
       "      <td>3</td>\n",
       "      <td>2</td>\n",
       "    </tr>\n",
       "    <tr>\n",
       "      <th>141</th>\n",
       "      <td>Why is pushRight x9 y9 z9 crate9 used in the p...</td>\n",
       "      <td>Why is action A used in the plan?</td>\n",
       "      <td>3</td>\n",
       "      <td>2</td>\n",
       "    </tr>\n",
       "    <tr>\n",
       "      <th>142</th>\n",
       "      <td>Why is pushUp x9 y9 z9 crate9 used in the plan?</td>\n",
       "      <td>Why is action A used in the plan?</td>\n",
       "      <td>3</td>\n",
       "      <td>2</td>\n",
       "    </tr>\n",
       "    <tr>\n",
       "      <th>143</th>\n",
       "      <td>Why is pushDown x9 y9 z9 crate9 used in the plan?</td>\n",
       "      <td>Why is action A used in the plan?</td>\n",
       "      <td>3</td>\n",
       "      <td>2</td>\n",
       "    </tr>\n",
       "  </tbody>\n",
       "</table>\n",
       "<p>72 rows × 4 columns</p>\n",
       "</div>"
      ]
     },
     "execution_count": 20,
     "metadata": {},
     "output_type": "execute_result"
    }
   ],
   "execution_count": 20
  },
  {
   "cell_type": "code",
   "id": "51ca88d65c800c3c",
   "metadata": {
    "ExecuteTime": {
     "end_time": "2024-06-12T17:55:52.521080Z",
     "start_time": "2024-06-12T17:55:52.515510Z"
    }
   },
   "source": [
    "# Display the rows in which the predictions didn't match the label\n",
    "incorrect_predictions = df[df['label'] != df['predicted_label']]\n",
    "print(f\"{incorrect_predictions.shape[0]} incorrect predictions out of {df.shape[0]} test samples.\")\n",
    "incorrect_predictions.head()"
   ],
   "outputs": [
    {
     "name": "stdout",
     "output_type": "stream",
     "text": [
      "111 incorrect predictions out of 216 test samples.\n"
     ]
    },
    {
     "data": {
      "text/plain": [
       "                                                 text  \\\n",
       "4   Why is pushLeft x1 y1 z1 crate1 not used in th...   \n",
       "5   Why is pushRight x1 y1 z1 crate1 not used in t...   \n",
       "6   Why is pushUp x1 y1 z1 crate1 not used in the ...   \n",
       "7   Why is pushDown x1 y1 z1 crate1 not used in th...   \n",
       "12  Why is pushLeft x2 y2 z2 crate2 not used in th...   \n",
       "\n",
       "                                   intent  predicted_label  label  \n",
       "4   Why is action A not used in the plan?                2      1  \n",
       "5   Why is action A not used in the plan?                2      1  \n",
       "6   Why is action A not used in the plan?                2      1  \n",
       "7   Why is action A not used in the plan?                2      1  \n",
       "12  Why is action A not used in the plan?                2      1  "
      ],
      "text/html": [
       "<div>\n",
       "<style scoped>\n",
       "    .dataframe tbody tr th:only-of-type {\n",
       "        vertical-align: middle;\n",
       "    }\n",
       "\n",
       "    .dataframe tbody tr th {\n",
       "        vertical-align: top;\n",
       "    }\n",
       "\n",
       "    .dataframe thead th {\n",
       "        text-align: right;\n",
       "    }\n",
       "</style>\n",
       "<table border=\"1\" class=\"dataframe\">\n",
       "  <thead>\n",
       "    <tr style=\"text-align: right;\">\n",
       "      <th></th>\n",
       "      <th>text</th>\n",
       "      <th>intent</th>\n",
       "      <th>predicted_label</th>\n",
       "      <th>label</th>\n",
       "    </tr>\n",
       "  </thead>\n",
       "  <tbody>\n",
       "    <tr>\n",
       "      <th>4</th>\n",
       "      <td>Why is pushLeft x1 y1 z1 crate1 not used in th...</td>\n",
       "      <td>Why is action A not used in the plan?</td>\n",
       "      <td>2</td>\n",
       "      <td>1</td>\n",
       "    </tr>\n",
       "    <tr>\n",
       "      <th>5</th>\n",
       "      <td>Why is pushRight x1 y1 z1 crate1 not used in t...</td>\n",
       "      <td>Why is action A not used in the plan?</td>\n",
       "      <td>2</td>\n",
       "      <td>1</td>\n",
       "    </tr>\n",
       "    <tr>\n",
       "      <th>6</th>\n",
       "      <td>Why is pushUp x1 y1 z1 crate1 not used in the ...</td>\n",
       "      <td>Why is action A not used in the plan?</td>\n",
       "      <td>2</td>\n",
       "      <td>1</td>\n",
       "    </tr>\n",
       "    <tr>\n",
       "      <th>7</th>\n",
       "      <td>Why is pushDown x1 y1 z1 crate1 not used in th...</td>\n",
       "      <td>Why is action A not used in the plan?</td>\n",
       "      <td>2</td>\n",
       "      <td>1</td>\n",
       "    </tr>\n",
       "    <tr>\n",
       "      <th>12</th>\n",
       "      <td>Why is pushLeft x2 y2 z2 crate2 not used in th...</td>\n",
       "      <td>Why is action A not used in the plan?</td>\n",
       "      <td>2</td>\n",
       "      <td>1</td>\n",
       "    </tr>\n",
       "  </tbody>\n",
       "</table>\n",
       "</div>"
      ]
     },
     "execution_count": 16,
     "metadata": {},
     "output_type": "execute_result"
    }
   ],
   "execution_count": 16
  }
 ],
 "metadata": {
  "kernelspec": {
   "display_name": "Python 3",
   "language": "python",
   "name": "python3"
  },
  "language_info": {
   "codemirror_mode": {
    "name": "ipython",
    "version": 2
   },
   "file_extension": ".py",
   "mimetype": "text/x-python",
   "name": "python",
   "nbconvert_exporter": "python",
   "pygments_lexer": "ipython2",
   "version": "2.7.6"
  }
 },
 "nbformat": 4,
 "nbformat_minor": 5
}
