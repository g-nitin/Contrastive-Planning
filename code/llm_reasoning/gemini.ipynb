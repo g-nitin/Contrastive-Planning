{
 "cells": [
  {
   "cell_type": "code",
   "id": "initial_id",
   "metadata": {
    "collapsed": true,
    "ExecuteTime": {
     "end_time": "2024-06-18T21:22:46.988613Z",
     "start_time": "2024-06-18T21:22:46.580216Z"
    }
   },
   "source": [
    "from dotenv import load_dotenv\n",
    "from os import getenv\n",
    "import textwrap\n",
    "from IPython.display import Markdown\n",
    "\n",
    "import google.generativeai as genai\n",
    "\n",
    "load_dotenv()\n",
    "genai.configure(api_key=getenv('GOOGLE_API_KEY'))\n",
    "\n",
    "# https://ai.google.dev/gemini-api/docs/get-started/tutorial?lang=python"
   ],
   "outputs": [],
   "execution_count": 1
  },
  {
   "metadata": {
    "ExecuteTime": {
     "end_time": "2024-06-18T21:22:46.992286Z",
     "start_time": "2024-06-18T21:22:46.989912Z"
    }
   },
   "cell_type": "code",
   "source": [
    "def to_markdown(text):\n",
    "  text = text.replace('•', '  *')\n",
    "  return Markdown(textwrap.indent(text, '> ', predicate=lambda _: True))"
   ],
   "id": "451c1049df7f798b",
   "outputs": [],
   "execution_count": 2
  },
  {
   "metadata": {
    "ExecuteTime": {
     "end_time": "2024-06-18T21:22:46.995423Z",
     "start_time": "2024-06-18T21:22:46.993015Z"
    }
   },
   "cell_type": "code",
   "source": "model = genai.GenerativeModel('gemini-1.5-flash')",
   "id": "646d01259fb538aa",
   "outputs": [],
   "execution_count": 3
  },
  {
   "metadata": {
    "ExecuteTime": {
     "end_time": "2024-06-18T21:22:47.249938Z",
     "start_time": "2024-06-18T21:22:46.996415Z"
    }
   },
   "cell_type": "code",
   "source": [
    "for m in genai.list_models():\n",
    "  if 'generateContent' in m.supported_generation_methods:\n",
    "    print(m.name)"
   ],
   "id": "2c1fa9b5ee467af8",
   "outputs": [
    {
     "name": "stdout",
     "output_type": "stream",
     "text": [
      "models/gemini-1.0-pro\n",
      "models/gemini-1.0-pro-001\n",
      "models/gemini-1.0-pro-latest\n",
      "models/gemini-1.0-pro-vision-latest\n",
      "models/gemini-1.5-flash\n",
      "models/gemini-1.5-flash-001\n",
      "models/gemini-1.5-flash-latest\n",
      "models/gemini-1.5-pro\n",
      "models/gemini-1.5-pro-001\n",
      "models/gemini-1.5-pro-latest\n",
      "models/gemini-pro\n",
      "models/gemini-pro-vision\n"
     ]
    }
   ],
   "execution_count": 4
  },
  {
   "metadata": {},
   "cell_type": "markdown",
   "source": "<br>",
   "id": "b3e3ecf2d47580fa"
  },
  {
   "metadata": {
    "ExecuteTime": {
     "end_time": "2024-06-18T21:22:51.565213Z",
     "start_time": "2024-06-18T21:22:51.561471Z"
    }
   },
   "cell_type": "code",
   "source": "import sokoban_prompt ",
   "id": "6fb5d24d20f97d66",
   "outputs": [],
   "execution_count": 9
  },
  {
   "metadata": {
    "ExecuteTime": {
     "end_time": "2024-06-18T21:22:51.568791Z",
     "start_time": "2024-06-18T21:22:51.566122Z"
    }
   },
   "cell_type": "code",
   "source": "print(sokoban_prompt.prompt_1)",
   "id": "8b518ce328deece4",
   "outputs": [
    {
     "name": "stdout",
     "output_type": "stream",
     "text": [
      "\n",
      "I have a Sokoban problem with the following initial and goal states expressed in PDDL:\n",
      "\n",
      "**Initial and Goal States:**\n",
      "```\n",
      "\n",
      "    (define (problem s1)\n",
      "        (:domain sokoban)\n",
      "        (:objects sokoban, crate2, l1, l2, l5, l6, l9, l10, l11, l12, l13, l14, l15, l16, l17, l18)\n",
      "        (:init (sokoban sokoban) \n",
      "               (crate crate2)\n",
      "    \n",
      "               ;;horizontal relationships\n",
      "               (leftOf l1 l2) \n",
      "               (leftOf l5 l6) \n",
      "               (leftOf l9 l10) (leftOf l10 l11) (leftOf l11 l12) \n",
      "               (leftOf l13 l14) (leftOf l14 l15) (leftOf l15 l16)\n",
      "               (leftOf l17 l18)\n",
      "    \n",
      "               ;;vertical relationships\n",
      "               (below l5 l1) (below l6 l2)\n",
      "               (below l9 l5) (below l10 l6)\n",
      "               (below l13 l9) (below l14 l10) (below l15 l11) (below l16 l12)\n",
      "               (below l17 l13) (below l18 l14)\n",
      "    \n",
      "               ;;initialize sokoban and crate\n",
      "               (at sokoban l10)\n",
      "               (at crate2 l15) \n",
      "    \n",
      "               ;;clear spaces\n",
      "               (clear l1) \n",
      "               (clear l2) \n",
      "               (clear l5) \n",
      "               (clear l6) \n",
      "               (clear l9)\n",
      "               (clear l11)\n",
      "               (clear l12) \n",
      "               (clear l13) \n",
      "               (clear l14)\n",
      "               (clear l16) \n",
      "               (clear l17)   \t\t\t\t\n",
      "               (clear l18))\n",
      "    \n",
      "        (:goal (and (at crate2 l2)))\n",
      "    )\n",
      "\n",
      "```\n",
      "\n",
      "**Generated Solution Plan:**\n",
      "```\n",
      "\n",
      "    ((moveright sokoban l10 l11)\n",
      "     (moveright sokoban l11 l12)\n",
      "     (movedown sokoban l12 l16)\n",
      "     (pushleft sokoban l16 l15 l14 crate2)\n",
      "     (moveup sokoban l15 l11)\n",
      "     (moveleft sokoban l11 l10)\n",
      "     (moveleft sokoban l10 l9)\n",
      "     (movedown sokoban l9 l13)\n",
      "     (movedown sokoban l13 l17)\n",
      "     (moveright sokoban l17 l18)\n",
      "     (pushup sokoban l18 l14 l10 crate2)\n",
      "     (pushup sokoban l14 l10 l6 crate2)\n",
      "     (pushup sokoban l10 l6 l2 crate2))\n",
      "\n",
      "\n",
      "```\n",
      "\n",
      "I need you to answer the following question concisely by reasoning through the provided information:\n",
      "\n",
      "**Question:**\n",
      "```\n",
      "Why is the action moveup used in the solution?\n",
      "```\n",
      "\n",
      "For context, here is additional information about the specific action mentioned in the question:\n",
      "\n",
      "**Action:**\n",
      "```\n",
      "moveup\n",
      "```\n",
      "\n",
      "**Preconditions of the Action:**\n",
      "```\n",
      "['sokoban ?sokoban', 'at ?sokoban ?x', 'below ?x ?y', 'clear ?y']\n",
      "```\n",
      "\n",
      "**Effects of the Action:**\n",
      "```\n",
      "['at ?sokoban ?y', 'clear ?x', 'not (at ?sokoban ?x)', 'not (clear ?y)']\n",
      "```\n",
      "\n",
      "Using this information, please provide a short, logical response that addresses the question.\n",
      "---\n",
      "\n",
      "\n"
     ]
    }
   ],
   "execution_count": 10
  },
  {
   "metadata": {
    "ExecuteTime": {
     "end_time": "2024-06-18T21:24:37.421683Z",
     "start_time": "2024-06-18T21:24:36.326305Z"
    }
   },
   "cell_type": "code",
   "source": [
    "%%time\n",
    "response = model.generate_content(sokoban_prompt.prompt_1)\n",
    "to_markdown(response.text)"
   ],
   "id": "7bcf63bf5a8369a5",
   "outputs": [
    {
     "name": "stdout",
     "output_type": "stream",
     "text": [
      "CPU times: user 4 ms, sys: 2.97 ms, total: 6.97 ms\n",
      "Wall time: 1.09 s\n"
     ]
    },
    {
     "data": {
      "text/plain": [
       "<IPython.core.display.Markdown object>"
      ],
      "text/markdown": "> The `moveup` action is used in the solution because it is necessary to move the sokoban to a higher location to reach the crate and push it to the goal location. The sokoban needs to move up from location `l15` to `l11` to then move left and down to reach the crate at `l15`. \n"
     },
     "execution_count": 11,
     "metadata": {},
     "output_type": "execute_result"
    }
   ],
   "execution_count": 11
  }
 ],
 "metadata": {
  "kernelspec": {
   "display_name": "Python 3",
   "language": "python",
   "name": "python3"
  },
  "language_info": {
   "codemirror_mode": {
    "name": "ipython",
    "version": 2
   },
   "file_extension": ".py",
   "mimetype": "text/x-python",
   "name": "python",
   "nbconvert_exporter": "python",
   "pygments_lexer": "ipython2",
   "version": "2.7.6"
  }
 },
 "nbformat": 4,
 "nbformat_minor": 5
}
