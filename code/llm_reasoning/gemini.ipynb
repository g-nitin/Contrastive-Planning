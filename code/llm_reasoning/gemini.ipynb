{
 "cells": [
  {
   "cell_type": "code",
   "id": "initial_id",
   "metadata": {
    "collapsed": true,
    "ExecuteTime": {
     "end_time": "2024-06-22T18:11:20.614863Z",
     "start_time": "2024-06-22T18:11:20.290464Z"
    }
   },
   "source": [
    "from dotenv import load_dotenv\n",
    "from os import getenv\n",
    "import textwrap\n",
    "from IPython.display import Markdown\n",
    "\n",
    "import google.generativeai as genai\n",
    "\n",
    "load_dotenv()\n",
    "genai.configure(api_key=getenv('GOOGLE_API_KEY'))\n",
    "\n",
    "# https://ai.google.dev/gemini-api/docs/get-started/tutorial?lang=python"
   ],
   "outputs": [],
   "execution_count": 1
  },
  {
   "metadata": {
    "ExecuteTime": {
     "end_time": "2024-06-22T18:11:20.620143Z",
     "start_time": "2024-06-22T18:11:20.616709Z"
    }
   },
   "cell_type": "code",
   "source": [
    "def to_markdown(text):\n",
    "  text = text.replace('•', '  *')\n",
    "  return Markdown(textwrap.indent(text, '> ', predicate=lambda _: True))"
   ],
   "id": "451c1049df7f798b",
   "outputs": [],
   "execution_count": 2
  },
  {
   "metadata": {
    "ExecuteTime": {
     "end_time": "2024-06-22T18:11:20.623457Z",
     "start_time": "2024-06-22T18:11:20.621551Z"
    }
   },
   "cell_type": "code",
   "source": "model = genai.GenerativeModel('gemini-1.5-flash')",
   "id": "646d01259fb538aa",
   "outputs": [],
   "execution_count": 3
  },
  {
   "metadata": {
    "ExecuteTime": {
     "end_time": "2024-06-22T18:11:20.877458Z",
     "start_time": "2024-06-22T18:11:20.625929Z"
    }
   },
   "cell_type": "code",
   "source": [
    "for m in genai.list_models():\n",
    "  if 'generateContent' in m.supported_generation_methods:\n",
    "    print(m.name)"
   ],
   "id": "2c1fa9b5ee467af8",
   "outputs": [
    {
     "name": "stdout",
     "output_type": "stream",
     "text": [
      "models/gemini-1.0-pro\n",
      "models/gemini-1.0-pro-001\n",
      "models/gemini-1.0-pro-latest\n",
      "models/gemini-1.0-pro-vision-latest\n",
      "models/gemini-1.5-flash\n",
      "models/gemini-1.5-flash-001\n",
      "models/gemini-1.5-flash-latest\n",
      "models/gemini-1.5-pro\n",
      "models/gemini-1.5-pro-001\n",
      "models/gemini-1.5-pro-latest\n",
      "models/gemini-pro\n",
      "models/gemini-pro-vision\n"
     ]
    }
   ],
   "execution_count": 4
  },
  {
   "metadata": {},
   "cell_type": "markdown",
   "source": "<br>",
   "id": "b3e3ecf2d47580fa"
  },
  {
   "metadata": {
    "ExecuteTime": {
     "end_time": "2024-06-22T18:11:20.880588Z",
     "start_time": "2024-06-22T18:11:20.878333Z"
    }
   },
   "cell_type": "code",
   "source": [
    "def get_response(prompt: str) -> str:\n",
    "    response = model.generate_content(prompt)\n",
    "    return response.text"
   ],
   "id": "71ef074a669a2103",
   "outputs": [],
   "execution_count": 5
  },
  {
   "metadata": {
    "ExecuteTime": {
     "end_time": "2024-06-22T18:11:20.884088Z",
     "start_time": "2024-06-22T18:11:20.881685Z"
    }
   },
   "cell_type": "code",
   "source": "from sokoban_prompt import *",
   "id": "6fb5d24d20f97d66",
   "outputs": [],
   "execution_count": 6
  },
  {
   "metadata": {},
   "cell_type": "markdown",
   "source": "<br>",
   "id": "bb9d2f89d4449233"
  },
  {
   "metadata": {
    "ExecuteTime": {
     "end_time": "2024-06-22T18:11:20.888197Z",
     "start_time": "2024-06-22T18:11:20.884729Z"
    }
   },
   "cell_type": "code",
   "source": "display(Markdown(prompt_1()))",
   "id": "8b518ce328deece4",
   "outputs": [
    {
     "data": {
      "text/plain": [
       "<IPython.core.display.Markdown object>"
      ],
      "text/markdown": "\n    I have a Sokoban problem with the following initial and goal states expressed in PDDL:\n\n    **Initial and Goal States:**\n    ```\n    \n    (define (problem s1)\n        (:domain sokoban)\n        (:objects sokoban, crate2, l1, l2, l5, l6, l9, l10, l11, l12, l13, l14, l15, l16, l17, l18)\n        (:init (sokoban sokoban) \n               (crate crate2)\n\n               ;;horizontal relationships\n               (leftOf l1 l2) \n               (leftOf l5 l6) \n               (leftOf l9 l10) (leftOf l10 l11) (leftOf l11 l12) \n               (leftOf l13 l14) (leftOf l14 l15) (leftOf l15 l16)\n               (leftOf l17 l18)\n\n               ;;vertical relationships\n               (below l5 l1) (below l6 l2)\n               (below l9 l5) (below l10 l6)\n               (below l13 l9) (below l14 l10) (below l15 l11) (below l16 l12)\n               (below l17 l13) (below l18 l14)\n\n               ;;initialize sokoban and crate\n               (at sokoban l10)\n               (at crate2 l15) \n\n               ;;clear spaces\n               (clear l1) \n               (clear l2) \n               (clear l5) \n               (clear l6) \n               (clear l9)\n               (clear l11)\n               (clear l12) \n               (clear l13) \n               (clear l14)\n               (clear l16) \n               (clear l17)   \t\t\t\t\n               (clear l18))\n\n        (:goal (and (at crate2 l2)))\n    )\n    \n    ```\n\n    **Generated Solution Plan:**\n    ```\n    \n    ((moveright sokoban l10 l11)\n     (moveright sokoban l11 l12)\n     (movedown sokoban l12 l16)\n     (pushleft sokoban l16 l15 l14 crate2)\n     (moveup sokoban l15 l11)\n     (moveleft sokoban l11 l10)\n     (moveleft sokoban l10 l9)\n     (movedown sokoban l9 l13)\n     (movedown sokoban l13 l17)\n     (moveright sokoban l17 l18)\n     (pushup sokoban l18 l14 l10 crate2)\n     (pushup sokoban l14 l10 l6 crate2)\n     (pushup sokoban l10 l6 l2 crate2))\n    \n    ```\n\n    I need you to answer the following question concisely by reasoning through the provided information:\n\n    **Question:**\n    ```\n    Why is the action moveup sokoban l15 l11 used in the solution?\n    ```\n\n    For context, here is additional information about the specific action mentioned in the question:\n\n    **Action:**\n    ```\n    moveup sokoban l15 l11\n    ```\n\n    **Preconditions of the Action:**\n    ```\n    ['sokoban sokoban', 'at sokoban l15', 'below l15 l11', 'clear l11']\n    ```\n\n    **Effects of the Action:**\n    ```\n    ['at sokoban l11', 'clear l15', 'not (at sokoban l15)', 'not (clear l11)']\n    ```\n\n    Using this information, please provide a short, logical response that addresses the question.\n    "
     },
     "metadata": {},
     "output_type": "display_data"
    }
   ],
   "execution_count": 7
  },
  {
   "metadata": {
    "ExecuteTime": {
     "end_time": "2024-06-22T18:11:22.282718Z",
     "start_time": "2024-06-22T18:11:20.888843Z"
    }
   },
   "cell_type": "code",
   "source": [
    "%%time\n",
    "response_1 = get_response(prompt_1())"
   ],
   "id": "7bcf63bf5a8369a5",
   "outputs": [
    {
     "name": "stdout",
     "output_type": "stream",
     "text": [
      "CPU times: user 2.95 ms, sys: 2.48 ms, total: 5.43 ms\n",
      "Wall time: 1.39 s\n"
     ]
    }
   ],
   "execution_count": 8
  },
  {
   "metadata": {
    "ExecuteTime": {
     "end_time": "2024-06-22T18:11:22.287076Z",
     "start_time": "2024-06-22T18:11:22.283625Z"
    }
   },
   "cell_type": "code",
   "source": "display(to_markdown(response_1))",
   "id": "e1ab593a5b030d9c",
   "outputs": [
    {
     "data": {
      "text/plain": [
       "<IPython.core.display.Markdown object>"
      ],
      "text/markdown": "> The action `moveup sokoban l15 l11` is used to move the Sokoban (the agent) from location `l15` to location `l11`. This action is necessary because the Sokoban needs to be positioned above the crate at `l11` to push it upwards towards the goal location `l2`. This action satisfies the preconditions of the subsequent `moveleft` action, which is required to continue the solution plan. \n"
     },
     "metadata": {},
     "output_type": "display_data"
    }
   ],
   "execution_count": 9
  },
  {
   "metadata": {
    "ExecuteTime": {
     "end_time": "2024-06-22T18:11:22.292490Z",
     "start_time": "2024-06-22T18:11:22.289512Z"
    }
   },
   "cell_type": "code",
   "source": "response_1",
   "id": "2aa0171277c789d8",
   "outputs": [
    {
     "data": {
      "text/plain": [
       "'The action `moveup sokoban l15 l11` is used to move the Sokoban (the agent) from location `l15` to location `l11`. This action is necessary because the Sokoban needs to be positioned above the crate at `l11` to push it upwards towards the goal location `l2`. This action satisfies the preconditions of the subsequent `moveleft` action, which is required to continue the solution plan. \\n'"
      ]
     },
     "execution_count": 10,
     "metadata": {},
     "output_type": "execute_result"
    }
   ],
   "execution_count": 10
  },
  {
   "metadata": {},
   "cell_type": "markdown",
   "source": "<br>",
   "id": "e31515c36724149b"
  },
  {
   "metadata": {
    "ExecuteTime": {
     "end_time": "2024-06-22T18:11:22.298880Z",
     "start_time": "2024-06-22T18:11:22.294130Z"
    }
   },
   "cell_type": "code",
   "source": "display(Markdown(prompt_2()))",
   "id": "9a1331a8c7d7fe93",
   "outputs": [
    {
     "data": {
      "text/plain": [
       "<IPython.core.display.Markdown object>"
      ],
      "text/markdown": "\n    I have a Sokoban problem with the following initial and goal states expressed in PDDL:\n\n    **Initial and Goal States:**\n    ```\n    \n    (define (problem s1)\n        (:domain sokoban)\n        (:objects sokoban, crate2, l1, l2, l5, l6, l9, l10, l11, l12, l13, l14, l15, l16, l17, l18)\n        (:init (sokoban sokoban) \n               (crate crate2)\n\n               ;;horizontal relationships\n               (leftOf l1 l2) \n               (leftOf l5 l6) \n               (leftOf l9 l10) (leftOf l10 l11) (leftOf l11 l12) \n               (leftOf l13 l14) (leftOf l14 l15) (leftOf l15 l16)\n               (leftOf l17 l18)\n\n               ;;vertical relationships\n               (below l5 l1) (below l6 l2)\n               (below l9 l5) (below l10 l6)\n               (below l13 l9) (below l14 l10) (below l15 l11) (below l16 l12)\n               (below l17 l13) (below l18 l14)\n\n               ;;initialize sokoban and crate\n               (at sokoban l10)\n               (at crate2 l15) \n\n               ;;clear spaces\n               (clear l1) \n               (clear l2) \n               (clear l5) \n               (clear l6) \n               (clear l9)\n               (clear l11)\n               (clear l12) \n               (clear l13) \n               (clear l14)\n               (clear l16) \n               (clear l17)   \t\t\t\t\n               (clear l18))\n\n        (:goal (and (at crate2 l2)))\n    )\n    \n    ```\n\n    **Generated Solution Plan:**\n    ```\n    \n    ((moveright sokoban l10 l11)\n     (moveright sokoban l11 l12)\n     (movedown sokoban l12 l16)\n     (pushleft sokoban l16 l15 l14 crate2)\n     (moveup sokoban l15 l11)\n     (moveleft sokoban l11 l10)\n     (moveleft sokoban l10 l9)\n     (movedown sokoban l9 l13)\n     (movedown sokoban l13 l17)\n     (moveright sokoban l17 l18)\n     (pushup sokoban l18 l14 l10 crate2)\n     (pushup sokoban l14 l10 l6 crate2)\n     (pushup sokoban l10 l6 l2 crate2))\n    \n    ```\n\n    I need you to answer the following question concisely by reasoning through the provided information:\n\n    **Question:**\n    ```\n    Why is the action pushdown sokoban l18 l14 l10 crate2 not used in the solution for the third last step?\n    ```\n\n    For context, here is additional information about the specific action mentioned in the question:\n\n    **Action:**\n    ```\n    pushdown sokoban l18 l14 l10 crate2\n    ```\n\n    **Preconditions of the Action:**\n    ```\n    ['sokoban sokoban', 'crate crate2', 'below l14 l18', 'below l10 l14', 'at sokoban l18', 'at crate2 l14', 'clear l10']\n    ```\n\n    **Effects of the Action:**\n    ```\n    ['at sokoban l14', 'at crate2 l10', 'clear l18', 'not (at sokoban l18)', 'not (at crate2 l14)', 'not (clear l14)', 'not (clear l10)']\n    ```\n\n    Using this information, please provide a short, logical response that addresses the question.\n    "
     },
     "metadata": {},
     "output_type": "display_data"
    }
   ],
   "execution_count": 11
  },
  {
   "metadata": {
    "ExecuteTime": {
     "end_time": "2024-06-22T18:11:23.614047Z",
     "start_time": "2024-06-22T18:11:22.300047Z"
    }
   },
   "cell_type": "code",
   "source": [
    "%%time\n",
    "response_2 = get_response(prompt_2())"
   ],
   "id": "b1cf981c43fbff35",
   "outputs": [
    {
     "name": "stdout",
     "output_type": "stream",
     "text": [
      "CPU times: user 2.02 ms, sys: 1.43 ms, total: 3.44 ms\n",
      "Wall time: 1.31 s\n"
     ]
    }
   ],
   "execution_count": 12
  },
  {
   "metadata": {
    "ExecuteTime": {
     "end_time": "2024-06-22T18:11:23.618462Z",
     "start_time": "2024-06-22T18:11:23.614969Z"
    }
   },
   "cell_type": "code",
   "source": "display(to_markdown(response_2))",
   "id": "b0613d708b42f22d",
   "outputs": [
    {
     "data": {
      "text/plain": [
       "<IPython.core.display.Markdown object>"
      ],
      "text/markdown": "> The action `pushdown sokoban l18 l14 l10 crate2` is not used because the Sokoban is not at location `l18` in the third last step of the solution. The Sokoban is at location `l14` after pushing the crate up to location `l10`. The preconditions for the action require the Sokoban to be at location `l18`, which is not the case. \n"
     },
     "metadata": {},
     "output_type": "display_data"
    }
   ],
   "execution_count": 13
  },
  {
   "metadata": {
    "ExecuteTime": {
     "end_time": "2024-06-22T18:11:23.623717Z",
     "start_time": "2024-06-22T18:11:23.619754Z"
    }
   },
   "cell_type": "code",
   "source": "response_2",
   "id": "9cf2e58b3596fb69",
   "outputs": [
    {
     "data": {
      "text/plain": [
       "'The action `pushdown sokoban l18 l14 l10 crate2` is not used because the Sokoban is not at location `l18` in the third last step of the solution. The Sokoban is at location `l14` after pushing the crate up to location `l10`. The preconditions for the action require the Sokoban to be at location `l18`, which is not the case. \\n'"
      ]
     },
     "execution_count": 14,
     "metadata": {},
     "output_type": "execute_result"
    }
   ],
   "execution_count": 14
  },
  {
   "metadata": {},
   "cell_type": "markdown",
   "source": "<br>",
   "id": "1984924079737633"
  },
  {
   "metadata": {
    "ExecuteTime": {
     "end_time": "2024-06-22T18:11:23.627743Z",
     "start_time": "2024-06-22T18:11:23.624528Z"
    }
   },
   "cell_type": "code",
   "source": "display(Markdown(prompt_3()))",
   "id": "5d5344ed1a196cf9",
   "outputs": [
    {
     "data": {
      "text/plain": [
       "<IPython.core.display.Markdown object>"
      ],
      "text/markdown": "\n    I have a Sokoban problem with the following initial and goal states expressed in PDDL:\n\n    **Initial and Goal States:**\n    ```\n    \n    (define (problem s1)\n        (:domain sokoban)\n        (:objects sokoban, crate2, l1, l2, l5, l6, l9, l10, l11, l12, l13, l14, l15, l16, l17, l18)\n        (:init (sokoban sokoban) \n               (crate crate2)\n\n               ;;horizontal relationships\n               (leftOf l1 l2) \n               (leftOf l5 l6) \n               (leftOf l9 l10) (leftOf l10 l11) (leftOf l11 l12) \n               (leftOf l13 l14) (leftOf l14 l15) (leftOf l15 l16)\n               (leftOf l17 l18)\n\n               ;;vertical relationships\n               (below l5 l1) (below l6 l2)\n               (below l9 l5) (below l10 l6)\n               (below l13 l9) (below l14 l10) (below l15 l11) (below l16 l12)\n               (below l17 l13) (below l18 l14)\n\n               ;;initialize sokoban and crate\n               (at sokoban l10)\n               (at crate2 l15) \n\n               ;;clear spaces\n               (clear l1) \n               (clear l2) \n               (clear l5) \n               (clear l6) \n               (clear l9)\n               (clear l11)\n               (clear l12) \n               (clear l13) \n               (clear l14)\n               (clear l16) \n               (clear l17)   \t\t\t\t\n               (clear l18))\n\n        (:goal (and (at crate2 l2)))\n    )\n    \n    ```\n\n    **Generated Solution Plan:**\n    ```\n    \n    ((moveright sokoban l10 l11)\n     (moveright sokoban l11 l12)\n     (movedown sokoban l12 l16)\n     (pushleft sokoban l16 l15 l14 crate2)\n     (moveup sokoban l15 l11)\n     (moveleft sokoban l11 l10)\n     (moveleft sokoban l10 l9)\n     (movedown sokoban l9 l13)\n     (movedown sokoban l13 l17)\n     (moveright sokoban l17 l18)\n     (pushup sokoban l18 l14 l10 crate2)\n     (pushup sokoban l14 l10 l6 crate2)\n     (pushup sokoban l10 l6 l2 crate2))\n    \n    ```\n\n    I need you to answer the following question concisely by reasoning through the provided information:\n\n    **Question:**\n    ```\n    For the last step, why is the action pushup sokoban l10 l6 l2 crate2 used in the solution rather than action pushdown sokoban l12 l6 l2 crate2?\n    ```\n\n    For context, here is additional information about the specific actions mentioned in the question:\n\n    **Action 1:**\n    ```\n    pushup sokoban l10 l6 l2 crate2\n    ```\n\n    **Preconditions of the 1st Action:**\n    ```\n    ['sokoban sokoban', 'crate crate2', 'below l10 l6', 'below l6 l2', 'at sokoban l10', 'at crate2 l6', 'clear l2']\n    ```\n\n    **Effects of the 1st Action:**\n    ```\n    ['at sokoban l6', 'at crate2 l2', 'clear l10', 'not (at sokoban l10)', 'not (at crate2 l6)', 'not (clear l6)', 'not (clear l2)']\n    ```\n    \n    **Action 2:**\n    ```\n    pushdown sokoban l12 l6 l2 crate2\n    ```\n\n    **Preconditions of the 2nd Action:**\n    ```\n    ['sokoban sokoban', 'crate crate2', 'below l6 l12', 'below l2 l6', 'at sokoban l12', 'at crate l6', 'clear l2']\n    ```\n\n    **Effects of the 2nd Action:**\n    ```\n    ['at sokoban l6', 'at crate2 l2', 'clear l12', 'not (at sokoban l12)', 'not (at crate2 l6)', 'not (clear l6)', 'not (clear l2)']\n    ```\n\n    Using this information, please provide a short, logical response that addresses the question.\n    "
     },
     "metadata": {},
     "output_type": "display_data"
    }
   ],
   "execution_count": 15
  },
  {
   "metadata": {
    "ExecuteTime": {
     "end_time": "2024-06-22T18:11:25.020690Z",
     "start_time": "2024-06-22T18:11:23.628610Z"
    }
   },
   "cell_type": "code",
   "source": [
    "%%time\n",
    "response_3 = get_response(prompt_3())"
   ],
   "id": "7ccf623f06bb3c9b",
   "outputs": [
    {
     "name": "stdout",
     "output_type": "stream",
     "text": [
      "CPU times: user 2.86 ms, sys: 1.79 ms, total: 4.65 ms\n",
      "Wall time: 1.39 s\n"
     ]
    }
   ],
   "execution_count": 16
  },
  {
   "metadata": {
    "ExecuteTime": {
     "end_time": "2024-06-22T18:11:25.027842Z",
     "start_time": "2024-06-22T18:11:25.022095Z"
    }
   },
   "cell_type": "code",
   "source": "display(to_markdown(response_3))",
   "id": "ff99758426ab23c",
   "outputs": [
    {
     "data": {
      "text/plain": [
       "<IPython.core.display.Markdown object>"
      ],
      "text/markdown": "> The action `pushup sokoban l10 l6 l2 crate2` is used because the sokoban is currently at location `l10`, not `l12`. The preconditions for `pushup` require the sokoban to be at the top location (`l10`) and the crate to be at the middle location (`l6`).  The `pushdown` action would require the sokoban to be at `l12`, which is not the case in the current state. \n"
     },
     "metadata": {},
     "output_type": "display_data"
    }
   ],
   "execution_count": 17
  },
  {
   "metadata": {
    "ExecuteTime": {
     "end_time": "2024-06-22T18:11:25.035713Z",
     "start_time": "2024-06-22T18:11:25.029601Z"
    }
   },
   "cell_type": "code",
   "source": "response_3",
   "id": "64755b1f538c10be",
   "outputs": [
    {
     "data": {
      "text/plain": [
       "'The action `pushup sokoban l10 l6 l2 crate2` is used because the sokoban is currently at location `l10`, not `l12`. The preconditions for `pushup` require the sokoban to be at the top location (`l10`) and the crate to be at the middle location (`l6`).  The `pushdown` action would require the sokoban to be at `l12`, which is not the case in the current state. \\n'"
      ]
     },
     "execution_count": 18,
     "metadata": {},
     "output_type": "execute_result"
    }
   ],
   "execution_count": 18
  }
 ],
 "metadata": {
  "kernelspec": {
   "display_name": "Python 3",
   "language": "python",
   "name": "python3"
  },
  "language_info": {
   "codemirror_mode": {
    "name": "ipython",
    "version": 2
   },
   "file_extension": ".py",
   "mimetype": "text/x-python",
   "name": "python",
   "nbconvert_exporter": "python",
   "pygments_lexer": "ipython2",
   "version": "2.7.6"
  }
 },
 "nbformat": 4,
 "nbformat_minor": 5
}
