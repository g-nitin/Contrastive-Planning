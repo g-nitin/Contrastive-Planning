{
 "cells": [
  {
   "metadata": {},
   "cell_type": "markdown",
   "source": [
    "# Automating Validation of LLM Responses for Sokoban Plans\n",
    "Our goal is to automate the validation of LLM responses.\n",
    "<br>One way is by using another LLM to convert the responses into a structured JSON format. However, we need to come up with a JSON schema first.\n",
    "<br>Then, we can use a Python script to validate the JSON responses against the schema.     "
   ],
   "id": "918c745ced6fae6a"
  },
  {
   "metadata": {
    "ExecuteTime": {
     "end_time": "2024-07-16T21:31:48.270123Z",
     "start_time": "2024-07-16T21:31:48.267517Z"
    }
   },
   "cell_type": "code",
   "source": [
    "# pip install jsonschema\n",
    "from jsonschema import validate  # for validating JSON objects against a schema"
   ],
   "id": "1ad6bb4a34bc3525",
   "outputs": [],
   "execution_count": 2
  },
  {
   "metadata": {
    "ExecuteTime": {
     "end_time": "2024-07-16T21:32:10.033540Z",
     "start_time": "2024-07-16T21:32:10.028097Z"
    }
   },
   "cell_type": "code",
   "source": [
    "# JSON schema for Sokoban plan explanations\n",
    "# The schema defines the structure of the JSON object that represents a Sokoban plan explanation.\n",
    "# The schema also specifies the constraints that the JSON object should adhere to.\n",
    "# The constraints include the allowed values for certain fields and the relationships between different fields.\n",
    "# Note: There are 4 types of questions: planValidity, actionTaken, actionNotTaken, and actionComparison.\n",
    "schema = {\n",
    "  \"$schema\": \"http://json-schema.org/draft-07/schema#\",\n",
    "  \"type\": \"object\",\n",
    "  \"properties\": {\n",
    "    \"questionType\": {\n",
    "      \"type\": \"string\",\n",
    "      \"enum\": [\"planValidity\", \"actionTaken\", \"actionNotTaken\", \"actionComparison\"]\n",
    "    },\n",
    "    \"conclusion\": {\n",
    "      \"type\": \"string\",\n",
    "      \"enum\": [\"valid\", \"invalid\", \"partially valid\", \"inconclusive\"]\n",
    "    },\n",
    "    \"reasoning\": {\n",
    "      \"type\": \"array\",\n",
    "      \"items\": {\n",
    "        \"type\": \"object\",\n",
    "        \"properties\": {\n",
    "          \"step\": { \"type\": \"integer\" },\n",
    "          \"explanation\": { \"type\": \"string\" },\n",
    "          \"relevantAction\": { \"type\": \"string\" },\n",
    "          \"preconditionsSatisfied\": { \"type\": \"boolean\" },\n",
    "          \"effectsConsistent\": { \"type\": \"boolean\" }\n",
    "        },\n",
    "        \"required\": [\"step\", \"explanation\"]\n",
    "      }\n",
    "    },\n",
    "    \"referencedGameElements\": {\n",
    "      \"type\": \"array\",\n",
    "      \"items\": { \"type\": \"string\" }\n",
    "    },\n",
    "    \"confidenceScore\": {\n",
    "      \"type\": \"number\",\n",
    "      \"minimum\": 0,\n",
    "      \"maximum\": 1\n",
    "    },\n",
    "    \"relevantActions\": {\n",
    "      \"type\": \"array\",\n",
    "      \"items\": { \"type\": \"string\" }\n",
    "    }\n",
    "  },\n",
    "  \"required\": [\"questionType\", \"conclusion\", \"reasoning\", \"relevantActions\"]\n",
    "}"
   ],
   "id": "18235a52ce3a1a3c",
   "outputs": [],
   "execution_count": 3
  },
  {
   "metadata": {
    "ExecuteTime": {
     "end_time": "2024-07-16T21:32:16.394347Z",
     "start_time": "2024-07-16T21:32:16.388845Z"
    }
   },
   "cell_type": "code",
   "source": [
    "# Sample LLM Answer to the question type of why action A was chosen over action B:\n",
    "# The action \"pushleft sokoban l19 l18 l17 crate2\" is used in the solution instead of \"pushright sokoban l19 l18 l17 crate2\" because they have the same effects and their preconditions are almost identical. The only difference is that the \"pushleft\" action requires \"leftOf l18 l19\" whereas the \"pushright\" action requires \"leftOf l19 l18\", but the initial state establishes \"leftOf l18 l19\", making the \"pushleft\" action applicable and not the \"pushright\" one.\n",
    "\n",
    "# Translation into JSON, adhering the above schema, by another LLM:\n",
    "answer = {\n",
    "  \"questionType\": \"actionComparison\",\n",
    "  \"conclusion\": \"valid\",\n",
    "  \"reasoning\": [\n",
    "    {\n",
    "      \"step\": 1,\n",
    "      \"explanation\": \"The actions 'pushleft sokoban l19 l18 l17 crate2' and 'pushright sokoban l19 l18 l17 crate2' have the same effects.\",\n",
    "      \"relevantAction\": \"pushleft sokoban l19 l18 l17 crate2\"\n",
    "    },\n",
    "    {\n",
    "      \"step\": 2,\n",
    "      \"explanation\": \"The preconditions of both actions are almost identical, with one key difference.\",\n",
    "      \"relevantAction\": \"pushright sokoban l19 l18 l17 crate2\"\n",
    "    },\n",
    "    {\n",
    "      \"step\": 3,\n",
    "      \"explanation\": \"The 'pushleft' action requires 'leftOf l18 l19', while the 'pushright' action requires 'leftOf l19 l18'.\",\n",
    "      \"preconditionsSatisfied\": True,\n",
    "      \"effectsConsistent\": True\n",
    "    },\n",
    "    {\n",
    "      \"step\": 4,\n",
    "      \"explanation\": \"The initial state establishes 'leftOf l18 l19', making the 'pushleft' action applicable and not the 'pushright' one.\",\n",
    "      \"preconditionsSatisfied\": True,\n",
    "      \"effectsConsistent\": True\n",
    "    }\n",
    "  ],\n",
    "  \"referencedGameElements\": [\"sokoban\", \"l19\", \"l18\", \"l17\", \"crate2\"],\n",
    "  \"confidenceScore\": 0.95,\n",
    "  \"relevantActions\": [\n",
    "    \"pushleft sokoban l19 l18 l17 crate2\",\n",
    "    \"pushright sokoban l19 l18 l17 crate2\"\n",
    "  ]\n",
    "}"
   ],
   "id": "4413af3498071c7a",
   "outputs": [],
   "execution_count": 4
  },
  {
   "metadata": {},
   "cell_type": "code",
   "outputs": [],
   "execution_count": null,
   "source": [
    "def validate_sokoban_explanation(explanation, initial_state, question_info, plan=None):\n",
    "    # Existing schema validation checks...\n",
    "\n",
    "    # New semantic checks\n",
    "    if explanation['questionType'] == 'planValidity':\n",
    "        if plan is None:\n",
    "            raise ValueError(\"Plan must be provided for planValidity questions\")\n",
    "        \n",
    "        # Check if conclusion matches reasoning\n",
    "        invalid_steps = [step for step in explanation['reasoning'] if step.get('preconditionsSatisfied') == False]\n",
    "        if invalid_steps and explanation['conclusion'] != 'invalid':\n",
    "            raise ValueError(\"Conclusion should be 'invalid' if any steps have unsatisfied preconditions\")\n",
    "        \n",
    "        # Check if all mentioned steps are in the plan\n",
    "        mentioned_steps = [step['relevantAction'] for step in explanation['reasoning'] if 'relevantAction' in step]\n",
    "        if not all(action in plan for action in mentioned_steps):\n",
    "            raise ValueError(\"All mentioned steps should be in the provided plan\")\n",
    "        \n",
    "        # Check if all invalid steps are explained\n",
    "        explained_invalid_steps = set(step['relevantAction'] for step in invalid_steps)\n",
    "        if len(explained_invalid_steps) < len(invalid_steps):\n",
    "            raise ValueError(\"All invalid steps should have a unique explanation\")\n",
    "        \n",
    "        # Check if referenced game elements are consistent\n",
    "        plan_elements = set()\n",
    "        for action in plan:\n",
    "            plan_elements.update(action.split())\n",
    "        if not set(explanation['referencedGameElements']).issubset(plan_elements):\n",
    "            raise ValueError(\"All referenced game elements should appear in the plan\")\n",
    "\n",
    "    # Additional checks for other question types can be added here...\n",
    "\n",
    "    print(\"Validation successful!\")"
   ],
   "id": "15d9bd8d85966186"
  },
  {
   "metadata": {
    "ExecuteTime": {
     "end_time": "2024-07-16T21:37:26.139574Z",
     "start_time": "2024-07-16T21:37:26.135874Z"
    }
   },
   "cell_type": "code",
   "source": [
    "# Consists of the objects and the initial states\n",
    "initial_state = {\n",
    "    \"sokoban\", \"crate1\", \"crate2\", \"l1\", \"l10\", \"l11\", \"l12\", \"l17\", \"l18\", \"l19\", \"l22\", \n",
    "    \"l23\", \"l24\", \"l29\", \"l30\", \"l31\", \"l32\", \"l33\", \"l36\", \"l37\", \"l38\", \"l39\", \"l40\"}\n",
    "\n",
    "initial_state.update(\n",
    "    {\"crate crate1\", \"crate crate2\", \"leftOf l10 l11\", \"leftOf l11 l12\", \"leftOf l17 l18\", \n",
    "    \"leftOf l18 l19\", \"leftOf l22 l23\", \"leftOf l23 l24\", \"leftOf l29 l30\", \"leftOf l30 l31\", \n",
    "    \"leftOf l31 l32\", \"leftOf l32 l33\", \"leftOf l36 l37\", \"leftOf l37 l38\", \"leftOf l38 l39\", \n",
    "    \"leftOf l39 l40\", \"below l17 l10\", \"below l18 l11\", \"below l19 l12\", \"below l24 l17\", \n",
    "    \"below l29 l22\", \"below l30 l23\", \"below l31 l24\", \"below l36 l29\", \"below l37 l30\", \n",
    "    \"below l38 l31\", \"below l39 l32\", \"below l40 l33\", \"at sokoban l19\", \"at crate1 l17\", \n",
    "    \"at crate2 l18\", \"clear l1\", \"clear l10\", \"clear l11\", \"clear l12\", \"clear l22\", \n",
    "    \"clear l23\", \"clear l24\", \"clear l29\", \"clear l30\", \"clear l31\", \"clear l32\", \n",
    "    \"clear l33\", \"clear l36\", \"clear l37\", \"clear l38\", \"clear l39\", \"clear l40\"}\n",
    ")"
   ],
   "id": "dec36685ae8173ec",
   "outputs": [],
   "execution_count": 9
  },
  {
   "metadata": {},
   "cell_type": "markdown",
   "source": [
    "Call the validation function with the answer, initial state, and question information to validate the explanation.\n",
    "<br>For \"actionComparison\", it includes both actions being compared.\n",
    "<br>For \"actionTaken\" and \"actionNotTaken\", it includes the single action in question.\n",
    "<br>For \"planValidity\", it's an empty array since no specific actions are relevant to the question."
   ],
   "id": "b39a28c9e591ebae"
  },
  {
   "metadata": {
    "ExecuteTime": {
     "end_time": "2024-07-16T21:42:29.850648Z",
     "start_time": "2024-07-16T21:42:29.841297Z"
    }
   },
   "cell_type": "code",
   "source": [
    "# Example for action comparison question\n",
    "question_info_comparison = {\n",
    "    \"type\": \"actionComparison\",\n",
    "    \"actions\": [\"pushleft sokoban l19 l18 l17 crate2\", \"pushright sokoban l19 l18 l17 crate2\"]\n",
    "}\n",
    "validate_sokoban_explanation(answer, initial_state, question_info_comparison)"
   ],
   "id": "d533dd8277bacfef",
   "outputs": [
    {
     "name": "stdout",
     "output_type": "stream",
     "text": [
      "Validation successful!\n"
     ]
    }
   ],
   "execution_count": 10
  },
  {
   "metadata": {
    "ExecuteTime": {
     "end_time": "2024-07-16T21:16:47.892673Z",
     "start_time": "2024-07-16T21:16:47.890381Z"
    }
   },
   "cell_type": "code",
   "source": [
    "# # Example for action taken question\n",
    "# question_info_taken = {\n",
    "#     \"type\": \"actionTaken\",\n",
    "#     \"action\": \"pushleft sokoban l19 l18 l17 crate2\"\n",
    "# }\n",
    "# validate_sokoban_explanation(answer, initial_state, question_info_taken)"
   ],
   "id": "216d51c5ed62abfe",
   "outputs": [],
   "execution_count": 49
  },
  {
   "metadata": {
    "ExecuteTime": {
     "end_time": "2024-07-16T21:16:45.686729Z",
     "start_time": "2024-07-16T21:16:45.682773Z"
    }
   },
   "cell_type": "code",
   "source": [
    "# # Example for plan validity question\n",
    "# question_info_validity = {\n",
    "#     \"type\": \"planValidity\"\n",
    "# }\n",
    "# validate_sokoban_explanation(answer, initial_state, question_info_validity)"
   ],
   "id": "6147b39a5b155255",
   "outputs": [],
   "execution_count": 48
  }
 ],
 "metadata": {
  "kernelspec": {
   "display_name": "Python 3",
   "language": "python",
   "name": "python3"
  },
  "language_info": {
   "codemirror_mode": {
    "name": "ipython",
    "version": 2
   },
   "file_extension": ".py",
   "mimetype": "text/x-python",
   "name": "python",
   "nbconvert_exporter": "python",
   "pygments_lexer": "ipython2",
   "version": "2.7.6"
  }
 },
 "nbformat": 4,
 "nbformat_minor": 5
}
