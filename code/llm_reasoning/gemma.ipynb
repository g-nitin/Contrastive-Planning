{
 "cells": [
  {
   "metadata": {
    "ExecuteTime": {
     "end_time": "2024-06-20T17:18:40.793420Z",
     "start_time": "2024-06-20T17:18:40.786486Z"
    }
   },
   "cell_type": "code",
   "source": [
    "from dotenv import load_dotenv\n",
    "from os import getenv\n",
    "import textwrap\n",
    "from IPython.display import Markdown\n",
    "from sokoban_prompt import prompt_1 \n",
    "\n",
    "load_dotenv()\n",
    "HF_API_KEY = f\"Bearer {getenv('HF_API_KEY')}\""
   ],
   "id": "ab697199911e5ed0",
   "outputs": [],
   "execution_count": 4
  },
  {
   "metadata": {
    "ExecuteTime": {
     "end_time": "2024-06-20T17:18:41.137659Z",
     "start_time": "2024-06-20T17:18:41.134398Z"
    }
   },
   "cell_type": "code",
   "source": [
    "def to_markdown(text):\n",
    "  text = text.replace('•', '  *')\n",
    "  return Markdown(textwrap.indent(text, '> ', predicate=lambda _: True))"
   ],
   "id": "83aadcf1316c7aa",
   "outputs": [],
   "execution_count": 5
  },
  {
   "metadata": {
    "ExecuteTime": {
     "end_time": "2024-06-20T17:18:43.586531Z",
     "start_time": "2024-06-20T17:18:42.041348Z"
    }
   },
   "cell_type": "code",
   "source": [
    "import requests\n",
    "\n",
    "API_URL = \"https://api-inference.huggingface.co/models/google/gemma-1.1-7b-it\"\n",
    "headers = {\"Authorization\": HF_API_KEY}\n",
    "\n",
    "def query(payload):\n",
    "\tresponse = requests.post(API_URL, headers=headers, json=payload)\n",
    "\treturn response.json()\n",
    "\t\n",
    "output = query({\n",
    "    \"inputs\": prompt_1,\n",
    "})"
   ],
   "id": "e591e02f42abe442",
   "outputs": [],
   "execution_count": 6
  },
  {
   "metadata": {
    "ExecuteTime": {
     "end_time": "2024-06-20T17:19:59.139700Z",
     "start_time": "2024-06-20T17:19:59.134272Z"
    }
   },
   "cell_type": "code",
   "source": [
    "# Print the response from the model\n",
    "display(output[0]['generated_text'].replace(prompt_1, ''))"
   ],
   "id": "fc4602f08867de65",
   "outputs": [
    {
     "data": {
      "text/plain": [
       "'```\\n\\nThe action moveup is used in the solution because it is applicable in the state where the crate is at l10 and there is a clear space above it (l9). The precondition of the action is met, and its effect will move the crate to l9 and clear l10.\\n\\n```'"
      ]
     },
     "metadata": {},
     "output_type": "display_data"
    }
   ],
   "execution_count": 12
  },
  {
   "metadata": {},
   "cell_type": "code",
   "outputs": [],
   "execution_count": null,
   "source": "",
   "id": "c3a72188e1cc191a"
  }
 ],
 "metadata": {
  "kernelspec": {
   "display_name": "Python 3",
   "language": "python",
   "name": "python3"
  },
  "language_info": {
   "codemirror_mode": {
    "name": "ipython",
    "version": 2
   },
   "file_extension": ".py",
   "mimetype": "text/x-python",
   "name": "python",
   "nbconvert_exporter": "python",
   "pygments_lexer": "ipython2",
   "version": "2.7.6"
  }
 },
 "nbformat": 4,
 "nbformat_minor": 5
}
