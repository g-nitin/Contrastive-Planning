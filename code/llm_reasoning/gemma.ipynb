{
 "cells": [
  {
   "metadata": {
    "ExecuteTime": {
     "end_time": "2024-06-22T18:17:40.807622Z",
     "start_time": "2024-06-22T18:17:40.757708Z"
    }
   },
   "cell_type": "code",
   "source": [
    "from dotenv import load_dotenv\n",
    "from os import getenv\n",
    "import textwrap\n",
    "from IPython.display import Markdown\n",
    "import requests\n",
    "\n",
    "load_dotenv()\n",
    "HF_API_KEY = f\"Bearer {getenv('HF_API_KEY')}\""
   ],
   "id": "ab697199911e5ed0",
   "outputs": [],
   "execution_count": 1
  },
  {
   "metadata": {
    "ExecuteTime": {
     "end_time": "2024-06-22T18:17:40.811376Z",
     "start_time": "2024-06-22T18:17:40.808863Z"
    }
   },
   "cell_type": "code",
   "source": [
    "def to_markdown(text):\n",
    "  text = text.replace('•', '  *')\n",
    "  return Markdown(textwrap.indent(text, '> ', predicate=lambda _: True))"
   ],
   "id": "83aadcf1316c7aa",
   "outputs": [],
   "execution_count": 2
  },
  {
   "metadata": {},
   "cell_type": "markdown",
   "source": "<br>",
   "id": "393d861829e53e92"
  },
  {
   "metadata": {
    "ExecuteTime": {
     "end_time": "2024-06-22T18:17:40.814536Z",
     "start_time": "2024-06-22T18:17:40.811968Z"
    }
   },
   "cell_type": "code",
   "source": [
    "API_URL = \"https://api-inference.huggingface.co/models/google/gemma-1.1-7b-it\"\n",
    "headers = {\"Authorization\": HF_API_KEY}\n",
    "\n",
    "def query(payload):\n",
    "    \"\"\"\n",
    "    Query the model with the given payload\n",
    "    @param payload: The payload to send to the model\n",
    "    @return: The response from the model\n",
    "    \"\"\"\n",
    "    response = requests.post(API_URL, headers=headers, json=payload)\n",
    "    return response.json()"
   ],
   "id": "d1c5ecd9e29b40b4",
   "outputs": [],
   "execution_count": 3
  },
  {
   "metadata": {
    "ExecuteTime": {
     "end_time": "2024-06-22T18:17:40.818757Z",
     "start_time": "2024-06-22T18:17:40.816161Z"
    }
   },
   "cell_type": "code",
   "source": [
    "def get_response(prompt: str) -> str:\n",
    "    \"\"\"\n",
    "    Get the response from the model\n",
    "    @param prompt: The prompt to send to the model\n",
    "    @return: The response from the model\n",
    "    \"\"\"\n",
    "    output = query({\n",
    "        \"inputs\": prompt,\n",
    "    })\n",
    "    return output[0]['generated_text'].replace(prompt, '')"
   ],
   "id": "878396dc382800de",
   "outputs": [],
   "execution_count": 4
  },
  {
   "metadata": {
    "ExecuteTime": {
     "end_time": "2024-06-22T18:17:40.822228Z",
     "start_time": "2024-06-22T18:17:40.819355Z"
    }
   },
   "cell_type": "code",
   "source": "from sokoban_prompt import *",
   "id": "fa65531389d86fee",
   "outputs": [],
   "execution_count": 5
  },
  {
   "metadata": {},
   "cell_type": "markdown",
   "source": "<br>",
   "id": "81661300d85fd0ad"
  },
  {
   "metadata": {
    "ExecuteTime": {
     "end_time": "2024-06-22T18:17:40.827051Z",
     "start_time": "2024-06-22T18:17:40.822825Z"
    }
   },
   "cell_type": "code",
   "source": "display(Markdown(prompt_1()))",
   "id": "e591e02f42abe442",
   "outputs": [
    {
     "data": {
      "text/plain": [
       "<IPython.core.display.Markdown object>"
      ],
      "text/markdown": "\n    I have a Sokoban problem with the following initial and goal states expressed in PDDL:\n\n    **Initial and Goal States:**\n    ```\n    \n    (define (problem s1)\n        (:domain sokoban)\n        (:objects sokoban, crate2, l1, l2, l5, l6, l9, l10, l11, l12, l13, l14, l15, l16, l17, l18)\n        (:init (sokoban sokoban) \n               (crate crate2)\n\n               ;;horizontal relationships\n               (leftOf l1 l2) \n               (leftOf l5 l6) \n               (leftOf l9 l10) (leftOf l10 l11) (leftOf l11 l12) \n               (leftOf l13 l14) (leftOf l14 l15) (leftOf l15 l16)\n               (leftOf l17 l18)\n\n               ;;vertical relationships\n               (below l5 l1) (below l6 l2)\n               (below l9 l5) (below l10 l6)\n               (below l13 l9) (below l14 l10) (below l15 l11) (below l16 l12)\n               (below l17 l13) (below l18 l14)\n\n               ;;initialize sokoban and crate\n               (at sokoban l10)\n               (at crate2 l15) \n\n               ;;clear spaces\n               (clear l1) \n               (clear l2) \n               (clear l5) \n               (clear l6) \n               (clear l9)\n               (clear l11)\n               (clear l12) \n               (clear l13) \n               (clear l14)\n               (clear l16) \n               (clear l17)   \t\t\t\t\n               (clear l18))\n\n        (:goal (and (at crate2 l2)))\n    )\n    \n    ```\n\n    **Generated Solution Plan:**\n    ```\n    \n    ((moveright sokoban l10 l11)\n     (moveright sokoban l11 l12)\n     (movedown sokoban l12 l16)\n     (pushleft sokoban l16 l15 l14 crate2)\n     (moveup sokoban l15 l11)\n     (moveleft sokoban l11 l10)\n     (moveleft sokoban l10 l9)\n     (movedown sokoban l9 l13)\n     (movedown sokoban l13 l17)\n     (moveright sokoban l17 l18)\n     (pushup sokoban l18 l14 l10 crate2)\n     (pushup sokoban l14 l10 l6 crate2)\n     (pushup sokoban l10 l6 l2 crate2))\n    \n    ```\n\n    I need you to answer the following question concisely by reasoning through the provided information:\n\n    **Question:**\n    ```\n    Why is the action moveup sokoban l15 l11 used in the solution?\n    ```\n\n    For context, here is additional information about the specific action mentioned in the question:\n\n    **Action:**\n    ```\n    moveup sokoban l15 l11\n    ```\n\n    **Preconditions of the Action:**\n    ```\n    ['sokoban sokoban', 'at sokoban l15', 'below l15 l11', 'clear l11']\n    ```\n\n    **Effects of the Action:**\n    ```\n    ['at sokoban l11', 'clear l15', 'not (at sokoban l15)', 'not (clear l11)']\n    ```\n\n    Using this information, please provide a short, logical response that addresses the question.\n    "
     },
     "metadata": {},
     "output_type": "display_data"
    }
   ],
   "execution_count": 6
  },
  {
   "metadata": {
    "ExecuteTime": {
     "end_time": "2024-06-22T18:17:40.986436Z",
     "start_time": "2024-06-22T18:17:40.829347Z"
    }
   },
   "cell_type": "code",
   "source": [
    "%%time\n",
    "response_1 = get_response(prompt_1())"
   ],
   "id": "fc4602f08867de65",
   "outputs": [
    {
     "name": "stdout",
     "output_type": "stream",
     "text": [
      "CPU times: user 13.7 ms, sys: 5.43 ms, total: 19.1 ms\n",
      "Wall time: 154 ms\n"
     ]
    }
   ],
   "execution_count": 7
  },
  {
   "metadata": {
    "ExecuteTime": {
     "end_time": "2024-06-22T18:17:40.992101Z",
     "start_time": "2024-06-22T18:17:40.988454Z"
    }
   },
   "cell_type": "code",
   "source": "display(to_markdown(response_1))",
   "id": "c3a72188e1cc191a",
   "outputs": [
    {
     "data": {
      "text/plain": [
       "<IPython.core.display.Markdown object>"
      ],
      "text/markdown": "> \n>     ## Answer:\n> \n> The action moveup sokoban l15 l11 is used in the solution because it is the only action that can move the crate from its initial position at l15 to a clear space above it at l11, which is a goal state requirement."
     },
     "metadata": {},
     "output_type": "display_data"
    }
   ],
   "execution_count": 8
  },
  {
   "metadata": {
    "ExecuteTime": {
     "end_time": "2024-06-22T18:17:40.996588Z",
     "start_time": "2024-06-22T18:17:40.993126Z"
    }
   },
   "cell_type": "code",
   "source": "response_1",
   "id": "4a2de0e9d98bcb2a",
   "outputs": [
    {
     "data": {
      "text/plain": [
       "'\\n    ## Answer:\\n\\nThe action moveup sokoban l15 l11 is used in the solution because it is the only action that can move the crate from its initial position at l15 to a clear space above it at l11, which is a goal state requirement.'"
      ]
     },
     "execution_count": 9,
     "metadata": {},
     "output_type": "execute_result"
    }
   ],
   "execution_count": 9
  },
  {
   "metadata": {},
   "cell_type": "markdown",
   "source": "<br>",
   "id": "90f2c7761e7eeddb"
  },
  {
   "metadata": {
    "ExecuteTime": {
     "end_time": "2024-06-22T18:17:41.005238Z",
     "start_time": "2024-06-22T18:17:41.000023Z"
    }
   },
   "cell_type": "code",
   "source": "display(Markdown(prompt_2()))",
   "id": "7462789db7effdd6",
   "outputs": [
    {
     "data": {
      "text/plain": [
       "<IPython.core.display.Markdown object>"
      ],
      "text/markdown": "\n    I have a Sokoban problem with the following initial and goal states expressed in PDDL:\n\n    **Initial and Goal States:**\n    ```\n    \n    (define (problem s1)\n        (:domain sokoban)\n        (:objects sokoban, crate2, l1, l2, l5, l6, l9, l10, l11, l12, l13, l14, l15, l16, l17, l18)\n        (:init (sokoban sokoban) \n               (crate crate2)\n\n               ;;horizontal relationships\n               (leftOf l1 l2) \n               (leftOf l5 l6) \n               (leftOf l9 l10) (leftOf l10 l11) (leftOf l11 l12) \n               (leftOf l13 l14) (leftOf l14 l15) (leftOf l15 l16)\n               (leftOf l17 l18)\n\n               ;;vertical relationships\n               (below l5 l1) (below l6 l2)\n               (below l9 l5) (below l10 l6)\n               (below l13 l9) (below l14 l10) (below l15 l11) (below l16 l12)\n               (below l17 l13) (below l18 l14)\n\n               ;;initialize sokoban and crate\n               (at sokoban l10)\n               (at crate2 l15) \n\n               ;;clear spaces\n               (clear l1) \n               (clear l2) \n               (clear l5) \n               (clear l6) \n               (clear l9)\n               (clear l11)\n               (clear l12) \n               (clear l13) \n               (clear l14)\n               (clear l16) \n               (clear l17)   \t\t\t\t\n               (clear l18))\n\n        (:goal (and (at crate2 l2)))\n    )\n    \n    ```\n\n    **Generated Solution Plan:**\n    ```\n    \n    ((moveright sokoban l10 l11)\n     (moveright sokoban l11 l12)\n     (movedown sokoban l12 l16)\n     (pushleft sokoban l16 l15 l14 crate2)\n     (moveup sokoban l15 l11)\n     (moveleft sokoban l11 l10)\n     (moveleft sokoban l10 l9)\n     (movedown sokoban l9 l13)\n     (movedown sokoban l13 l17)\n     (moveright sokoban l17 l18)\n     (pushup sokoban l18 l14 l10 crate2)\n     (pushup sokoban l14 l10 l6 crate2)\n     (pushup sokoban l10 l6 l2 crate2))\n    \n    ```\n\n    I need you to answer the following question concisely by reasoning through the provided information:\n\n    **Question:**\n    ```\n    Why is the action pushdown sokoban l18 l14 l10 crate2 not used in the solution for the third last step?\n    ```\n\n    For context, here is additional information about the specific action mentioned in the question:\n\n    **Action:**\n    ```\n    pushdown sokoban l18 l14 l10 crate2\n    ```\n\n    **Preconditions of the Action:**\n    ```\n    ['sokoban sokoban', 'crate crate2', 'below l14 l18', 'below l10 l14', 'at sokoban l18', 'at crate2 l14', 'clear l10']\n    ```\n\n    **Effects of the Action:**\n    ```\n    ['at sokoban l14', 'at crate2 l10', 'clear l18', 'not (at sokoban l18)', 'not (at crate2 l14)', 'not (clear l14)', 'not (clear l10)']\n    ```\n\n    Using this information, please provide a short, logical response that addresses the question.\n    "
     },
     "metadata": {},
     "output_type": "display_data"
    }
   ],
   "execution_count": 10
  },
  {
   "metadata": {
    "ExecuteTime": {
     "end_time": "2024-06-22T18:17:42.731193Z",
     "start_time": "2024-06-22T18:17:41.007227Z"
    }
   },
   "cell_type": "code",
   "source": [
    "%%time\n",
    "response_2 = get_response(prompt_2())"
   ],
   "id": "6df09c69d4230f6a",
   "outputs": [
    {
     "name": "stdout",
     "output_type": "stream",
     "text": [
      "CPU times: user 13.6 ms, sys: 2.71 ms, total: 16.3 ms\n",
      "Wall time: 1.72 s\n"
     ]
    }
   ],
   "execution_count": 11
  },
  {
   "metadata": {
    "ExecuteTime": {
     "end_time": "2024-06-22T18:17:42.738171Z",
     "start_time": "2024-06-22T18:17:42.732744Z"
    }
   },
   "cell_type": "code",
   "source": "display(to_markdown(response_2))",
   "id": "13f496728976cf0e",
   "outputs": [
    {
     "data": {
      "text/plain": [
       "<IPython.core.display.Markdown object>"
      ],
      "text/markdown": "> \n> ```\n> \n> The action `pushdown sokoban l18 l14 l10 crate2` cannot be used in the third last step because its preconditions are not satisfied. Specifically, the precondition `below l14 l18` is not true in the state represented by the third last step of the solution plan. Therefore, this action is not applicable in that state.\n> \n> ```"
     },
     "metadata": {},
     "output_type": "display_data"
    }
   ],
   "execution_count": 12
  },
  {
   "metadata": {
    "ExecuteTime": {
     "end_time": "2024-06-22T18:17:42.744714Z",
     "start_time": "2024-06-22T18:17:42.739569Z"
    }
   },
   "cell_type": "code",
   "source": "response_2",
   "id": "31b7b6d9ef77061",
   "outputs": [
    {
     "data": {
      "text/plain": [
       "'\\n```\\n\\nThe action `pushdown sokoban l18 l14 l10 crate2` cannot be used in the third last step because its preconditions are not satisfied. Specifically, the precondition `below l14 l18` is not true in the state represented by the third last step of the solution plan. Therefore, this action is not applicable in that state.\\n\\n```'"
      ]
     },
     "execution_count": 13,
     "metadata": {},
     "output_type": "execute_result"
    }
   ],
   "execution_count": 13
  },
  {
   "metadata": {},
   "cell_type": "markdown",
   "source": "<br>",
   "id": "4a8547f679a6a331"
  },
  {
   "metadata": {
    "ExecuteTime": {
     "end_time": "2024-06-22T18:17:42.749452Z",
     "start_time": "2024-06-22T18:17:42.745871Z"
    }
   },
   "cell_type": "code",
   "source": "display(Markdown(prompt_3()))",
   "id": "340b2487ac2a3d77",
   "outputs": [
    {
     "data": {
      "text/plain": [
       "<IPython.core.display.Markdown object>"
      ],
      "text/markdown": "\n    I have a Sokoban problem with the following initial and goal states expressed in PDDL:\n\n    **Initial and Goal States:**\n    ```\n    \n    (define (problem s1)\n        (:domain sokoban)\n        (:objects sokoban, crate2, l1, l2, l5, l6, l9, l10, l11, l12, l13, l14, l15, l16, l17, l18)\n        (:init (sokoban sokoban) \n               (crate crate2)\n\n               ;;horizontal relationships\n               (leftOf l1 l2) \n               (leftOf l5 l6) \n               (leftOf l9 l10) (leftOf l10 l11) (leftOf l11 l12) \n               (leftOf l13 l14) (leftOf l14 l15) (leftOf l15 l16)\n               (leftOf l17 l18)\n\n               ;;vertical relationships\n               (below l5 l1) (below l6 l2)\n               (below l9 l5) (below l10 l6)\n               (below l13 l9) (below l14 l10) (below l15 l11) (below l16 l12)\n               (below l17 l13) (below l18 l14)\n\n               ;;initialize sokoban and crate\n               (at sokoban l10)\n               (at crate2 l15) \n\n               ;;clear spaces\n               (clear l1) \n               (clear l2) \n               (clear l5) \n               (clear l6) \n               (clear l9)\n               (clear l11)\n               (clear l12) \n               (clear l13) \n               (clear l14)\n               (clear l16) \n               (clear l17)   \t\t\t\t\n               (clear l18))\n\n        (:goal (and (at crate2 l2)))\n    )\n    \n    ```\n\n    **Generated Solution Plan:**\n    ```\n    \n    ((moveright sokoban l10 l11)\n     (moveright sokoban l11 l12)\n     (movedown sokoban l12 l16)\n     (pushleft sokoban l16 l15 l14 crate2)\n     (moveup sokoban l15 l11)\n     (moveleft sokoban l11 l10)\n     (moveleft sokoban l10 l9)\n     (movedown sokoban l9 l13)\n     (movedown sokoban l13 l17)\n     (moveright sokoban l17 l18)\n     (pushup sokoban l18 l14 l10 crate2)\n     (pushup sokoban l14 l10 l6 crate2)\n     (pushup sokoban l10 l6 l2 crate2))\n    \n    ```\n\n    I need you to answer the following question concisely by reasoning through the provided information:\n\n    **Question:**\n    ```\n    For the last step, why is the action pushup sokoban l10 l6 l2 crate2 used in the solution rather than action pushdown sokoban l12 l6 l2 crate2?\n    ```\n\n    For context, here is additional information about the specific actions mentioned in the question:\n\n    **Action 1:**\n    ```\n    pushup sokoban l10 l6 l2 crate2\n    ```\n\n    **Preconditions of the 1st Action:**\n    ```\n    ['sokoban sokoban', 'crate crate2', 'below l10 l6', 'below l6 l2', 'at sokoban l10', 'at crate2 l6', 'clear l2']\n    ```\n\n    **Effects of the 1st Action:**\n    ```\n    ['at sokoban l6', 'at crate2 l2', 'clear l10', 'not (at sokoban l10)', 'not (at crate2 l6)', 'not (clear l6)', 'not (clear l2)']\n    ```\n    \n    **Action 2:**\n    ```\n    pushdown sokoban l12 l6 l2 crate2\n    ```\n\n    **Preconditions of the 2nd Action:**\n    ```\n    ['sokoban sokoban', 'crate crate2', 'below l6 l12', 'below l2 l6', 'at sokoban l12', 'at crate l6', 'clear l2']\n    ```\n\n    **Effects of the 2nd Action:**\n    ```\n    ['at sokoban l6', 'at crate2 l2', 'clear l12', 'not (at sokoban l12)', 'not (at crate2 l6)', 'not (clear l6)', 'not (clear l2)']\n    ```\n\n    Using this information, please provide a short, logical response that addresses the question.\n    "
     },
     "metadata": {},
     "output_type": "display_data"
    }
   ],
   "execution_count": 14
  },
  {
   "metadata": {
    "ExecuteTime": {
     "end_time": "2024-06-22T18:17:44.725638Z",
     "start_time": "2024-06-22T18:17:42.751197Z"
    }
   },
   "cell_type": "code",
   "source": [
    "%%time\n",
    "response_3 = get_response(prompt_3())"
   ],
   "id": "5a57a289321f98bd",
   "outputs": [
    {
     "name": "stdout",
     "output_type": "stream",
     "text": [
      "CPU times: user 13.7 ms, sys: 3 ms, total: 16.7 ms\n",
      "Wall time: 1.97 s\n"
     ]
    }
   ],
   "execution_count": 15
  },
  {
   "metadata": {
    "ExecuteTime": {
     "end_time": "2024-06-22T18:17:44.733107Z",
     "start_time": "2024-06-22T18:17:44.727319Z"
    }
   },
   "cell_type": "code",
   "source": "display(to_markdown(response_3))",
   "id": "2e164776930b8dce",
   "outputs": [
    {
     "data": {
      "text/plain": [
       "<IPython.core.display.Markdown object>"
      ],
      "text/markdown": "> \n> ```\n> \n> In the last step, the action pushup sokoban l10 l6 l2 crate2 is used instead of pushdown sokoban l12 l6 l2 crate2 because **pushup** aligns crate2 with the free space (l2) on top of the stack of crates, while **pushdown** would align crate2 with the free space (l12) below the stack of crates. Since the goal state requires crate2 to be at l2"
     },
     "metadata": {},
     "output_type": "display_data"
    }
   ],
   "execution_count": 16
  },
  {
   "metadata": {
    "ExecuteTime": {
     "end_time": "2024-06-22T18:17:44.742691Z",
     "start_time": "2024-06-22T18:17:44.735554Z"
    }
   },
   "cell_type": "code",
   "source": "response_3",
   "id": "136789634b4ded61",
   "outputs": [
    {
     "data": {
      "text/plain": [
       "'\\n```\\n\\nIn the last step, the action pushup sokoban l10 l6 l2 crate2 is used instead of pushdown sokoban l12 l6 l2 crate2 because **pushup** aligns crate2 with the free space (l2) on top of the stack of crates, while **pushdown** would align crate2 with the free space (l12) below the stack of crates. Since the goal state requires crate2 to be at l2'"
      ]
     },
     "execution_count": 17,
     "metadata": {},
     "output_type": "execute_result"
    }
   ],
   "execution_count": 17
  }
 ],
 "metadata": {
  "kernelspec": {
   "display_name": "Python 3",
   "language": "python",
   "name": "python3"
  },
  "language_info": {
   "codemirror_mode": {
    "name": "ipython",
    "version": 2
   },
   "file_extension": ".py",
   "mimetype": "text/x-python",
   "name": "python",
   "nbconvert_exporter": "python",
   "pygments_lexer": "ipython2",
   "version": "2.7.6"
  }
 },
 "nbformat": 4,
 "nbformat_minor": 5
}
