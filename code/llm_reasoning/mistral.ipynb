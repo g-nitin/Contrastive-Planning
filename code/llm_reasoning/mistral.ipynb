{
 "cells": [
  {
   "metadata": {
    "ExecuteTime": {
     "end_time": "2024-06-19T01:55:12.731028Z",
     "start_time": "2024-06-19T01:55:12.549118Z"
    }
   },
   "cell_type": "code",
   "source": [
    "from dotenv import load_dotenv\n",
    "from os import getenv\n",
    "import textwrap\n",
    "from IPython.display import Markdown\n",
    "\n",
    "from mistralai.client import MistralClient\n",
    "from mistralai.models.chat_completion import ChatMessage\n",
    "\n",
    "load_dotenv();\n",
    "\n",
    "# https://docs.mistral.ai/capabilities/completion/\n",
    "# https://console.mistral.ai/usage/"
   ],
   "id": "5e1c2eb3591a8365",
   "outputs": [],
   "execution_count": 1
  },
  {
   "metadata": {
    "ExecuteTime": {
     "end_time": "2024-06-19T01:55:12.734354Z",
     "start_time": "2024-06-19T01:55:12.732098Z"
    }
   },
   "cell_type": "code",
   "source": [
    "def to_markdown(text):\n",
    "  text = text.replace('•', '  *')\n",
    "  return Markdown(textwrap.indent(text, '> ', predicate=lambda _: True))"
   ],
   "id": "e2ff4c06294085cc",
   "outputs": [],
   "execution_count": 2
  },
  {
   "metadata": {
    "ExecuteTime": {
     "end_time": "2024-06-19T01:55:12.744625Z",
     "start_time": "2024-06-19T01:55:12.735097Z"
    }
   },
   "cell_type": "code",
   "source": "client = MistralClient(api_key=getenv('MISTRAL_API_KEY'))",
   "id": "3d25250724a470c6",
   "outputs": [],
   "execution_count": 3
  },
  {
   "metadata": {
    "ExecuteTime": {
     "end_time": "2024-06-19T01:55:12.749207Z",
     "start_time": "2024-06-19T01:55:12.746047Z"
    }
   },
   "cell_type": "code",
   "source": [
    "import sokoban_prompt\n",
    "print(sokoban_prompt.prompt_1)"
   ],
   "id": "ea694cad3995f4a7",
   "outputs": [
    {
     "name": "stdout",
     "output_type": "stream",
     "text": [
      "\n",
      "I have a Sokoban problem with the following initial and goal states expressed in PDDL:\n",
      "\n",
      "**Initial and Goal States:**\n",
      "```\n",
      "\n",
      "    (define (problem s1)\n",
      "        (:domain sokoban)\n",
      "        (:objects sokoban, crate2, l1, l2, l5, l6, l9, l10, l11, l12, l13, l14, l15, l16, l17, l18)\n",
      "        (:init (sokoban sokoban) \n",
      "               (crate crate2)\n",
      "    \n",
      "               ;;horizontal relationships\n",
      "               (leftOf l1 l2) \n",
      "               (leftOf l5 l6) \n",
      "               (leftOf l9 l10) (leftOf l10 l11) (leftOf l11 l12) \n",
      "               (leftOf l13 l14) (leftOf l14 l15) (leftOf l15 l16)\n",
      "               (leftOf l17 l18)\n",
      "    \n",
      "               ;;vertical relationships\n",
      "               (below l5 l1) (below l6 l2)\n",
      "               (below l9 l5) (below l10 l6)\n",
      "               (below l13 l9) (below l14 l10) (below l15 l11) (below l16 l12)\n",
      "               (below l17 l13) (below l18 l14)\n",
      "    \n",
      "               ;;initialize sokoban and crate\n",
      "               (at sokoban l10)\n",
      "               (at crate2 l15) \n",
      "    \n",
      "               ;;clear spaces\n",
      "               (clear l1) \n",
      "               (clear l2) \n",
      "               (clear l5) \n",
      "               (clear l6) \n",
      "               (clear l9)\n",
      "               (clear l11)\n",
      "               (clear l12) \n",
      "               (clear l13) \n",
      "               (clear l14)\n",
      "               (clear l16) \n",
      "               (clear l17)   \t\t\t\t\n",
      "               (clear l18))\n",
      "    \n",
      "        (:goal (and (at crate2 l2)))\n",
      "    )\n",
      "\n",
      "```\n",
      "\n",
      "**Generated Solution Plan:**\n",
      "```\n",
      "\n",
      "    ((moveright sokoban l10 l11)\n",
      "     (moveright sokoban l11 l12)\n",
      "     (movedown sokoban l12 l16)\n",
      "     (pushleft sokoban l16 l15 l14 crate2)\n",
      "     (moveup sokoban l15 l11)\n",
      "     (moveleft sokoban l11 l10)\n",
      "     (moveleft sokoban l10 l9)\n",
      "     (movedown sokoban l9 l13)\n",
      "     (movedown sokoban l13 l17)\n",
      "     (moveright sokoban l17 l18)\n",
      "     (pushup sokoban l18 l14 l10 crate2)\n",
      "     (pushup sokoban l14 l10 l6 crate2)\n",
      "     (pushup sokoban l10 l6 l2 crate2))\n",
      "\n",
      "\n",
      "```\n",
      "\n",
      "I need you to answer the following question concisely by reasoning through the provided information:\n",
      "\n",
      "**Question:**\n",
      "```\n",
      "Why is the action moveup used in the solution?\n",
      "```\n",
      "\n",
      "For context, here is additional information about the specific action mentioned in the question:\n",
      "\n",
      "**Action:**\n",
      "```\n",
      "moveup\n",
      "```\n",
      "\n",
      "**Preconditions of the Action:**\n",
      "```\n",
      "['sokoban ?sokoban', 'at ?sokoban ?x', 'below ?x ?y', 'clear ?y']\n",
      "```\n",
      "\n",
      "**Effects of the Action:**\n",
      "```\n",
      "['at ?sokoban ?y', 'clear ?x', 'not (at ?sokoban ?x)', 'not (clear ?y)']\n",
      "```\n",
      "\n",
      "Using this information, please provide a short, logical response that addresses the question.\n",
      "---\n",
      "\n",
      "\n"
     ]
    }
   ],
   "execution_count": 4
  },
  {
   "metadata": {
    "ExecuteTime": {
     "end_time": "2024-06-19T01:55:12.751863Z",
     "start_time": "2024-06-19T01:55:12.749866Z"
    }
   },
   "cell_type": "code",
   "source": [
    "messages = [\n",
    "  ChatMessage(role=\"user\", content=sokoban_prompt.prompt_1)\n",
    "]"
   ],
   "id": "8fbf920f0f79c97e",
   "outputs": [],
   "execution_count": 5
  },
  {
   "metadata": {
    "ExecuteTime": {
     "end_time": "2024-06-19T01:55:14.414408Z",
     "start_time": "2024-06-19T01:55:12.752870Z"
    }
   },
   "cell_type": "code",
   "source": [
    "%%time\n",
    "# No streaming\n",
    "chat_response = client.chat(\n",
    "  model=\"open-mixtral-8x22b\",\n",
    "  messages=messages,\n",
    ")\n",
    "to_markdown(chat_response.choices[0].message.content)"
   ],
   "id": "2a28df10e061a0a3",
   "outputs": [
    {
     "name": "stdout",
     "output_type": "stream",
     "text": [
      "CPU times: user 4.54 ms, sys: 1.9 ms, total: 6.43 ms\n",
      "Wall time: 1.66 s\n"
     ]
    },
    {
     "data": {
      "text/plain": [
       "<IPython.core.display.Markdown object>"
      ],
      "text/markdown": "> The action moveup is used in the solution to move the sokoban (the player character) upwards to a clear space that is below the current space. This action is necessary to position the sokoban in a way that it can push the crate towards the goal location. The preconditions ensure that the sokoban is at a location that has a clear space below it, and the effects of the action update the sokoban's location and the clear status of the involved spaces accordingly."
     },
     "execution_count": 6,
     "metadata": {},
     "output_type": "execute_result"
    }
   ],
   "execution_count": 6
  }
 ],
 "metadata": {
  "kernelspec": {
   "display_name": "Python 3",
   "language": "python",
   "name": "python3"
  },
  "language_info": {
   "codemirror_mode": {
    "name": "ipython",
    "version": 2
   },
   "file_extension": ".py",
   "mimetype": "text/x-python",
   "name": "python",
   "nbconvert_exporter": "python",
   "pygments_lexer": "ipython2",
   "version": "2.7.6"
  }
 },
 "nbformat": 4,
 "nbformat_minor": 5
}
