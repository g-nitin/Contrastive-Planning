{
 "cells": [
  {
   "metadata": {
    "ExecuteTime": {
     "end_time": "2024-06-22T18:08:04.800802Z",
     "start_time": "2024-06-22T18:08:04.592803Z"
    }
   },
   "cell_type": "code",
   "source": [
    "from dotenv import load_dotenv\n",
    "from os import getenv\n",
    "import textwrap\n",
    "from IPython.display import Markdown\n",
    "\n",
    "from mistralai.client import MistralClient\n",
    "from mistralai.models.chat_completion import ChatMessage\n",
    "\n",
    "load_dotenv();\n",
    "\n",
    "# https://docs.mistral.ai/capabilities/completion/\n",
    "# https://console.mistral.ai/usage/"
   ],
   "id": "5e1c2eb3591a8365",
   "outputs": [],
   "execution_count": 1
  },
  {
   "metadata": {
    "ExecuteTime": {
     "end_time": "2024-06-22T18:08:04.803450Z",
     "start_time": "2024-06-22T18:08:04.801696Z"
    }
   },
   "cell_type": "code",
   "source": [
    "def to_markdown(text):\n",
    "    text = text.replace('•', '  *')\n",
    "    return Markdown(textwrap.indent(text, '> ', predicate=lambda _: True))"
   ],
   "id": "e2ff4c06294085cc",
   "outputs": [],
   "execution_count": 2
  },
  {
   "metadata": {
    "ExecuteTime": {
     "end_time": "2024-06-22T18:08:04.812394Z",
     "start_time": "2024-06-22T18:08:04.804021Z"
    }
   },
   "cell_type": "code",
   "source": "client = MistralClient(api_key=getenv('MISTRAL_API_KEY'))",
   "id": "3d25250724a470c6",
   "outputs": [],
   "execution_count": 3
  },
  {
   "metadata": {},
   "cell_type": "markdown",
   "source": "<br>",
   "id": "768495edd79d2ac5"
  },
  {
   "metadata": {
    "ExecuteTime": {
     "end_time": "2024-06-22T18:08:04.815121Z",
     "start_time": "2024-06-22T18:08:04.813033Z"
    }
   },
   "cell_type": "code",
   "source": [
    "def get_response(prompt: str) -> str:\n",
    "    \"\"\"\n",
    "    Get response from Mistral API given a prompt.\n",
    "    @param prompt: The prompt to send to the API.\n",
    "    @return: The response from the API.\n",
    "    \"\"\"\n",
    "    \n",
    "    messages = [\n",
    "      ChatMessage(role=\"user\", content=prompt)\n",
    "    ]\n",
    "\n",
    "    chat_response = client.chat(\n",
    "      model=\"open-mixtral-8x22b\",\n",
    "      messages=messages,\n",
    "    )\n",
    "    \n",
    "    return chat_response.choices[0].message.content"
   ],
   "id": "8d228b1661b194f3",
   "outputs": [],
   "execution_count": 4
  },
  {
   "metadata": {
    "ExecuteTime": {
     "end_time": "2024-06-22T18:08:04.819112Z",
     "start_time": "2024-06-22T18:08:04.816786Z"
    }
   },
   "cell_type": "code",
   "source": "from sokoban_prompt import *",
   "id": "ea694cad3995f4a7",
   "outputs": [],
   "execution_count": 5
  },
  {
   "metadata": {},
   "cell_type": "markdown",
   "source": "<br>",
   "id": "58f67d53e4416762"
  },
  {
   "metadata": {
    "ExecuteTime": {
     "end_time": "2024-06-22T18:08:04.822813Z",
     "start_time": "2024-06-22T18:08:04.819715Z"
    }
   },
   "cell_type": "code",
   "source": "display(Markdown(prompt_1()))",
   "id": "d55f15420ab71a98",
   "outputs": [
    {
     "data": {
      "text/plain": [
       "<IPython.core.display.Markdown object>"
      ],
      "text/markdown": "\n    I have a Sokoban problem with the following initial and goal states expressed in PDDL:\n\n    **Initial and Goal States:**\n    ```\n    \n    (define (problem s1)\n        (:domain sokoban)\n        (:objects sokoban, crate2, l1, l2, l5, l6, l9, l10, l11, l12, l13, l14, l15, l16, l17, l18)\n        (:init (sokoban sokoban) \n               (crate crate2)\n\n               ;;horizontal relationships\n               (leftOf l1 l2) \n               (leftOf l5 l6) \n               (leftOf l9 l10) (leftOf l10 l11) (leftOf l11 l12) \n               (leftOf l13 l14) (leftOf l14 l15) (leftOf l15 l16)\n               (leftOf l17 l18)\n\n               ;;vertical relationships\n               (below l5 l1) (below l6 l2)\n               (below l9 l5) (below l10 l6)\n               (below l13 l9) (below l14 l10) (below l15 l11) (below l16 l12)\n               (below l17 l13) (below l18 l14)\n\n               ;;initialize sokoban and crate\n               (at sokoban l10)\n               (at crate2 l15) \n\n               ;;clear spaces\n               (clear l1) \n               (clear l2) \n               (clear l5) \n               (clear l6) \n               (clear l9)\n               (clear l11)\n               (clear l12) \n               (clear l13) \n               (clear l14)\n               (clear l16) \n               (clear l17)   \t\t\t\t\n               (clear l18))\n\n        (:goal (and (at crate2 l2)))\n    )\n    \n    ```\n\n    **Generated Solution Plan:**\n    ```\n    \n    ((moveright sokoban l10 l11)\n     (moveright sokoban l11 l12)\n     (movedown sokoban l12 l16)\n     (pushleft sokoban l16 l15 l14 crate2)\n     (moveup sokoban l15 l11)\n     (moveleft sokoban l11 l10)\n     (moveleft sokoban l10 l9)\n     (movedown sokoban l9 l13)\n     (movedown sokoban l13 l17)\n     (moveright sokoban l17 l18)\n     (pushup sokoban l18 l14 l10 crate2)\n     (pushup sokoban l14 l10 l6 crate2)\n     (pushup sokoban l10 l6 l2 crate2))\n    \n    ```\n\n    I need you to answer the following question concisely by reasoning through the provided information:\n\n    **Question:**\n    ```\n    Why is the action moveup sokoban l15 l11 used in the solution?\n    ```\n\n    For context, here is additional information about the specific action mentioned in the question:\n\n    **Action:**\n    ```\n    moveup sokoban l15 l11\n    ```\n\n    **Preconditions of the Action:**\n    ```\n    ['sokoban sokoban', 'at sokoban l15', 'below l15 l11', 'clear l11']\n    ```\n\n    **Effects of the Action:**\n    ```\n    ['at sokoban l11', 'clear l15', 'not (at sokoban l15)', 'not (clear l11)']\n    ```\n\n    Using this information, please provide a short, logical response that addresses the question.\n    "
     },
     "metadata": {},
     "output_type": "display_data"
    }
   ],
   "execution_count": 6
  },
  {
   "metadata": {
    "ExecuteTime": {
     "end_time": "2024-06-22T18:08:07.519651Z",
     "start_time": "2024-06-22T18:08:04.823468Z"
    }
   },
   "cell_type": "code",
   "source": [
    "%%time\n",
    "response_1 = get_response(prompt_1())"
   ],
   "id": "e41d446840703bbf",
   "outputs": [
    {
     "name": "stdout",
     "output_type": "stream",
     "text": [
      "CPU times: user 4.59 ms, sys: 2.3 ms, total: 6.89 ms\n",
      "Wall time: 2.69 s\n"
     ]
    }
   ],
   "execution_count": 7
  },
  {
   "metadata": {
    "ExecuteTime": {
     "end_time": "2024-06-22T18:08:07.525289Z",
     "start_time": "2024-06-22T18:08:07.521322Z"
    }
   },
   "cell_type": "code",
   "source": "display(to_markdown(response_1))",
   "id": "2a28df10e061a0a3",
   "outputs": [
    {
     "data": {
      "text/plain": [
       "<IPython.core.display.Markdown object>"
      ],
      "text/markdown": "> The action \"moveup sokoban l15 l11\" is used in the solution to move the sokoban from location l15 to location l11. This is necessary because the sokoban needs to be in location l11 to perform the next action, \"moveleft sokoban l11 l10\", which is part of the path to move the crate to its goal location. The preconditions for the \"moveup\" action are met, as the sokoban is at location l15, location l11 is below l15, and location l11 is clear. After the action is executed, the sokoban is at location l11, location l15 is clear, and the sokoban is no longer at location l15."
     },
     "metadata": {},
     "output_type": "display_data"
    }
   ],
   "execution_count": 8
  },
  {
   "metadata": {
    "ExecuteTime": {
     "end_time": "2024-06-22T18:08:07.529808Z",
     "start_time": "2024-06-22T18:08:07.526406Z"
    }
   },
   "cell_type": "code",
   "source": "response_1",
   "id": "42e7575b1b24d403",
   "outputs": [
    {
     "data": {
      "text/plain": [
       "'The action \"moveup sokoban l15 l11\" is used in the solution to move the sokoban from location l15 to location l11. This is necessary because the sokoban needs to be in location l11 to perform the next action, \"moveleft sokoban l11 l10\", which is part of the path to move the crate to its goal location. The preconditions for the \"moveup\" action are met, as the sokoban is at location l15, location l11 is below l15, and location l11 is clear. After the action is executed, the sokoban is at location l11, location l15 is clear, and the sokoban is no longer at location l15.'"
      ]
     },
     "execution_count": 9,
     "metadata": {},
     "output_type": "execute_result"
    }
   ],
   "execution_count": 9
  },
  {
   "metadata": {},
   "cell_type": "markdown",
   "source": "<br>",
   "id": "60cf21d8ae9d36f4"
  },
  {
   "metadata": {
    "ExecuteTime": {
     "end_time": "2024-06-22T18:08:07.535878Z",
     "start_time": "2024-06-22T18:08:07.530856Z"
    }
   },
   "cell_type": "code",
   "source": "display(Markdown(prompt_2()))",
   "id": "31284bdaceaa6d9e",
   "outputs": [
    {
     "data": {
      "text/plain": [
       "<IPython.core.display.Markdown object>"
      ],
      "text/markdown": "\n    I have a Sokoban problem with the following initial and goal states expressed in PDDL:\n\n    **Initial and Goal States:**\n    ```\n    \n    (define (problem s1)\n        (:domain sokoban)\n        (:objects sokoban, crate2, l1, l2, l5, l6, l9, l10, l11, l12, l13, l14, l15, l16, l17, l18)\n        (:init (sokoban sokoban) \n               (crate crate2)\n\n               ;;horizontal relationships\n               (leftOf l1 l2) \n               (leftOf l5 l6) \n               (leftOf l9 l10) (leftOf l10 l11) (leftOf l11 l12) \n               (leftOf l13 l14) (leftOf l14 l15) (leftOf l15 l16)\n               (leftOf l17 l18)\n\n               ;;vertical relationships\n               (below l5 l1) (below l6 l2)\n               (below l9 l5) (below l10 l6)\n               (below l13 l9) (below l14 l10) (below l15 l11) (below l16 l12)\n               (below l17 l13) (below l18 l14)\n\n               ;;initialize sokoban and crate\n               (at sokoban l10)\n               (at crate2 l15) \n\n               ;;clear spaces\n               (clear l1) \n               (clear l2) \n               (clear l5) \n               (clear l6) \n               (clear l9)\n               (clear l11)\n               (clear l12) \n               (clear l13) \n               (clear l14)\n               (clear l16) \n               (clear l17)   \t\t\t\t\n               (clear l18))\n\n        (:goal (and (at crate2 l2)))\n    )\n    \n    ```\n\n    **Generated Solution Plan:**\n    ```\n    \n    ((moveright sokoban l10 l11)\n     (moveright sokoban l11 l12)\n     (movedown sokoban l12 l16)\n     (pushleft sokoban l16 l15 l14 crate2)\n     (moveup sokoban l15 l11)\n     (moveleft sokoban l11 l10)\n     (moveleft sokoban l10 l9)\n     (movedown sokoban l9 l13)\n     (movedown sokoban l13 l17)\n     (moveright sokoban l17 l18)\n     (pushup sokoban l18 l14 l10 crate2)\n     (pushup sokoban l14 l10 l6 crate2)\n     (pushup sokoban l10 l6 l2 crate2))\n    \n    ```\n\n    I need you to answer the following question concisely by reasoning through the provided information:\n\n    **Question:**\n    ```\n    Why is the action pushdown sokoban l18 l14 l10 crate2 not used in the solution for the third last step?\n    ```\n\n    For context, here is additional information about the specific action mentioned in the question:\n\n    **Action:**\n    ```\n    pushdown sokoban l18 l14 l10 crate2\n    ```\n\n    **Preconditions of the Action:**\n    ```\n    ['sokoban sokoban', 'crate crate2', 'below l14 l18', 'below l10 l14', 'at sokoban l18', 'at crate2 l14', 'clear l10']\n    ```\n\n    **Effects of the Action:**\n    ```\n    ['at sokoban l14', 'at crate2 l10', 'clear l18', 'not (at sokoban l18)', 'not (at crate2 l14)', 'not (clear l14)', 'not (clear l10)']\n    ```\n\n    Using this information, please provide a short, logical response that addresses the question.\n    "
     },
     "metadata": {},
     "output_type": "display_data"
    }
   ],
   "execution_count": 10
  },
  {
   "metadata": {
    "ExecuteTime": {
     "end_time": "2024-06-22T18:08:10.125785Z",
     "start_time": "2024-06-22T18:08:07.537356Z"
    }
   },
   "cell_type": "code",
   "source": [
    "%%time\n",
    "response_2 = get_response(prompt_2())"
   ],
   "id": "7df68afdbb20c1ea",
   "outputs": [
    {
     "name": "stdout",
     "output_type": "stream",
     "text": [
      "CPU times: user 3.26 ms, sys: 1.28 ms, total: 4.54 ms\n",
      "Wall time: 2.58 s\n"
     ]
    }
   ],
   "execution_count": 11
  },
  {
   "metadata": {
    "ExecuteTime": {
     "end_time": "2024-06-22T18:08:10.132557Z",
     "start_time": "2024-06-22T18:08:10.127505Z"
    }
   },
   "cell_type": "code",
   "source": "display(to_markdown(response_2))",
   "id": "4ccbc3e8d10f09f9",
   "outputs": [
    {
     "data": {
      "text/plain": [
       "<IPython.core.display.Markdown object>"
      ],
      "text/markdown": "> The solution plan does not include the action \"pushdown sokoban l18 l14 l10 crate2\" because the sokoban and the crate are not positioned correctly for this action to be executed. Specifically, the preconditions for this action require that the sokoban is at location l18, the crate is at location l14, and location l10 is clear. However, the solution plan does not move the sokoban to location l18 or the crate to location l14, and it does not clear location l10 before the third last step. Instead, the solution plan uses the action \"pushup sokoban l14 l10 l6 crate2\" to move the crate upwards, which satisfies the goal condition."
     },
     "metadata": {},
     "output_type": "display_data"
    }
   ],
   "execution_count": 12
  },
  {
   "metadata": {
    "ExecuteTime": {
     "end_time": "2024-06-22T18:08:10.139128Z",
     "start_time": "2024-06-22T18:08:10.133826Z"
    }
   },
   "cell_type": "code",
   "source": "response_2",
   "id": "fa876f42b21165cd",
   "outputs": [
    {
     "data": {
      "text/plain": [
       "'The solution plan does not include the action \"pushdown sokoban l18 l14 l10 crate2\" because the sokoban and the crate are not positioned correctly for this action to be executed. Specifically, the preconditions for this action require that the sokoban is at location l18, the crate is at location l14, and location l10 is clear. However, the solution plan does not move the sokoban to location l18 or the crate to location l14, and it does not clear location l10 before the third last step. Instead, the solution plan uses the action \"pushup sokoban l14 l10 l6 crate2\" to move the crate upwards, which satisfies the goal condition.'"
      ]
     },
     "execution_count": 13,
     "metadata": {},
     "output_type": "execute_result"
    }
   ],
   "execution_count": 13
  },
  {
   "metadata": {},
   "cell_type": "markdown",
   "source": "<br>",
   "id": "6fcc10eefa646bd8"
  },
  {
   "metadata": {
    "ExecuteTime": {
     "end_time": "2024-06-22T18:08:10.147913Z",
     "start_time": "2024-06-22T18:08:10.143646Z"
    }
   },
   "cell_type": "code",
   "source": "display(Markdown(prompt_3()))",
   "id": "4139f8dcc517533f",
   "outputs": [
    {
     "data": {
      "text/plain": [
       "<IPython.core.display.Markdown object>"
      ],
      "text/markdown": "\n    I have a Sokoban problem with the following initial and goal states expressed in PDDL:\n\n    **Initial and Goal States:**\n    ```\n    \n    (define (problem s1)\n        (:domain sokoban)\n        (:objects sokoban, crate2, l1, l2, l5, l6, l9, l10, l11, l12, l13, l14, l15, l16, l17, l18)\n        (:init (sokoban sokoban) \n               (crate crate2)\n\n               ;;horizontal relationships\n               (leftOf l1 l2) \n               (leftOf l5 l6) \n               (leftOf l9 l10) (leftOf l10 l11) (leftOf l11 l12) \n               (leftOf l13 l14) (leftOf l14 l15) (leftOf l15 l16)\n               (leftOf l17 l18)\n\n               ;;vertical relationships\n               (below l5 l1) (below l6 l2)\n               (below l9 l5) (below l10 l6)\n               (below l13 l9) (below l14 l10) (below l15 l11) (below l16 l12)\n               (below l17 l13) (below l18 l14)\n\n               ;;initialize sokoban and crate\n               (at sokoban l10)\n               (at crate2 l15) \n\n               ;;clear spaces\n               (clear l1) \n               (clear l2) \n               (clear l5) \n               (clear l6) \n               (clear l9)\n               (clear l11)\n               (clear l12) \n               (clear l13) \n               (clear l14)\n               (clear l16) \n               (clear l17)   \t\t\t\t\n               (clear l18))\n\n        (:goal (and (at crate2 l2)))\n    )\n    \n    ```\n\n    **Generated Solution Plan:**\n    ```\n    \n    ((moveright sokoban l10 l11)\n     (moveright sokoban l11 l12)\n     (movedown sokoban l12 l16)\n     (pushleft sokoban l16 l15 l14 crate2)\n     (moveup sokoban l15 l11)\n     (moveleft sokoban l11 l10)\n     (moveleft sokoban l10 l9)\n     (movedown sokoban l9 l13)\n     (movedown sokoban l13 l17)\n     (moveright sokoban l17 l18)\n     (pushup sokoban l18 l14 l10 crate2)\n     (pushup sokoban l14 l10 l6 crate2)\n     (pushup sokoban l10 l6 l2 crate2))\n    \n    ```\n\n    I need you to answer the following question concisely by reasoning through the provided information:\n\n    **Question:**\n    ```\n    For the last step, why is the action pushup sokoban l10 l6 l2 crate2 used in the solution rather than action pushdown sokoban l12 l6 l2 crate2?\n    ```\n\n    For context, here is additional information about the specific actions mentioned in the question:\n\n    **Action 1:**\n    ```\n    pushup sokoban l10 l6 l2 crate2\n    ```\n\n    **Preconditions of the 1st Action:**\n    ```\n    ['sokoban sokoban', 'crate crate2', 'below l10 l6', 'below l6 l2', 'at sokoban l10', 'at crate2 l6', 'clear l2']\n    ```\n\n    **Effects of the 1st Action:**\n    ```\n    ['at sokoban l6', 'at crate2 l2', 'clear l10', 'not (at sokoban l10)', 'not (at crate2 l6)', 'not (clear l6)', 'not (clear l2)']\n    ```\n    \n    **Action 2:**\n    ```\n    pushdown sokoban l12 l6 l2 crate2\n    ```\n\n    **Preconditions of the 2nd Action:**\n    ```\n    ['sokoban sokoban', 'crate crate2', 'below l6 l12', 'below l2 l6', 'at sokoban l12', 'at crate l6', 'clear l2']\n    ```\n\n    **Effects of the 2nd Action:**\n    ```\n    ['at sokoban l6', 'at crate2 l2', 'clear l12', 'not (at sokoban l12)', 'not (at crate2 l6)', 'not (clear l6)', 'not (clear l2)']\n    ```\n\n    Using this information, please provide a short, logical response that addresses the question.\n    "
     },
     "metadata": {},
     "output_type": "display_data"
    }
   ],
   "execution_count": 14
  },
  {
   "metadata": {
    "ExecuteTime": {
     "end_time": "2024-06-22T18:08:12.436385Z",
     "start_time": "2024-06-22T18:08:10.149419Z"
    }
   },
   "cell_type": "code",
   "source": [
    "%%time\n",
    "response_3 = get_response(prompt_3())"
   ],
   "id": "faaf404f84f55777",
   "outputs": [
    {
     "name": "stdout",
     "output_type": "stream",
     "text": [
      "CPU times: user 3.35 ms, sys: 2.17 ms, total: 5.52 ms\n",
      "Wall time: 2.28 s\n"
     ]
    }
   ],
   "execution_count": 15
  },
  {
   "metadata": {
    "ExecuteTime": {
     "end_time": "2024-06-22T18:08:12.442628Z",
     "start_time": "2024-06-22T18:08:12.437850Z"
    }
   },
   "cell_type": "code",
   "source": "display(to_markdown(response_3))",
   "id": "e463e87f45a5b169",
   "outputs": [
    {
     "data": {
      "text/plain": [
       "<IPython.core.display.Markdown object>"
      ],
      "text/markdown": "> The action \"pushup sokoban l10 l6 l2 crate2\" is used instead of \"pushdown sokoban l12 l6 l2 crate2\" because the preconditions for \"pushup\" match the current state of the game, while the preconditions for \"pushdown\" do not. Specifically, for \"pushup\", the sokoban is at location l10, the crate is at location l6, and location l2 is clear. For \"pushdown\", the sokoban would need to be at location l12, which it is not. Therefore, the \"pushup\" action is the only valid move to push the crate to the goal location."
     },
     "metadata": {},
     "output_type": "display_data"
    }
   ],
   "execution_count": 16
  },
  {
   "metadata": {
    "ExecuteTime": {
     "end_time": "2024-06-22T18:08:12.448765Z",
     "start_time": "2024-06-22T18:08:12.444179Z"
    }
   },
   "cell_type": "code",
   "source": "response_3",
   "id": "280a67d8212de750",
   "outputs": [
    {
     "data": {
      "text/plain": [
       "'The action \"pushup sokoban l10 l6 l2 crate2\" is used instead of \"pushdown sokoban l12 l6 l2 crate2\" because the preconditions for \"pushup\" match the current state of the game, while the preconditions for \"pushdown\" do not. Specifically, for \"pushup\", the sokoban is at location l10, the crate is at location l6, and location l2 is clear. For \"pushdown\", the sokoban would need to be at location l12, which it is not. Therefore, the \"pushup\" action is the only valid move to push the crate to the goal location.'"
      ]
     },
     "execution_count": 17,
     "metadata": {},
     "output_type": "execute_result"
    }
   ],
   "execution_count": 17
  }
 ],
 "metadata": {
  "kernelspec": {
   "display_name": "Python 3",
   "language": "python",
   "name": "python3"
  },
  "language_info": {
   "codemirror_mode": {
    "name": "ipython",
    "version": 2
   },
   "file_extension": ".py",
   "mimetype": "text/x-python",
   "name": "python",
   "nbconvert_exporter": "python",
   "pygments_lexer": "ipython2",
   "version": "2.7.6"
  }
 },
 "nbformat": 4,
 "nbformat_minor": 5
}
