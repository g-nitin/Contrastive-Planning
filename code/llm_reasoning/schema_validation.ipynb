{
 "cells": [
  {
   "metadata": {},
   "cell_type": "markdown",
   "source": [
    "# Automating Validation of LLM Responses for Sokoban Plans\n",
    "Our goal is to automate the validation of LLM responses.\n",
    "<br>One way is by using another LLM to convert the responses into a structured JSON format. However, we need to come up with a JSON schema first.\n",
    "<br>Then, we can use a Python script to validate the JSON responses against the schema.     "
   ],
   "id": "918c745ced6fae6a"
  },
  {
   "metadata": {
    "ExecuteTime": {
     "end_time": "2024-07-16T21:31:48.270123Z",
     "start_time": "2024-07-16T21:31:48.267517Z"
    }
   },
   "cell_type": "code",
   "source": [
    "# pip install jsonschema\n",
    "from jsonschema import validate  # for validating JSON objects against a schema"
   ],
   "id": "1ad6bb4a34bc3525",
   "outputs": [],
   "execution_count": 2
  },
  {
   "metadata": {
    "ExecuteTime": {
     "end_time": "2024-07-16T21:32:10.033540Z",
     "start_time": "2024-07-16T21:32:10.028097Z"
    }
   },
   "cell_type": "code",
   "source": [
    "# JSON schema for Sokoban plan explanations\n",
    "# The schema defines the structure of the JSON object that represents a Sokoban plan explanation.\n",
    "# The schema also specifies the constraints that the JSON object should adhere to.\n",
    "# The constraints include the allowed values for certain fields and the relationships between different fields.\n",
    "# Note: There are 4 types of questions: planValidity, actionTaken, actionNotTaken, and actionComparison.\n",
    "schema = {\n",
    "  \"$schema\": \"http://json-schema.org/draft-07/schema#\",\n",
    "  \"type\": \"object\",\n",
    "  \"properties\": {\n",
    "    \"questionType\": {\n",
    "      \"type\": \"string\",\n",
    "      \"enum\": [\"planValidity\", \"actionTaken\", \"actionNotTaken\", \"actionComparison\"]\n",
    "    },\n",
    "    \"conclusion\": {\n",
    "      \"type\": \"string\",\n",
    "      \"enum\": [\"valid\", \"invalid\", \"partially valid\", \"inconclusive\"]\n",
    "    },\n",
    "    \"reasoning\": {\n",
    "      \"type\": \"array\",\n",
    "      \"items\": {\n",
    "        \"type\": \"object\",\n",
    "        \"properties\": {\n",
    "          \"step\": { \"type\": \"integer\" },\n",
    "          \"explanation\": { \"type\": \"string\" },\n",
    "          \"relevantAction\": { \"type\": \"string\" },\n",
    "          \"preconditionsSatisfied\": { \"type\": \"boolean\" },\n",
    "          \"effectsConsistent\": { \"type\": \"boolean\" }\n",
    "        },\n",
    "        \"required\": [\"step\", \"explanation\"]\n",
    "      }\n",
    "    },\n",
    "    \"referencedGameElements\": {\n",
    "      \"type\": \"array\",\n",
    "      \"items\": { \"type\": \"string\" }\n",
    "    },\n",
    "    \"confidenceScore\": {\n",
    "      \"type\": \"number\",\n",
    "      \"minimum\": 0,\n",
    "      \"maximum\": 1\n",
    "    },\n",
    "    \"relevantActions\": {\n",
    "      \"type\": \"array\",\n",
    "      \"items\": { \"type\": \"string\" }\n",
    "    }\n",
    "  },\n",
    "  \"required\": [\"questionType\", \"conclusion\", \"reasoning\", \"relevantActions\"]\n",
    "}"
   ],
   "id": "18235a52ce3a1a3c",
   "outputs": [],
   "execution_count": 3
  },
  {
   "metadata": {
    "ExecuteTime": {
     "end_time": "2024-07-16T21:32:16.394347Z",
     "start_time": "2024-07-16T21:32:16.388845Z"
    }
   },
   "cell_type": "code",
   "source": [
    "# Sample LLM Answer to the question type of why action A was chosen over action B:\n",
    "# The action \"pushleft sokoban l19 l18 l17 crate2\" is used in the solution instead of \"pushright sokoban l19 l18 l17 crate2\" because they have the same effects and their preconditions are almost identical. The only difference is that the \"pushleft\" action requires \"leftOf l18 l19\" whereas the \"pushright\" action requires \"leftOf l19 l18\", but the initial state establishes \"leftOf l18 l19\", making the \"pushleft\" action applicable and not the \"pushright\" one.\n",
    "\n",
    "# Translation into JSON, adhering the above schema, by another LLM:\n",
    "answer = {\n",
    "  \"questionType\": \"actionComparison\",\n",
    "  \"conclusion\": \"valid\",\n",
    "  \"reasoning\": [\n",
    "    {\n",
    "      \"step\": 1,\n",
    "      \"explanation\": \"The actions 'pushleft sokoban l19 l18 l17 crate2' and 'pushright sokoban l19 l18 l17 crate2' have the same effects.\",\n",
    "      \"relevantAction\": \"pushleft sokoban l19 l18 l17 crate2\"\n",
    "    },\n",
    "    {\n",
    "      \"step\": 2,\n",
    "      \"explanation\": \"The preconditions of both actions are almost identical, with one key difference.\",\n",
    "      \"relevantAction\": \"pushright sokoban l19 l18 l17 crate2\"\n",
    "    },\n",
    "    {\n",
    "      \"step\": 3,\n",
    "      \"explanation\": \"The 'pushleft' action requires 'leftOf l18 l19', while the 'pushright' action requires 'leftOf l19 l18'.\",\n",
    "      \"preconditionsSatisfied\": True,\n",
    "      \"effectsConsistent\": True\n",
    "    },\n",
    "    {\n",
    "      \"step\": 4,\n",
    "      \"explanation\": \"The initial state establishes 'leftOf l18 l19', making the 'pushleft' action applicable and not the 'pushright' one.\",\n",
    "      \"preconditionsSatisfied\": True,\n",
    "      \"effectsConsistent\": True\n",
    "    }\n",
    "  ],\n",
    "  \"referencedGameElements\": [\"sokoban\", \"l19\", \"l18\", \"l17\", \"crate2\"],\n",
    "  \"confidenceScore\": 0.95,\n",
    "  \"relevantActions\": [\n",
    "    \"pushleft sokoban l19 l18 l17 crate2\",\n",
    "    \"pushright sokoban l19 l18 l17 crate2\"\n",
    "  ]\n",
    "}"
   ],
   "id": "4413af3498071c7a",
   "outputs": [],
   "execution_count": 4
  },
  {
   "metadata": {
    "ExecuteTime": {
     "end_time": "2024-07-16T21:34:34.220766Z",
     "start_time": "2024-07-16T21:34:34.215185Z"
    }
   },
   "cell_type": "code",
   "source": [
    "def validate_sokoban_explanation(explanation: dict, initial_state: set, question_info: dict):\n",
    "    \"\"\"\n",
    "    Validate an explanation for a Sokoban plan against the JSON schema and additional constraints.\n",
    "    @param explanation: The explanation to validate. Should be a dictionary representing a Sokoban plan explanation.\n",
    "    @param initial_state: The initial state of the Sokoban plan. Should be a set of strings representing game elements.\n",
    "        Note that the initial state consists of the objects and their initial positions.\n",
    "    @param question_info: Information about the question that was asked. Should be a dictionary with keys 'type', 'action', and/or 'actions'.\n",
    "    \"\"\"\n",
    "    # Validate against JSON schema\n",
    "    validate(instance=explanation, schema=schema)  # Raises an exception if the explanation does not adhere to the schema\n",
    "    \n",
    "    # Check question type\n",
    "    assert explanation['questionType'] in ['planValidity', 'actionTaken', 'actionNotTaken', 'actionComparison'], \"Invalid question type\"\n",
    "    assert explanation['questionType'] == question_info['type'], \"Question type doesn't match the provided question info\"\n",
    "    \n",
    "    # Check conclusion\n",
    "    assert explanation['conclusion'] in ['valid', 'invalid', 'partially valid', 'inconclusive'], \"Invalid conclusion\"\n",
    "    \n",
    "    # Check reasoning steps\n",
    "    assert len(explanation['reasoning']) > 0, \"Reasoning should have at least one step\"\n",
    "    \n",
    "    # Check referenced game elements\n",
    "    game_elements = set(explanation['referencedGameElements'])\n",
    "    assert all(element in initial_state for element in game_elements), \"All referenced game elements should be in the initial state\"\n",
    "    \n",
    "    # Check actions based on question type\n",
    "    if explanation['questionType'] == 'planValidity':\n",
    "        assert len(explanation['relevantActions']) == 0, \"Plan validity questions should not have relevant actions\"\n",
    "    \n",
    "    elif explanation['questionType'] in ['actionTaken', 'actionNotTaken']:\n",
    "        assert len(explanation['relevantActions']) == 1, f\"{explanation['questionType']} questions should have exactly one relevant action\"\n",
    "        assert explanation['relevantActions'][0] == question_info['action'], \"Relevant action doesn't match the provided question info\"\n",
    "    \n",
    "    elif explanation['questionType'] == 'actionComparison':\n",
    "        assert len(explanation['relevantActions']) == 2, \"Action comparison questions should have exactly two relevant actions\"\n",
    "        assert set(explanation['relevantActions']) == set(question_info['actions']), \"Relevant actions don't match the provided question info\"\n",
    "    \n",
    "    # Check if relevant actions are mentioned in reasoning\n",
    "    for action in explanation['relevantActions']:\n",
    "        assert any(step.get('relevantAction') == action for step in explanation['reasoning']), f\"Action {action} should be mentioned in reasoning\"\n",
    "    \n",
    "    # Check preconditions and effects (if applicable)\n",
    "    if explanation['questionType'] != 'planValidity':\n",
    "        precondition_steps = [step for step in explanation['reasoning'] if 'preconditionsSatisfied' in step]\n",
    "        assert len(precondition_steps) > 0, \"At least one step should mention preconditions\"\n",
    "        assert all(step['preconditionsSatisfied'] for step in precondition_steps), \"All mentioned preconditions should be satisfied\"\n",
    "        \n",
    "        effect_steps = [step for step in explanation['reasoning'] if 'effectsConsistent' in step]\n",
    "        assert len(effect_steps) > 0, \"At least one step should mention effects\"\n",
    "        assert all(step['effectsConsistent'] for step in effect_steps), \"All mentioned effects should be consistent\"\n",
    "    \n",
    "    # Check for mention of initial state (if applicable)\n",
    "    if explanation['questionType'] != 'planValidity':\n",
    "        assert any(\"initial state\" in step['explanation'].lower() for step in explanation['reasoning']), \"Explanation should mention the initial state\"\n",
    "    \n",
    "    # Check confidence score\n",
    "    assert 0 <= explanation['confidenceScore'] <= 1, \"Confidence score should be between 0 and 1\"\n",
    "\n",
    "    print(\"Validation successful!\")  # If all checks pass, the explanation is valid"
   ],
   "id": "dd53bd7546a333b5",
   "outputs": [],
   "execution_count": 7
  },
  {
   "metadata": {
    "ExecuteTime": {
     "end_time": "2024-07-16T21:37:26.139574Z",
     "start_time": "2024-07-16T21:37:26.135874Z"
    }
   },
   "cell_type": "code",
   "source": [
    "# Consists of the objects and the initial states\n",
    "initial_state = {\n",
    "    \"sokoban\", \"crate1\", \"crate2\", \"l1\", \"l10\", \"l11\", \"l12\", \"l17\", \"l18\", \"l19\", \"l22\", \n",
    "    \"l23\", \"l24\", \"l29\", \"l30\", \"l31\", \"l32\", \"l33\", \"l36\", \"l37\", \"l38\", \"l39\", \"l40\"}\n",
    "\n",
    "initial_state.update(\n",
    "    {\"crate crate1\", \"crate crate2\", \"leftOf l10 l11\", \"leftOf l11 l12\", \"leftOf l17 l18\", \n",
    "    \"leftOf l18 l19\", \"leftOf l22 l23\", \"leftOf l23 l24\", \"leftOf l29 l30\", \"leftOf l30 l31\", \n",
    "    \"leftOf l31 l32\", \"leftOf l32 l33\", \"leftOf l36 l37\", \"leftOf l37 l38\", \"leftOf l38 l39\", \n",
    "    \"leftOf l39 l40\", \"below l17 l10\", \"below l18 l11\", \"below l19 l12\", \"below l24 l17\", \n",
    "    \"below l29 l22\", \"below l30 l23\", \"below l31 l24\", \"below l36 l29\", \"below l37 l30\", \n",
    "    \"below l38 l31\", \"below l39 l32\", \"below l40 l33\", \"at sokoban l19\", \"at crate1 l17\", \n",
    "    \"at crate2 l18\", \"clear l1\", \"clear l10\", \"clear l11\", \"clear l12\", \"clear l22\", \n",
    "    \"clear l23\", \"clear l24\", \"clear l29\", \"clear l30\", \"clear l31\", \"clear l32\", \n",
    "    \"clear l33\", \"clear l36\", \"clear l37\", \"clear l38\", \"clear l39\", \"clear l40\"}\n",
    ")"
   ],
   "id": "dec36685ae8173ec",
   "outputs": [],
   "execution_count": 9
  },
  {
   "metadata": {},
   "cell_type": "markdown",
   "source": [
    "Call the validation function with the answer, initial state, and question information to validate the explanation.\n",
    "<br>For \"actionComparison\", it includes both actions being compared.\n",
    "<br>For \"actionTaken\" and \"actionNotTaken\", it includes the single action in question.\n",
    "<br>For \"planValidity\", it's an empty array since no specific actions are relevant to the question."
   ],
   "id": "b39a28c9e591ebae"
  },
  {
   "metadata": {
    "ExecuteTime": {
     "end_time": "2024-07-16T21:42:29.850648Z",
     "start_time": "2024-07-16T21:42:29.841297Z"
    }
   },
   "cell_type": "code",
   "source": [
    "# Example for action comparison question\n",
    "question_info_comparison = {\n",
    "    \"type\": \"actionComparison\",\n",
    "    \"actions\": [\"pushleft sokoban l19 l18 l17 crate2\", \"pushright sokoban l19 l18 l17 crate2\"]\n",
    "}\n",
    "validate_sokoban_explanation(answer, initial_state, question_info_comparison)"
   ],
   "id": "d533dd8277bacfef",
   "outputs": [
    {
     "name": "stdout",
     "output_type": "stream",
     "text": [
      "Validation successful!\n"
     ]
    }
   ],
   "execution_count": 10
  },
  {
   "metadata": {
    "ExecuteTime": {
     "end_time": "2024-07-16T21:16:47.892673Z",
     "start_time": "2024-07-16T21:16:47.890381Z"
    }
   },
   "cell_type": "code",
   "source": [
    "# # Example for action taken question\n",
    "# question_info_taken = {\n",
    "#     \"type\": \"actionTaken\",\n",
    "#     \"action\": \"pushleft sokoban l19 l18 l17 crate2\"\n",
    "# }\n",
    "# validate_sokoban_explanation(answer, initial_state, question_info_taken)"
   ],
   "id": "216d51c5ed62abfe",
   "outputs": [],
   "execution_count": 49
  },
  {
   "metadata": {
    "ExecuteTime": {
     "end_time": "2024-07-16T21:16:45.686729Z",
     "start_time": "2024-07-16T21:16:45.682773Z"
    }
   },
   "cell_type": "code",
   "source": [
    "# # Example for plan validity question\n",
    "# question_info_validity = {\n",
    "#     \"type\": \"planValidity\"\n",
    "# }\n",
    "# validate_sokoban_explanation(answer, initial_state, question_info_validity)"
   ],
   "id": "6147b39a5b155255",
   "outputs": [],
   "execution_count": 48
  }
 ],
 "metadata": {
  "kernelspec": {
   "display_name": "Python 3",
   "language": "python",
   "name": "python3"
  },
  "language_info": {
   "codemirror_mode": {
    "name": "ipython",
    "version": 2
   },
   "file_extension": ".py",
   "mimetype": "text/x-python",
   "name": "python",
   "nbconvert_exporter": "python",
   "pygments_lexer": "ipython2",
   "version": "2.7.6"
  }
 },
 "nbformat": 4,
 "nbformat_minor": 5
}
