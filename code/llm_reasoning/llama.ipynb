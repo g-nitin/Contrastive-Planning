{
 "cells": [
  {
   "metadata": {
    "ExecuteTime": {
     "end_time": "2024-06-20T17:12:55.404890Z",
     "start_time": "2024-06-20T17:12:55.393406Z"
    }
   },
   "cell_type": "code",
   "source": [
    "from dotenv import load_dotenv\n",
    "from os import getenv\n",
    "import textwrap\n",
    "from IPython.display import Markdown\n",
    "from pprint import pprint\n",
    "\n",
    "load_dotenv()\n",
    "HF_API_KEY = f\"Bearer {getenv('HF_API_KEY')}\""
   ],
   "id": "edc62f758ac13531",
   "outputs": [],
   "execution_count": 1
  },
  {
   "metadata": {
    "ExecuteTime": {
     "end_time": "2024-06-20T17:12:56.101626Z",
     "start_time": "2024-06-20T17:12:56.096255Z"
    }
   },
   "cell_type": "code",
   "source": [
    "def to_markdown(text):\n",
    "  text = text.replace('•', '  *')\n",
    "  return Markdown(textwrap.indent(text, '> ', predicate=lambda _: True))"
   ],
   "id": "ab948ba3dee17c1a",
   "outputs": [],
   "execution_count": 2
  },
  {
   "metadata": {
    "ExecuteTime": {
     "end_time": "2024-06-20T17:12:58.086977Z",
     "start_time": "2024-06-20T17:12:58.082130Z"
    }
   },
   "cell_type": "code",
   "source": "from sokoban_prompt import prompt_1 ",
   "id": "8d4bec6eccfa11e0",
   "outputs": [],
   "execution_count": 3
  },
  {
   "cell_type": "code",
   "id": "initial_id",
   "metadata": {
    "collapsed": true,
    "ExecuteTime": {
     "end_time": "2024-06-20T17:13:08.082153Z",
     "start_time": "2024-06-20T17:13:08.032213Z"
    }
   },
   "source": [
    "import requests\n",
    "\n",
    "API_URL = \"https://api-inference.huggingface.co/models/meta-llama/Meta-Llama-3-8B-Instruct\"\n",
    "headers = {\"Authorization\": HF_API_KEY}\n",
    "\n",
    "# The data you want to send to the model with enhanced parameters\n",
    "data = {\n",
    "    \"inputs\": prompt_1,\n",
    "    \"parameters\": {\n",
    "        \"max_length\": 200,  # Increase the max length to allow more complete answers\n",
    "        \"temperature\": 0.7,  # Control the randomness of the output\n",
    "        \"top_p\": 0.9,  # Nucleus sampling\n",
    "        \"stop\": [\"\\n\"]  # Stop at a newline character to avoid incomplete sentences\n",
    "    }\n",
    "}\n"
   ],
   "outputs": [],
   "execution_count": 5
  },
  {
   "metadata": {
    "ExecuteTime": {
     "end_time": "2024-06-20T17:13:08.897931Z",
     "start_time": "2024-06-20T17:13:08.752054Z"
    }
   },
   "cell_type": "code",
   "source": [
    "# Make the POST request to the API\n",
    "response = requests.post(API_URL, headers=headers, json=data)"
   ],
   "id": "1fb68e7dc1759040",
   "outputs": [],
   "execution_count": 6
  },
  {
   "metadata": {
    "ExecuteTime": {
     "end_time": "2024-06-20T17:12:13.916900Z",
     "start_time": "2024-06-20T17:12:13.912228Z"
    }
   },
   "cell_type": "code",
   "source": [
    "# Print the response from the model\n",
    "to_markdown(response.json()[0]['generated_text'])"
   ],
   "id": "de86ce613d624af4",
   "outputs": [
    {
     "data": {
      "text/plain": [
       "<IPython.core.display.Markdown object>"
      ],
      "text/markdown": "> \n> I have a Sokoban problem with the following initial and goal states expressed in PDDL:\n> \n> **Initial and Goal States:**\n> ```\n> \n>     (define (problem s1)\n>         (:domain sokoban)\n>         (:objects sokoban, crate2, l1, l2, l5, l6, l9, l10, l11, l12, l13, l14, l15, l16, l17, l18)\n>         (:init (sokoban sokoban) \n>                (crate crate2)\n> \n>                ;;horizontal relationships\n>                (leftOf l1 l2) \n>                (leftOf l5 l6) \n>                (leftOf l9 l10) (leftOf l10 l11) (leftOf l11 l12) \n>                (leftOf l13 l14) (leftOf l14 l15) (leftOf l15 l16)\n>                (leftOf l17 l18)\n> \n>                ;;vertical relationships\n>                (below l5 l1) (below l6 l2)\n>                (below l9 l5) (below l10 l6)\n>                (below l13 l9) (below l14 l10) (below l15 l11) (below l16 l12)\n>                (below l17 l13) (below l18 l14)\n> \n>                ;;initialize sokoban and crate\n>                (at sokoban l10)\n>                (at crate2 l15) \n> \n>                ;;clear spaces\n>                (clear l1) \n>                (clear l2) \n>                (clear l5) \n>                (clear l6) \n>                (clear l9)\n>                (clear l11)\n>                (clear l12) \n>                (clear l13) \n>                (clear l14)\n>                (clear l16) \n>                (clear l17)   \t\t\t\t\n>                (clear l18))\n> \n>         (:goal (and (at crate2 l2)))\n>     )\n> \n> ```\n> \n> **Generated Solution Plan:**\n> ```\n> \n>     ((moveright sokoban l10 l11)\n>      (moveright sokoban l11 l12)\n>      (movedown sokoban l12 l16)\n>      (pushleft sokoban l16 l15 l14 crate2)\n>      (moveup sokoban l15 l11)\n>      (moveleft sokoban l11 l10)\n>      (moveleft sokoban l10 l9)\n>      (movedown sokoban l9 l13)\n>      (movedown sokoban l13 l17)\n>      (moveright sokoban l17 l18)\n>      (pushup sokoban l18 l14 l10 crate2)\n>      (pushup sokoban l14 l10 l6 crate2)\n>      (pushup sokoban l10 l6 l2 crate2))\n> \n> \n> ```\n> \n> I need you to answer the following question concisely by reasoning through the provided information:\n> \n> **Question:**\n> ```\n> Why is the action moveup used in the solution?\n> ```\n> \n> For context, here is additional information about the specific action mentioned in the question:\n> \n> **Action:**\n> ```\n> moveup\n> ```\n> \n> **Preconditions of the Action:**\n> ```\n> ['sokoban ?sokoban', 'at ?sokoban ?x', 'below ?x ?y', 'clear ?y']\n> ```\n> \n> **Effects of the Action:**\n> ```\n> ['at ?sokoban ?y', 'clear ?x', 'not (at ?sokoban ?x)', 'not (clear ?y)']\n> ```\n> \n> Using this information, please provide a short, logical response that addresses the question.\n> ```python\n"
     },
     "execution_count": 11,
     "metadata": {},
     "output_type": "execute_result"
    }
   ],
   "execution_count": 11
  },
  {
   "metadata": {},
   "cell_type": "code",
   "outputs": [],
   "execution_count": null,
   "source": "## DOES NOT WORK",
   "id": "40774ff913427d38"
  }
 ],
 "metadata": {
  "kernelspec": {
   "display_name": "Python 3",
   "language": "python",
   "name": "python3"
  },
  "language_info": {
   "codemirror_mode": {
    "name": "ipython",
    "version": 2
   },
   "file_extension": ".py",
   "mimetype": "text/x-python",
   "name": "python",
   "nbconvert_exporter": "python",
   "pygments_lexer": "ipython2",
   "version": "2.7.6"
  }
 },
 "nbformat": 4,
 "nbformat_minor": 5
}
