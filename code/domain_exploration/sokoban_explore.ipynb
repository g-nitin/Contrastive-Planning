{
 "cells": [
  {
   "cell_type": "markdown",
   "id": "fc0466f1a9eaa437",
   "metadata": {},
   "source": [
    "# Sokoban Ontology Exploration\n",
    "The file takes in the Sokoban ontology and explores the triples in the ontology."
   ]
  },
  {
   "cell_type": "code",
   "id": "a614f5ddaf6d345",
   "metadata": {
    "ExecuteTime": {
     "end_time": "2024-07-11T17:03:15.533073Z",
     "start_time": "2024-07-11T17:03:15.492516Z"
    }
   },
   "source": [
    "import rdflib\n",
    "from code.templates import rdf_utils\n",
    "from typing import List\n",
    "from pprint import pprint"
   ],
   "outputs": [],
   "execution_count": 1
  },
  {
   "cell_type": "code",
   "id": "initial_id",
   "metadata": {
    "ExecuteTime": {
     "end_time": "2024-07-11T17:03:15.563513Z",
     "start_time": "2024-07-11T17:03:15.534017Z"
    }
   },
   "source": [
    "file_path: str = \"../../data/sokoban/plan-ontology-rdf-instances_sokoban.owl\"\n",
    "g: rdflib.graph.Graph = rdflib.Graph().parse(file_path, format=\"xml\")"
   ],
   "outputs": [],
   "execution_count": 2
  },
  {
   "cell_type": "code",
   "id": "a3808d612aad0c76",
   "metadata": {
    "ExecuteTime": {
     "end_time": "2024-07-11T17:03:15.566164Z",
     "start_time": "2024-07-11T17:03:15.564175Z"
    }
   },
   "source": "print(len(g))",
   "outputs": [
    {
     "name": "stdout",
     "output_type": "stream",
     "text": [
      "860\n"
     ]
    }
   ],
   "execution_count": 3
  },
  {
   "cell_type": "code",
   "id": "7016a8217845a87c",
   "metadata": {
    "ExecuteTime": {
     "end_time": "2024-07-11T17:03:15.568747Z",
     "start_time": "2024-07-11T17:03:15.566669Z"
    }
   },
   "source": [
    "# # Get all triples in the ontology\n",
    "# with open(\"./sokoban_triples.txt\", \"w\") as f:\n",
    "#     for s, p, o in g:\n",
    "#         f.write(f\"{s}\\t{p}\\t{o}\\n\")"
   ],
   "outputs": [],
   "execution_count": 4
  },
  {
   "cell_type": "markdown",
   "id": "47ce913fedf5cd5e",
   "metadata": {},
   "source": [
    "<br>"
   ]
  },
  {
   "cell_type": "code",
   "id": "d5d57199b3d533d",
   "metadata": {
    "ExecuteTime": {
     "end_time": "2024-07-11T17:03:15.638445Z",
     "start_time": "2024-07-11T17:03:15.570680Z"
    }
   },
   "source": [
    "# Get all actions (moveright, moveleft, moveup, movedown, pushright, pushleft, pushup, pushdown)\n",
    "actions: List[str] = rdf_utils.get_actions_from_rdf(g, 'sokoban')\n",
    "print(f\"Actions in the Sokoban domain:\")\n",
    "print(actions)"
   ],
   "outputs": [
    {
     "name": "stdout",
     "output_type": "stream",
     "text": [
      "Actions in the Sokoban domain:\n",
      "['moveleft', 'moveright', 'moveup', 'movedown', 'pushleft', 'pushright', 'pushup', 'pushdown']\n"
     ]
    }
   ],
   "execution_count": 5
  },
  {
   "cell_type": "code",
   "id": "c8aaba17a37d29c4",
   "metadata": {
    "ExecuteTime": {
     "end_time": "2024-07-11T17:03:15.644141Z",
     "start_time": "2024-07-11T17:03:15.639213Z"
    }
   },
   "source": [
    "# Get all parameters for the specified action\n",
    "action = \"pushup\"\n",
    "parameters = rdf_utils.get_parameters_from_rdf(g, action)\n",
    "\n",
    "print(f\"Parameters for {action}:\")\n",
    "print(parameters)"
   ],
   "outputs": [
    {
     "name": "stdout",
     "output_type": "stream",
     "text": [
      "Parameters for pushup:\n",
      "['?sokoban', '?x', '?y', '?z', '?crate']\n"
     ]
    }
   ],
   "execution_count": 6
  },
  {
   "metadata": {
    "ExecuteTime": {
     "end_time": "2024-07-11T17:03:15.649629Z",
     "start_time": "2024-07-11T17:03:15.644674Z"
    }
   },
   "cell_type": "code",
   "source": [
    "# Get all preconditions for the specified action\n",
    "action = \"pushup\"\n",
    "preconditions = rdf_utils.get_preconditions_from_rdf(g, action)\n",
    "\n",
    "print(f\"Preconditions for {action}:\")\n",
    "print(preconditions)"
   ],
   "id": "3c75a146976c3a16",
   "outputs": [
    {
     "name": "stdout",
     "output_type": "stream",
     "text": [
      "Preconditions for pushup:\n",
      "['sokoban ?sokoban', 'crate ?crate', 'below ?x ?y', 'below ?y ?z', 'at ?sokoban ?x', 'at ?crate ?y', 'clear ?z']\n"
     ]
    }
   ],
   "execution_count": 7
  },
  {
   "metadata": {
    "ExecuteTime": {
     "end_time": "2024-07-11T17:03:15.655066Z",
     "start_time": "2024-07-11T17:03:15.650210Z"
    }
   },
   "cell_type": "code",
   "source": [
    "# Get all effects for the specified action\n",
    "action = \"pushup\"\n",
    "effects = rdf_utils.get_effects_from_rdf(g, action)\n",
    "\n",
    "print(f\"Effects for {action}:\")\n",
    "print(effects)"
   ],
   "id": "70df7f741925dfda",
   "outputs": [
    {
     "name": "stdout",
     "output_type": "stream",
     "text": [
      "Effects for pushup:\n",
      "['at ?sokoban ?y', 'at ?crate ?z', 'clear ?x', 'not (at ?sokoban ?x)', 'not (at ?crate ?y)', 'not (clear ?y)', 'not (clear ?z)']\n"
     ]
    }
   ],
   "execution_count": 8
  },
  {
   "metadata": {
    "ExecuteTime": {
     "end_time": "2024-07-11T17:03:15.706003Z",
     "start_time": "2024-07-11T17:03:15.655844Z"
    }
   },
   "cell_type": "code",
   "source": [
    "action_details = dict.fromkeys(actions)  # Dictionary to store all details for each action\n",
    "\n",
    "for action in actions:\n",
    "    # Get all preconditions & effects for the specified action\n",
    "    # Store in the dictionary\n",
    "    action_details[action] = (rdf_utils.get_preconditions_from_rdf(g, action), rdf_utils.get_effects_from_rdf(g, action))"
   ],
   "id": "901ddada23e9b266",
   "outputs": [],
   "execution_count": 9
  },
  {
   "metadata": {
    "ExecuteTime": {
     "end_time": "2024-07-11T17:03:15.709663Z",
     "start_time": "2024-07-11T17:03:15.707095Z"
    }
   },
   "cell_type": "code",
   "source": "pprint(action_details)",
   "id": "75382f0fb9781bef",
   "outputs": [
    {
     "name": "stdout",
     "output_type": "stream",
     "text": [
      "{'movedown': (['sokoban ?sokoban', 'at ?sokoban ?x', 'below ?y ?x', 'clear ?y'],\n",
      "              ['at ?sokoban ?y',\n",
      "               'clear ?x',\n",
      "               'not (at ?sokoban ?x)',\n",
      "               'not (clear ?y)']),\n",
      " 'moveleft': (['sokoban ?sokoban',\n",
      "               'at ?sokoban ?x',\n",
      "               'leftOf ?y ?x',\n",
      "               'clear ?y'],\n",
      "              ['at ?sokoban ?y',\n",
      "               'clear ?x',\n",
      "               'not (at ?sokoban ?x)',\n",
      "               'not (clear ?y)']),\n",
      " 'moveright': (['sokoban ?sokoban',\n",
      "                'at ?sokoban ?x',\n",
      "                'leftOf ?x ?y',\n",
      "                'clear ?y'],\n",
      "               ['at ?sokoban ?y',\n",
      "                'clear ?x',\n",
      "                'not (at ?sokoban ?x)',\n",
      "                'not (clear ?y)']),\n",
      " 'moveup': (['sokoban ?sokoban', 'at ?sokoban ?x', 'below ?x ?y', 'clear ?y'],\n",
      "            ['at ?sokoban ?y',\n",
      "             'clear ?x',\n",
      "             'not (at ?sokoban ?x)',\n",
      "             'not (clear ?y)']),\n",
      " 'pushdown': (['sokoban ?sokoban',\n",
      "               'crate ?crate',\n",
      "               'below ?y ?x',\n",
      "               'below ?z ?y',\n",
      "               'at ?sokoban ?x',\n",
      "               'at ?crate ?y',\n",
      "               'clear ?z'],\n",
      "              ['at ?sokoban ?y',\n",
      "               'at ?crate ?z',\n",
      "               'clear ?x',\n",
      "               'not (at ?sokoban ?x)',\n",
      "               'not (at ?crate ?y)',\n",
      "               'not (clear ?y)',\n",
      "               'not (clear ?z)']),\n",
      " 'pushleft': (['sokoban ?sokoban',\n",
      "               'crate ?crate',\n",
      "               'leftOf ?y ?x',\n",
      "               'leftOf ?z ?y',\n",
      "               'destination for block',\n",
      "               'at ?sokoban ?x',\n",
      "               'at ?crate ?y',\n",
      "               'clear ?z'],\n",
      "              ['at ?sokoban ?y',\n",
      "               'at ?crate ?z',\n",
      "               'clear ?x',\n",
      "               'not (at ?sokoban ?x)',\n",
      "               'not (at ?crate ?y)',\n",
      "               'not (clear ?z)',\n",
      "               'not (clear ?y)']),\n",
      " 'pushright': (['sokoban ?sokoban',\n",
      "                'crate ?crate',\n",
      "                'leftOf ?x ?y',\n",
      "                'leftOf ?y ?z',\n",
      "                'at ?sokoban ?x',\n",
      "                'at ?crate ?y',\n",
      "                'clear ?z'],\n",
      "               ['at ?sokoban ?y',\n",
      "                'at ?crate ?z',\n",
      "                'clear ?x',\n",
      "                'not (at ?sokoban ?x)',\n",
      "                'not (at ?crate ?y)',\n",
      "                'not (clear ?z)',\n",
      "                'not (clear ?y)']),\n",
      " 'pushup': (['sokoban ?sokoban',\n",
      "             'crate ?crate',\n",
      "             'below ?x ?y',\n",
      "             'below ?y ?z',\n",
      "             'at ?sokoban ?x',\n",
      "             'at ?crate ?y',\n",
      "             'clear ?z'],\n",
      "            ['at ?sokoban ?y',\n",
      "             'at ?crate ?z',\n",
      "             'clear ?x',\n",
      "             'not (at ?sokoban ?x)',\n",
      "             'not (at ?crate ?y)',\n",
      "             'not (clear ?y)',\n",
      "             'not (clear ?z)'])}\n"
     ]
    }
   ],
   "execution_count": 10
  }
 ],
 "metadata": {
  "kernelspec": {
   "display_name": "Python 3 (ipykernel)",
   "language": "python",
   "name": "python3"
  },
  "language_info": {
   "codemirror_mode": {
    "name": "ipython",
    "version": 3
   },
   "file_extension": ".py",
   "mimetype": "text/x-python",
   "name": "python",
   "nbconvert_exporter": "python",
   "pygments_lexer": "ipython3",
   "version": "3.11.8"
  }
 },
 "nbformat": 4,
 "nbformat_minor": 5
}
