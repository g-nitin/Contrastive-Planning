{
 "cells": [
  {
   "metadata": {},
   "cell_type": "markdown",
   "source": [
    "# Sentence Similarity\n",
    "Sentence similarity involves converting sentences into high-dimensional vector representations and then calculating the similarity between these vectors. \n",
    "\n",
    "This is typically done using pre-trained models that generate sentence embeddings. These embeddings can be used to calculate the similarity between sentences using cosine similarity or other distance metrics."
   ],
   "id": "8164ed30d2ac61a0"
  },
  {
   "metadata": {},
   "cell_type": "markdown",
   "source": "## Single Sentence Example",
   "id": "321fda4a1acdd8ce"
  },
  {
   "metadata": {
    "ExecuteTime": {
     "end_time": "2024-05-31T21:32:50.605496Z",
     "start_time": "2024-05-31T21:32:47.907529Z"
    }
   },
   "cell_type": "code",
   "source": "from sentence_transformers import SentenceTransformer, util",
   "id": "d672e1e36977bed1",
   "outputs": [
    {
     "name": "stderr",
     "output_type": "stream",
     "text": [
      "/Users/nitingupta/miniconda3/envs/auto-plan/lib/python3.11/site-packages/sentence_transformers/cross_encoder/CrossEncoder.py:11: TqdmExperimentalWarning: Using `tqdm.autonotebook.tqdm` in notebook mode. Use `tqdm.tqdm` instead to force console mode (e.g. in jupyter console)\n",
      "  from tqdm.autonotebook import tqdm, trange\n"
     ]
    }
   ],
   "execution_count": 1
  },
  {
   "cell_type": "code",
   "id": "initial_id",
   "metadata": {
    "collapsed": true,
    "ExecuteTime": {
     "end_time": "2024-05-31T21:32:51.843438Z",
     "start_time": "2024-05-31T21:32:50.606427Z"
    }
   },
   "source": [
    "# Load an example pre-trained sentence transformer models\n",
    "model_miniLM = SentenceTransformer('paraphrase-MiniLM-L6-v2')"
   ],
   "outputs": [
    {
     "name": "stderr",
     "output_type": "stream",
     "text": [
      "/Users/nitingupta/miniconda3/envs/auto-plan/lib/python3.11/site-packages/huggingface_hub/file_download.py:1132: FutureWarning: `resume_download` is deprecated and will be removed in version 1.0.0. Downloads always resume when possible. If you want to force a new download, use `force_download=True`.\n",
      "  warnings.warn(\n"
     ]
    }
   ],
   "execution_count": 2
  },
  {
   "metadata": {
    "ExecuteTime": {
     "end_time": "2024-05-31T21:33:24.158012Z",
     "start_time": "2024-05-31T21:33:23.630026Z"
    }
   },
   "cell_type": "code",
   "source": [
    "# Intent questions for each category\n",
    "intents = {\n",
    "    1: [\"Why is action A not used in the plan?\"],\n",
    "    2: [\"Why is action A used in the plan?\"],\n",
    "    3: [\"Why is action A used rather than action B?\"]\n",
    "}\n",
    "\n",
    "# Encode example questions\n",
    "intent_embeddings_miniLM = {k: model_miniLM.encode(v) for k, v in intents.items()}"
   ],
   "id": "d08ee4abd79e1382",
   "outputs": [],
   "execution_count": 3
  },
  {
   "metadata": {
    "ExecuteTime": {
     "end_time": "2024-05-31T21:33:29.487236Z",
     "start_time": "2024-05-31T21:33:29.484244Z"
    }
   },
   "cell_type": "code",
   "source": [
    "def categorize_question_similarity(question, model, intent_embeddings):\n",
    "    question_embedding = model.encode(question)  # Encode the input question\n",
    "\n",
    "    # Compute similarity scores\n",
    "    scores = {k: util.pytorch_cos_sim(question_embedding, v).item() for k, v in intent_embeddings.items()}\n",
    "    \n",
    "    # Find the category with the highest similarity score\n",
    "    return max(scores, key=scores.get)"
   ],
   "id": "b9d8aab2e3147be8",
   "outputs": [],
   "execution_count": 4
  },
  {
   "metadata": {
    "ExecuteTime": {
     "end_time": "2024-05-31T21:33:44.603533Z",
     "start_time": "2024-05-31T21:33:44.311243Z"
    }
   },
   "cell_type": "code",
   "source": [
    "question = \"Why is action A used rather than action B?\"\n",
    "category = categorize_question_similarity(question, model_miniLM, intent_embeddings_miniLM)\n",
    "print(f\"The question belongs to category: {category}\")"
   ],
   "id": "af5e498a9fe524f8",
   "outputs": [
    {
     "name": "stdout",
     "output_type": "stream",
     "text": [
      "The question belongs to category: 3\n"
     ]
    }
   ],
   "execution_count": 5
  },
  {
   "metadata": {},
   "cell_type": "markdown",
   "source": "<br>",
   "id": "8b92c9bfcf9c38b4"
  },
  {
   "metadata": {},
   "cell_type": "markdown",
   "source": "## Evaluate Different Models on the Dataset",
   "id": "4c492452f4fc935"
  },
  {
   "metadata": {
    "ExecuteTime": {
     "end_time": "2024-05-31T21:33:49.032194Z",
     "start_time": "2024-05-31T21:33:49.015867Z"
    }
   },
   "cell_type": "code",
   "source": [
    "import pandas as pd\n",
    "from sklearn.metrics import classification_report, accuracy_score\n",
    "\n",
    "df = pd.read_csv('./data/intent_classification_dataset.csv')\n",
    "print(f\"Number of rows in the dataset: {df.shape[0]}\")\n",
    "df.head()"
   ],
   "id": "f83fb0d47f3b553d",
   "outputs": [
    {
     "name": "stdout",
     "output_type": "stream",
     "text": [
      "Number of rows in the dataset: 107\n"
     ]
    },
    {
     "data": {
      "text/plain": [
       "                                                text  label\n",
       "0  Why is action A not included in the project ro...      1\n",
       "1  What are the reasons for excluding action A fr...      1\n",
       "2        Why was action A omitted from the strategy?      1\n",
       "3  Why didn't we consider action A for the projec...      1\n",
       "4       Why was action A left out of the final plan?      1"
      ],
      "text/html": [
       "<div>\n",
       "<style scoped>\n",
       "    .dataframe tbody tr th:only-of-type {\n",
       "        vertical-align: middle;\n",
       "    }\n",
       "\n",
       "    .dataframe tbody tr th {\n",
       "        vertical-align: top;\n",
       "    }\n",
       "\n",
       "    .dataframe thead th {\n",
       "        text-align: right;\n",
       "    }\n",
       "</style>\n",
       "<table border=\"1\" class=\"dataframe\">\n",
       "  <thead>\n",
       "    <tr style=\"text-align: right;\">\n",
       "      <th></th>\n",
       "      <th>text</th>\n",
       "      <th>label</th>\n",
       "    </tr>\n",
       "  </thead>\n",
       "  <tbody>\n",
       "    <tr>\n",
       "      <th>0</th>\n",
       "      <td>Why is action A not included in the project ro...</td>\n",
       "      <td>1</td>\n",
       "    </tr>\n",
       "    <tr>\n",
       "      <th>1</th>\n",
       "      <td>What are the reasons for excluding action A fr...</td>\n",
       "      <td>1</td>\n",
       "    </tr>\n",
       "    <tr>\n",
       "      <th>2</th>\n",
       "      <td>Why was action A omitted from the strategy?</td>\n",
       "      <td>1</td>\n",
       "    </tr>\n",
       "    <tr>\n",
       "      <th>3</th>\n",
       "      <td>Why didn't we consider action A for the projec...</td>\n",
       "      <td>1</td>\n",
       "    </tr>\n",
       "    <tr>\n",
       "      <th>4</th>\n",
       "      <td>Why was action A left out of the final plan?</td>\n",
       "      <td>1</td>\n",
       "    </tr>\n",
       "  </tbody>\n",
       "</table>\n",
       "</div>"
      ]
     },
     "execution_count": 6,
     "metadata": {},
     "output_type": "execute_result"
    }
   ],
   "execution_count": 6
  },
  {
   "metadata": {
    "ExecuteTime": {
     "end_time": "2024-05-31T21:34:48.979261Z",
     "start_time": "2024-05-31T21:34:48.976464Z"
    }
   },
   "cell_type": "code",
   "source": [
    "def text_similarity_from_model(model_name, df):\n",
    "    model = SentenceTransformer(model_name)\n",
    "    intent_embeddings = {k: model.encode(v) for k, v in intents.items()}\n",
    "\n",
    "    # Apply the classification function to the dataset\n",
    "    df['predicted_label'] = df['text'].apply(categorize_question_similarity, model=model, intent_embeddings=intent_embeddings)\n",
    "    \n",
    "    # Evaluate the results\n",
    "    y_true = df['label']\n",
    "    y_pred = df['predicted_label']\n",
    "    \n",
    "    return classification_report(y_true, y_pred), accuracy_score(y_true, y_pred)"
   ],
   "id": "8722dce0e62d92a8",
   "outputs": [],
   "execution_count": 9
  },
  {
   "metadata": {
    "ExecuteTime": {
     "end_time": "2024-05-31T21:34:58.090739Z",
     "start_time": "2024-05-31T21:34:54.340742Z"
    }
   },
   "cell_type": "code",
   "source": [
    "class_report, accuracy = text_similarity_from_model(\"paraphrase-MiniLM-L6-v2\", df)\n",
    "print(class_report)\n",
    "print(f\"Accuracy: {accuracy:.2f}\")"
   ],
   "id": "df34b03400059564",
   "outputs": [
    {
     "name": "stderr",
     "output_type": "stream",
     "text": [
      "/Users/nitingupta/miniconda3/envs/auto-plan/lib/python3.11/site-packages/huggingface_hub/file_download.py:1132: FutureWarning: `resume_download` is deprecated and will be removed in version 1.0.0. Downloads always resume when possible. If you want to force a new download, use `force_download=True`.\n",
      "  warnings.warn(\n"
     ]
    },
    {
     "name": "stdout",
     "output_type": "stream",
     "text": [
      "              precision    recall  f1-score   support\n",
      "\n",
      "           1       0.89      0.69      0.78        36\n",
      "           2       0.55      1.00      0.71        35\n",
      "           3       1.00      0.42      0.59        36\n",
      "\n",
      "    accuracy                           0.70       107\n",
      "   macro avg       0.81      0.70      0.69       107\n",
      "weighted avg       0.82      0.70      0.69       107\n",
      "\n",
      "Accuracy: 0.70\n"
     ]
    }
   ],
   "execution_count": 10
  },
  {
   "metadata": {
    "ExecuteTime": {
     "end_time": "2024-05-31T21:35:06.510358Z",
     "start_time": "2024-05-31T21:35:03.735043Z"
    }
   },
   "cell_type": "code",
   "source": [
    "class_report, accuracy = text_similarity_from_model(\"all-MiniLM-L12-v2\", df)\n",
    "print(class_report)\n",
    "print(f\"Accuracy: {accuracy:.2f}\")"
   ],
   "id": "3a8e1dbcbd1bcc7",
   "outputs": [
    {
     "name": "stderr",
     "output_type": "stream",
     "text": [
      "/Users/nitingupta/miniconda3/envs/auto-plan/lib/python3.11/site-packages/huggingface_hub/file_download.py:1132: FutureWarning: `resume_download` is deprecated and will be removed in version 1.0.0. Downloads always resume when possible. If you want to force a new download, use `force_download=True`.\n",
      "  warnings.warn(\n"
     ]
    },
    {
     "name": "stdout",
     "output_type": "stream",
     "text": [
      "              precision    recall  f1-score   support\n",
      "\n",
      "           1       0.68      0.94      0.79        36\n",
      "           2       0.76      0.71      0.74        35\n",
      "           3       0.96      0.64      0.77        36\n",
      "\n",
      "    accuracy                           0.77       107\n",
      "   macro avg       0.80      0.77      0.76       107\n",
      "weighted avg       0.80      0.77      0.76       107\n",
      "\n",
      "Accuracy: 0.77\n"
     ]
    }
   ],
   "execution_count": 12
  }
 ],
 "metadata": {
  "kernelspec": {
   "display_name": "Python 3",
   "language": "python",
   "name": "python3"
  },
  "language_info": {
   "codemirror_mode": {
    "name": "ipython",
    "version": 2
   },
   "file_extension": ".py",
   "mimetype": "text/x-python",
   "name": "python",
   "nbconvert_exporter": "python",
   "pygments_lexer": "ipython2",
   "version": "2.7.6"
  }
 },
 "nbformat": 4,
 "nbformat_minor": 5
}
