{
 "cells": [
  {
   "metadata": {},
   "cell_type": "markdown",
   "source": [
    "# Intent Classification\n",
    "\n",
    "In this notebook, we will use a pre-trained BERT model to classify the intent of a question. We will use a dataset of questions and their corresponding intents to train the model. The model will be fine-tuned on the dataset and then used to classify new questions into one of the intents.\n",
    "\n",
    "Creating an NLP-based framework to parse the input question to categorize the intent into one of the question types.\n",
    "\n",
    "Question Types:\n",
    "1. Why is action A not used in the plan, rather than being used?\n",
    "2. Why is action A used in the plan, rather than not being used?\n",
    "3. Why is action A used in state S, rather than action B?"
   ],
   "id": "dcecb722901a0cf"
  },
  {
   "metadata": {
    "ExecuteTime": {
     "end_time": "2024-06-02T01:34:47.588619Z",
     "start_time": "2024-06-02T01:34:47.582020Z"
    }
   },
   "cell_type": "code",
   "source": [
    "import pandas as pd\n",
    "from sklearn.model_selection import train_test_split\n",
    "from transformers import BertTokenizer, BertForSequenceClassification, Trainer, TrainingArguments\n",
    "from datasets import Dataset\n",
    "import torch\n",
    "from sklearn.metrics import classification_report, accuracy_score"
   ],
   "id": "504e579e5c41434a",
   "outputs": [],
   "execution_count": 2
  },
  {
   "metadata": {
    "ExecuteTime": {
     "end_time": "2024-06-02T01:34:47.616457Z",
     "start_time": "2024-06-02T01:34:47.595535Z"
    }
   },
   "cell_type": "code",
   "source": [
    "# Load the CSV file into a DataFrame\n",
    "df = pd.read_csv('./data/intent_classification_dataset.csv')\n",
    "\n",
    "# Display the first few rows of the DataFrame\n",
    "print(f\"Number of rows in the dataset: {df.shape[0]}\")\n",
    "df.head()"
   ],
   "id": "29fec4456d2eb9d3",
   "outputs": [
    {
     "name": "stdout",
     "output_type": "stream",
     "text": [
      "Number of rows in the dataset: 346\n"
     ]
    },
    {
     "data": {
      "text/plain": [
       "                                                text  label\n",
       "0           Why was action A excluded from the plan?      1\n",
       "1  What were the reasons for omitting action A fr...      1\n",
       "2  Can you explain why action A was not considere...      1\n",
       "3              Why didn't the plan include action A?      1\n",
       "4  What is the rationale for not using action A i...      1"
      ],
      "text/html": [
       "<div>\n",
       "<style scoped>\n",
       "    .dataframe tbody tr th:only-of-type {\n",
       "        vertical-align: middle;\n",
       "    }\n",
       "\n",
       "    .dataframe tbody tr th {\n",
       "        vertical-align: top;\n",
       "    }\n",
       "\n",
       "    .dataframe thead th {\n",
       "        text-align: right;\n",
       "    }\n",
       "</style>\n",
       "<table border=\"1\" class=\"dataframe\">\n",
       "  <thead>\n",
       "    <tr style=\"text-align: right;\">\n",
       "      <th></th>\n",
       "      <th>text</th>\n",
       "      <th>label</th>\n",
       "    </tr>\n",
       "  </thead>\n",
       "  <tbody>\n",
       "    <tr>\n",
       "      <th>0</th>\n",
       "      <td>Why was action A excluded from the plan?</td>\n",
       "      <td>1</td>\n",
       "    </tr>\n",
       "    <tr>\n",
       "      <th>1</th>\n",
       "      <td>What were the reasons for omitting action A fr...</td>\n",
       "      <td>1</td>\n",
       "    </tr>\n",
       "    <tr>\n",
       "      <th>2</th>\n",
       "      <td>Can you explain why action A was not considere...</td>\n",
       "      <td>1</td>\n",
       "    </tr>\n",
       "    <tr>\n",
       "      <th>3</th>\n",
       "      <td>Why didn't the plan include action A?</td>\n",
       "      <td>1</td>\n",
       "    </tr>\n",
       "    <tr>\n",
       "      <th>4</th>\n",
       "      <td>What is the rationale for not using action A i...</td>\n",
       "      <td>1</td>\n",
       "    </tr>\n",
       "  </tbody>\n",
       "</table>\n",
       "</div>"
      ]
     },
     "execution_count": 3,
     "metadata": {},
     "output_type": "execute_result"
    }
   ],
   "execution_count": 3
  },
  {
   "metadata": {
    "ExecuteTime": {
     "end_time": "2024-06-02T01:34:47.634940Z",
     "start_time": "2024-06-02T01:34:47.619579Z"
    }
   },
   "cell_type": "code",
   "source": [
    "# Train/test split\n",
    "train_df, test_df = train_test_split(df, test_size=0.2, random_state=13, stratify=df['label'])\n",
    "\n",
    "# Convert DataFrame to Hugging Face Dataset\n",
    "train_dataset = Dataset.from_pandas(train_df)\n",
    "test_dataset = Dataset.from_pandas(test_df)"
   ],
   "id": "49e23b66cb8e07d",
   "outputs": [],
   "execution_count": 4
  },
  {
   "metadata": {
    "ExecuteTime": {
     "end_time": "2024-06-02T01:34:48.586730Z",
     "start_time": "2024-06-02T01:34:47.637230Z"
    }
   },
   "cell_type": "code",
   "source": [
    "# Tokenizer\n",
    "tokenizer = BertTokenizer.from_pretrained('bert-base-uncased')\n",
    "\n",
    "# Tokenization function\n",
    "def tokenize_function(examples):\n",
    "    return tokenizer(examples['text'], padding=\"max_length\", truncation=True, max_length=128)\n",
    "\n",
    "# Tokenize datasets\n",
    "tokenized_train = train_dataset.map(tokenize_function, batched=True)\n",
    "tokenized_test = test_dataset.map(tokenize_function, batched=True)"
   ],
   "id": "2ef3f28e8f9fce70",
   "outputs": [
    {
     "data": {
      "text/plain": [
       "Map:   0%|          | 0/276 [00:00<?, ? examples/s]"
      ],
      "application/vnd.jupyter.widget-view+json": {
       "version_major": 2,
       "version_minor": 0,
       "model_id": "d79b8c22af304533be33d6fdbad33b65"
      }
     },
     "metadata": {},
     "output_type": "display_data"
    },
    {
     "data": {
      "text/plain": [
       "Map:   0%|          | 0/70 [00:00<?, ? examples/s]"
      ],
      "application/vnd.jupyter.widget-view+json": {
       "version_major": 2,
       "version_minor": 0,
       "model_id": "2105451e5f8e4b3e95a698354b98c239"
      }
     },
     "metadata": {},
     "output_type": "display_data"
    }
   ],
   "execution_count": 5
  },
  {
   "metadata": {
    "ExecuteTime": {
     "end_time": "2024-06-02T01:34:48.609771Z",
     "start_time": "2024-06-02T01:34:48.592546Z"
    }
   },
   "cell_type": "code",
   "source": [
    "def get_best_available_device():\n",
    "    if torch.cuda.is_available():\n",
    "        return torch.device(\"cuda\")\n",
    "    elif torch.backends.mps.is_available():\n",
    "        return torch.device(\"mps\")\n",
    "    else:\n",
    "        return torch.device(\"cpu\")\n",
    "\n",
    "device = get_best_available_device()\n",
    "print(f\"Using device: {device}\")"
   ],
   "id": "50a0a8a5271d074e",
   "outputs": [
    {
     "name": "stdout",
     "output_type": "stream",
     "text": [
      "Using device: mps\n"
     ]
    }
   ],
   "execution_count": 6
  },
  {
   "metadata": {
    "ExecuteTime": {
     "end_time": "2024-06-02T01:34:49.900032Z",
     "start_time": "2024-06-02T01:34:48.611520Z"
    }
   },
   "cell_type": "code",
   "source": [
    "# Load pre-trained BERT models for sequence classification\n",
    "model = BertForSequenceClassification.from_pretrained('bert-base-uncased', num_labels=3)\n",
    "model.to(device);"
   ],
   "id": "8d27c2abcc16db7d",
   "outputs": [
    {
     "name": "stderr",
     "output_type": "stream",
     "text": [
      "Some weights of BertForSequenceClassification were not initialized from the model checkpoint at bert-base-uncased and are newly initialized: ['classifier.bias', 'classifier.weight']\n",
      "You should probably TRAIN this model on a down-stream task to be able to use it for predictions and inference.\n"
     ]
    }
   ],
   "execution_count": 7
  },
  {
   "metadata": {
    "ExecuteTime": {
     "end_time": "2024-06-02T01:36:26.335085Z",
     "start_time": "2024-06-02T01:34:49.901211Z"
    }
   },
   "cell_type": "code",
   "source": [
    "# Training arguments\n",
    "training_args = TrainingArguments(\n",
    "    output_dir='./results',\n",
    "    num_train_epochs=3,\n",
    "    per_device_train_batch_size=8,\n",
    "    per_device_eval_batch_size=8,\n",
    "    eval_strategy=\"epoch\",\n",
    "    save_steps=10_000,\n",
    "    save_total_limit=2,\n",
    ")\n",
    "\n",
    "# Trainer\n",
    "trainer = Trainer(\n",
    "    model=model,\n",
    "    args=training_args,\n",
    "    train_dataset=tokenized_train,\n",
    "    eval_dataset=tokenized_test,\n",
    ")\n",
    "\n",
    "# Train the models\n",
    "trainer.train()"
   ],
   "id": "8563920f5fab9139",
   "outputs": [
    {
     "data": {
      "text/plain": [
       "<IPython.core.display.HTML object>"
      ],
      "text/html": [
       "\n",
       "    <div>\n",
       "      \n",
       "      <progress value='105' max='105' style='width:300px; height:20px; vertical-align: middle;'></progress>\n",
       "      [105/105 01:34, Epoch 3/3]\n",
       "    </div>\n",
       "    <table border=\"1\" class=\"dataframe\">\n",
       "  <thead>\n",
       " <tr style=\"text-align: left;\">\n",
       "      <th>Epoch</th>\n",
       "      <th>Training Loss</th>\n",
       "      <th>Validation Loss</th>\n",
       "    </tr>\n",
       "  </thead>\n",
       "  <tbody>\n",
       "    <tr>\n",
       "      <td>1</td>\n",
       "      <td>No log</td>\n",
       "      <td>0.396453</td>\n",
       "    </tr>\n",
       "    <tr>\n",
       "      <td>2</td>\n",
       "      <td>No log</td>\n",
       "      <td>0.051280</td>\n",
       "    </tr>\n",
       "    <tr>\n",
       "      <td>3</td>\n",
       "      <td>No log</td>\n",
       "      <td>0.011981</td>\n",
       "    </tr>\n",
       "  </tbody>\n",
       "</table><p>"
      ]
     },
     "metadata": {},
     "output_type": "display_data"
    },
    {
     "data": {
      "text/plain": [
       "TrainOutput(global_step=105, training_loss=0.22585845220656622, metrics={'train_runtime': 96.3005, 'train_samples_per_second': 8.598, 'train_steps_per_second': 1.09, 'total_flos': 54464477469696.0, 'train_loss': 0.22585845220656622, 'epoch': 3.0})"
      ]
     },
     "execution_count": 8,
     "metadata": {},
     "output_type": "execute_result"
    }
   ],
   "execution_count": 8
  },
  {
   "metadata": {
    "ExecuteTime": {
     "end_time": "2024-06-02T01:36:28.276843Z",
     "start_time": "2024-06-02T01:36:26.338557Z"
    }
   },
   "cell_type": "code",
   "source": [
    "# Evaluate the models\n",
    "results = trainer.evaluate()\n",
    "print(results)"
   ],
   "id": "694ada87b60c09ac",
   "outputs": [
    {
     "data": {
      "text/plain": [
       "<IPython.core.display.HTML object>"
      ],
      "text/html": [
       "\n",
       "    <div>\n",
       "      \n",
       "      <progress value='9' max='9' style='width:300px; height:20px; vertical-align: middle;'></progress>\n",
       "      [9/9 00:01]\n",
       "    </div>\n",
       "    "
      ]
     },
     "metadata": {},
     "output_type": "display_data"
    },
    {
     "name": "stdout",
     "output_type": "stream",
     "text": [
      "{'eval_loss': 0.011981322430074215, 'eval_runtime': 1.9274, 'eval_samples_per_second': 36.318, 'eval_steps_per_second': 4.669, 'epoch': 3.0}\n"
     ]
    }
   ],
   "execution_count": 9
  },
  {
   "metadata": {
    "ExecuteTime": {
     "end_time": "2024-06-02T01:36:28.289107Z",
     "start_time": "2024-06-02T01:36:28.280417Z"
    }
   },
   "cell_type": "code",
   "source": [
    "# Function to classify new questions\n",
    "def classify_question(question):\n",
    "    inputs = tokenizer(question, return_tensors=\"pt\", padding=True, truncation=True, max_length=128).to(device)\n",
    "    outputs = model(**inputs)\n",
    "    prediction = torch.argmax(outputs.logits, dim=1)\n",
    "    return prediction.item()"
   ],
   "id": "93be06c9eef99085",
   "outputs": [],
   "execution_count": 10
  },
  {
   "metadata": {
    "ExecuteTime": {
     "end_time": "2024-06-02T01:36:31.881126Z",
     "start_time": "2024-06-02T01:36:28.292654Z"
    }
   },
   "cell_type": "code",
   "source": [
    "# Predict and compare\n",
    "test_df['predicted_label'] = test_df['text'].apply(classify_question)\n",
    "y_true = test_df['label']\n",
    "y_pred = test_df['predicted_label']"
   ],
   "id": "5cb18a1c0f8a0cb1",
   "outputs": [],
   "execution_count": 11
  },
  {
   "metadata": {
    "ExecuteTime": {
     "end_time": "2024-06-02T01:36:31.900349Z",
     "start_time": "2024-06-02T01:36:31.882559Z"
    }
   },
   "cell_type": "code",
   "source": [
    "# Print the classification report\n",
    "print(classification_report(y_true, y_pred, zero_division=0.0))\n",
    "print(f\"Accuracy: {accuracy_score(y_true, y_pred):.2f}\")"
   ],
   "id": "e4a769592b1ef538",
   "outputs": [
    {
     "name": "stdout",
     "output_type": "stream",
     "text": [
      "              precision    recall  f1-score   support\n",
      "\n",
      "           1       0.73      1.00      0.84        24\n",
      "           2       0.62      1.00      0.77        23\n",
      "           3       0.00      0.00      0.00        23\n",
      "\n",
      "    accuracy                           0.67        70\n",
      "   macro avg       0.45      0.67      0.54        70\n",
      "weighted avg       0.45      0.67      0.54        70\n",
      "\n",
      "Accuracy: 0.67\n"
     ]
    }
   ],
   "execution_count": 12
  }
 ],
 "metadata": {
  "kernelspec": {
   "display_name": "Python 3",
   "language": "python",
   "name": "python3"
  },
  "language_info": {
   "codemirror_mode": {
    "name": "ipython",
    "version": 2
   },
   "file_extension": ".py",
   "mimetype": "text/x-python",
   "name": "python",
   "nbconvert_exporter": "python",
   "pygments_lexer": "ipython2",
   "version": "2.7.6"
  }
 },
 "nbformat": 4,
 "nbformat_minor": 5
}
